{
 "nbformat": 4,
 "nbformat_minor": 0,
 "metadata": {
  "colab": {
   "provenance": [],
   "mount_file_id": "1vLnyyZi0qDs3YGVGCNtYLRqh_uxxLglt",
   "authorship_tag": "ABX9TyO6U8lGP8S3LN1DL/meyVIP"
  },
  "kernelspec": {
   "name": "python3",
   "language": "python",
   "display_name": "Python 3 (ipykernel)"
  },
  "language_info": {
   "name": "python"
  }
 },
 "cells": [
  {
   "cell_type": "code",
   "execution_count": 1,
   "metadata": {
    "id": "1lj5bdpouzbE",
    "executionInfo": {
     "status": "ok",
     "timestamp": 1723821120476,
     "user_tz": -180,
     "elapsed": 1905,
     "user": {
      "displayName": "öner tartan",
      "userId": "15982345773583695137"
     }
    },
    "ExecuteTime": {
     "end_time": "2024-09-21T14:51:26.259793Z",
     "start_time": "2024-09-21T14:51:25.378780800Z"
    }
   },
   "outputs": [],
   "source": [
    "import os\n",
    "import pandas as pd\n",
    "from turkish_string import title_tr"
   ]
  },
  {
   "cell_type": "markdown",
   "source": [
    "# Data Pre-Processing\n",
    "We will read, pre-process and save excel files.<br>\n",
    "First let's define some dictionaries to translate column names."
   ],
   "metadata": {
    "id": "gqaBeRuFvAuZ"
   }
  },
  {
   "cell_type": "code",
   "source": [
    "# Common function to pre-process region-base files\n",
    "def process_column(col, col_dicts):\n",
    "    parts = col.split(\" ve \")\n",
    "    # Extract multi-level columns and translete using related dictionaries\n",
    "    result = []\n",
    "    for i, col_dict in enumerate(col_dicts):\n",
    "          result.append(col_dict.get(parts[i], parts[i] ))\n",
    "    return tuple(result)\n",
    "\n",
    "def data_preprocess(file_path,geo_scale,col_dicts,names,need_pivot_conversion=False):\n",
    "    skiprows=5 # skip 5 rows for countrywide files\n",
    "    new_col_names= {'Unnamed: 0': 'year'}\n",
    "    new_index = [\"year\"]\n",
    "    place_colum_dict={\"ibbs3\":\"province\",\"ibbs2\":\"sub-region\",\"ibbs1\":\"region\",\"district\":\"district\"}\n",
    "    if \"turkey\" not in geo_scale:\n",
    "        new_col_names[\"Unnamed: 1\"] =  \"place\"\n",
    "        new_index.append(place_colum_dict[geo_scale])\n",
    "        skiprows=4 # skip 4 rows for regional scale files\n",
    "\n",
    "    df= pd.read_excel(file_path,skiprows=skiprows)\n",
    "\n",
    "    df.rename(columns= new_col_names, inplace=True)\n",
    "    df[\"year\"]=df[\"year\"].ffill()#fillna(method='ffill')\n",
    "    df[\"year\"] = df[\"year\"].astype(int)\n",
    "\n",
    "    if geo_scale != \"district\":# remove province codes at the end\n",
    "        df[place_colum_dict[geo_scale]] = df[\"place\"].str.split('-').str[0]\n",
    "    elif geo_scale==\"district\": # extract province and district names from Place column, drop Place column\n",
    "        df[\"province\"] = df[\"place\"] .str.extract(r'(\\w+)\\(')\n",
    "        df[\"district\"] = df[\"place\"] .str.extract(r'\\((.*?)\\)')\n",
    "\n",
    "        new_index=[\"year\",\"province\",\"district\"]\n",
    "    df.drop(columns=[\"place\"],inplace=True)\n",
    "\n",
    "    df.set_index(new_index, inplace=True)\n",
    "    df = df.fillna(0)\n",
    "\n",
    "    df.sort_index(inplace=True)\n",
    "    if need_pivot_conversion:\n",
    "        df=pd.pivot_table(df, values=df.columns[1], index=df.index, columns=[df.columns[0]], fill_value=0)\n",
    "    df=df.astype(int)\n",
    "    if len(col_dicts)>1:\n",
    "        # Convert to MultiIndex\n",
    "        # Apply the helper function to each column name\n",
    "        tuples = [process_column(col, col_dicts) for col in df.columns]\n",
    "        # Create the MultiIndex\n",
    "        multi_index = pd.MultiIndex.from_tuples(tuples, names=names)\n",
    "        df.columns = multi_index\n",
    "    else: # not multiindex (col_dicts contains single dictionary)\n",
    "        df.rename(columns=col_dicts[0], inplace=True)\n",
    "     \n",
    "    return df       "
   ],
   "metadata": {
    "id": "mHuezqJ9vFI_",
    "executionInfo": {
     "status": "ok",
     "timestamp": 1723821139464,
     "user_tz": -180,
     "elapsed": 317,
     "user": {
      "displayName": "öner tartan",
      "userId": "15982345773583695137"
     }
    },
    "ExecuteTime": {
     "end_time": "2024-09-21T14:51:26.261735600Z",
     "start_time": "2024-09-21T14:51:26.251964200Z"
    }
   },
   "execution_count": 2,
   "outputs": []
  },
  {
   "cell_type": "markdown",
   "source": [
    "### 1.Population Age-Sex\n",
    "### 1.1. Population Age-Sex Provinces (ibbs3)"
   ],
   "metadata": {
    "id": "4vi4s8i1v5C3"
   }
  },
  {
   "cell_type": "code",
   "execution_count": 3,
   "outputs": [],
   "source": [
    "dict_age = {\"Bilinmeyen\":\"unknown\"}\n",
    "dict_sex = {\"Erkek\":\"male\",\"Kadın\":\"female\"}"
   ],
   "metadata": {
    "collapsed": false,
    "ExecuteTime": {
     "end_time": "2024-09-21T14:51:26.322735800Z",
     "start_time": "2024-09-21T14:51:26.259793Z"
    }
   }
  },
  {
   "cell_type": "code",
   "source": [
    "# We change only geo_scale as ibbs3\n",
    "file_path =\"data/raw/population/population-age-sex-ibbs3-2007-2023.xlsx\"\n",
    "df_provinces = data_preprocess(file_path,col_dicts=[dict_sex,dict_age],geo_scale=\"ibbs3\",names=[\"sex\",\"age_group\"])\n",
    "df_provinces.to_csv(\"data/preprocessed/population/age-sex-ibbs3-2007-2023.csv\")\n",
    "df_provinces.head(2)"
   ],
   "metadata": {
    "colab": {
     "base_uri": "https://localhost:8080/",
     "height": 204
    },
    "id": "HlvBFEjJRoEK",
    "executionInfo": {
     "status": "ok",
     "timestamp": 1723808586671,
     "user_tz": -180,
     "elapsed": 337,
     "user": {
      "displayName": "öner tartan",
      "userId": "15982345773583695137"
     }
    },
    "outputId": "afb07403-8547-42e3-a4f4-9efefc1af13e",
    "ExecuteTime": {
     "end_time": "2024-09-10T21:25:22.057259900Z",
     "start_time": "2024-09-10T21:25:21.039333600Z"
    }
   },
   "execution_count": 124,
   "outputs": [
    {
     "data": {
      "text/plain": "sex             male                                                           \\\nage_group        0-4   10-14  15-19  20-24  25-29  30-34  35-39  40-44  45-49   \nyear province                                                                   \n2007 Adana     87875  100851  96648  78022  90764  80670  70980  68068  58558   \n     Adıyaman  31114   35241  32872  24563  25786  20867  17573  15887  11527   \n\nsex                   ... female                                            \\\nage_group      50-54  ...  50-54  55-59    5-9  60-64  65-69  70-74  75-79   \nyear province         ...                                                    \n2007 Adana     52112  ...  51402  39610  93870  27931  22227  16919  13775   \n     Adıyaman  10253  ...  10555   9782  32072   7440   6242   4572   3973   \n\nsex                              \nage_group     80-84 85-89   90+  \nyear province                    \n2007 Adana     7869  2810  1761  \n     Adıyaman  2497  1103   656  \n\n[2 rows x 38 columns]",
      "text/html": "<div>\n<style scoped>\n    .dataframe tbody tr th:only-of-type {\n        vertical-align: middle;\n    }\n\n    .dataframe tbody tr th {\n        vertical-align: top;\n    }\n\n    .dataframe thead tr th {\n        text-align: left;\n    }\n\n    .dataframe thead tr:last-of-type th {\n        text-align: right;\n    }\n</style>\n<table border=\"1\" class=\"dataframe\">\n  <thead>\n    <tr>\n      <th></th>\n      <th>sex</th>\n      <th colspan=\"10\" halign=\"left\">male</th>\n      <th>...</th>\n      <th colspan=\"10\" halign=\"left\">female</th>\n    </tr>\n    <tr>\n      <th></th>\n      <th>age_group</th>\n      <th>0-4</th>\n      <th>10-14</th>\n      <th>15-19</th>\n      <th>20-24</th>\n      <th>25-29</th>\n      <th>30-34</th>\n      <th>35-39</th>\n      <th>40-44</th>\n      <th>45-49</th>\n      <th>50-54</th>\n      <th>...</th>\n      <th>50-54</th>\n      <th>55-59</th>\n      <th>5-9</th>\n      <th>60-64</th>\n      <th>65-69</th>\n      <th>70-74</th>\n      <th>75-79</th>\n      <th>80-84</th>\n      <th>85-89</th>\n      <th>90+</th>\n    </tr>\n    <tr>\n      <th>year</th>\n      <th>province</th>\n      <th></th>\n      <th></th>\n      <th></th>\n      <th></th>\n      <th></th>\n      <th></th>\n      <th></th>\n      <th></th>\n      <th></th>\n      <th></th>\n      <th></th>\n      <th></th>\n      <th></th>\n      <th></th>\n      <th></th>\n      <th></th>\n      <th></th>\n      <th></th>\n      <th></th>\n      <th></th>\n      <th></th>\n    </tr>\n  </thead>\n  <tbody>\n    <tr>\n      <th rowspan=\"2\" valign=\"top\">2007</th>\n      <th>Adana</th>\n      <td>87875</td>\n      <td>100851</td>\n      <td>96648</td>\n      <td>78022</td>\n      <td>90764</td>\n      <td>80670</td>\n      <td>70980</td>\n      <td>68068</td>\n      <td>58558</td>\n      <td>52112</td>\n      <td>...</td>\n      <td>51402</td>\n      <td>39610</td>\n      <td>93870</td>\n      <td>27931</td>\n      <td>22227</td>\n      <td>16919</td>\n      <td>13775</td>\n      <td>7869</td>\n      <td>2810</td>\n      <td>1761</td>\n    </tr>\n    <tr>\n      <th>Adıyaman</th>\n      <td>31114</td>\n      <td>35241</td>\n      <td>32872</td>\n      <td>24563</td>\n      <td>25786</td>\n      <td>20867</td>\n      <td>17573</td>\n      <td>15887</td>\n      <td>11527</td>\n      <td>10253</td>\n      <td>...</td>\n      <td>10555</td>\n      <td>9782</td>\n      <td>32072</td>\n      <td>7440</td>\n      <td>6242</td>\n      <td>4572</td>\n      <td>3973</td>\n      <td>2497</td>\n      <td>1103</td>\n      <td>656</td>\n    </tr>\n  </tbody>\n</table>\n<p>2 rows × 38 columns</p>\n</div>"
     },
     "execution_count": 124,
     "metadata": {},
     "output_type": "execute_result"
    }
   ]
  },
  {
   "cell_type": "code",
   "outputs": [
    {
     "data": {
      "text/plain": "sex             male                                                           \\\nage_group        0-4   10-14  15-19  20-24  25-29  30-34  35-39  40-44  45-49   \nyear province                                                                   \n2007 Adana     87875  100851  96648  78022  90764  80670  70980  68068  58558   \n     Adıyaman  31114   35241  32872  24563  25786  20867  17573  15887  11527   \n\nsex                   ... female                                            \\\nage_group      50-54  ...  50-54  55-59    5-9  60-64  65-69  70-74  75-79   \nyear province         ...                                                    \n2007 Adana     52112  ...  51402  39610  93870  27931  22227  16919  13775   \n     Adıyaman  10253  ...  10555   9782  32072   7440   6242   4572   3973   \n\nsex                              \nage_group     80-84 85-89   90+  \nyear province                    \n2007 Adana     7869  2810  1761  \n     Adıyaman  2497  1103   656  \n\n[2 rows x 38 columns]",
      "text/html": "<div>\n<style scoped>\n    .dataframe tbody tr th:only-of-type {\n        vertical-align: middle;\n    }\n\n    .dataframe tbody tr th {\n        vertical-align: top;\n    }\n\n    .dataframe thead tr th {\n        text-align: left;\n    }\n\n    .dataframe thead tr:last-of-type th {\n        text-align: right;\n    }\n</style>\n<table border=\"1\" class=\"dataframe\">\n  <thead>\n    <tr>\n      <th></th>\n      <th>sex</th>\n      <th colspan=\"10\" halign=\"left\">male</th>\n      <th>...</th>\n      <th colspan=\"10\" halign=\"left\">female</th>\n    </tr>\n    <tr>\n      <th></th>\n      <th>age_group</th>\n      <th>0-4</th>\n      <th>10-14</th>\n      <th>15-19</th>\n      <th>20-24</th>\n      <th>25-29</th>\n      <th>30-34</th>\n      <th>35-39</th>\n      <th>40-44</th>\n      <th>45-49</th>\n      <th>50-54</th>\n      <th>...</th>\n      <th>50-54</th>\n      <th>55-59</th>\n      <th>5-9</th>\n      <th>60-64</th>\n      <th>65-69</th>\n      <th>70-74</th>\n      <th>75-79</th>\n      <th>80-84</th>\n      <th>85-89</th>\n      <th>90+</th>\n    </tr>\n    <tr>\n      <th>year</th>\n      <th>province</th>\n      <th></th>\n      <th></th>\n      <th></th>\n      <th></th>\n      <th></th>\n      <th></th>\n      <th></th>\n      <th></th>\n      <th></th>\n      <th></th>\n      <th></th>\n      <th></th>\n      <th></th>\n      <th></th>\n      <th></th>\n      <th></th>\n      <th></th>\n      <th></th>\n      <th></th>\n      <th></th>\n      <th></th>\n    </tr>\n  </thead>\n  <tbody>\n    <tr>\n      <th rowspan=\"2\" valign=\"top\">2007</th>\n      <th>Adana</th>\n      <td>87875</td>\n      <td>100851</td>\n      <td>96648</td>\n      <td>78022</td>\n      <td>90764</td>\n      <td>80670</td>\n      <td>70980</td>\n      <td>68068</td>\n      <td>58558</td>\n      <td>52112</td>\n      <td>...</td>\n      <td>51402</td>\n      <td>39610</td>\n      <td>93870</td>\n      <td>27931</td>\n      <td>22227</td>\n      <td>16919</td>\n      <td>13775</td>\n      <td>7869</td>\n      <td>2810</td>\n      <td>1761</td>\n    </tr>\n    <tr>\n      <th>Adıyaman</th>\n      <td>31114</td>\n      <td>35241</td>\n      <td>32872</td>\n      <td>24563</td>\n      <td>25786</td>\n      <td>20867</td>\n      <td>17573</td>\n      <td>15887</td>\n      <td>11527</td>\n      <td>10253</td>\n      <td>...</td>\n      <td>10555</td>\n      <td>9782</td>\n      <td>32072</td>\n      <td>7440</td>\n      <td>6242</td>\n      <td>4572</td>\n      <td>3973</td>\n      <td>2497</td>\n      <td>1103</td>\n      <td>656</td>\n    </tr>\n  </tbody>\n</table>\n<p>2 rows × 38 columns</p>\n</div>"
     },
     "execution_count": 125,
     "metadata": {},
     "output_type": "execute_result"
    }
   ],
   "source": [
    "# after pre-processing, dataframe is saved as csv files. Now let's check the dataframe\n",
    "df_provinces = pd.read_csv(\"data/preprocessed/population/age-sex-ibbs3-2007-2023.csv\",index_col=[0,1],header=[0,1])\n",
    "df_provinces.head(2)"
   ],
   "metadata": {
    "collapsed": false,
    "ExecuteTime": {
     "end_time": "2024-09-10T21:25:27.151592500Z",
     "start_time": "2024-09-10T21:25:27.028706600Z"
    }
   },
   "execution_count": 125
  },
  {
   "cell_type": "markdown",
   "source": [
    "Number of districts has changed from 923 to 973. <br>Since districts data is available since 2018 for 973 districts, we deal with it seperately."
   ],
   "metadata": {
    "id": "ZBC7CmgqZSqQ"
   }
  },
  {
   "cell_type": "markdown",
   "source": [
    "### 1.2. Population Age-Sex district"
   ],
   "metadata": {
    "collapsed": false
   }
  },
  {
   "cell_type": "code",
   "source": [
    "# Unlike the first three datasets (2007-2023 period), this dataset only includes data between 2018 and 2023.\n",
    "file_path = \"data/raw/population/population-age-sex-district-2018-2023.xlsx\"\n",
    "df_districts= data_preprocess(file_path, geo_scale=\"district\",col_dicts=[dict_sex,dict_age],names=[\"sex\",\"age_group\"],need_pivot_conversion=False)\n",
    "df_districts.to_csv(\"data/preprocessed/population/age-sex-district-2018-2023.csv\")\n",
    "df_districts.head(2)    "
   ],
   "metadata": {
    "colab": {
     "base_uri": "https://localhost:8080/",
     "height": 239
    },
    "id": "c9Y4V3-4Y1T4",
    "executionInfo": {
     "status": "ok",
     "timestamp": 1723808603797,
     "user_tz": -180,
     "elapsed": 4664,
     "user": {
      "displayName": "öner tartan",
      "userId": "15982345773583695137"
     }
    },
    "outputId": "41328ac7-29ef-4275-a168-0460581db7da",
    "ExecuteTime": {
     "end_time": "2024-09-10T21:25:42.860324800Z",
     "start_time": "2024-09-10T21:25:39.664018500Z"
    }
   },
   "execution_count": 126,
   "outputs": [
    {
     "data": {
      "text/plain": "sex                     male                                                  \\\nage_group                0-4 10-14 15-19 20-24 25-29 30-34 35-39 40-44 45-49   \nyear province district                                                         \n2018 Adana    Aladağ     641   627   562   622   539   644   712   544   550   \n              Ceyhan    6881  6963  6963  5951  5820  5836  5955  5053  4741   \n\nsex                           ... female                                      \\\nage_group              50-54  ...  50-54 55-59   5-9 60-64 65-69 70-74 75-79   \nyear province district        ...                                              \n2018 Adana    Aladağ     459  ...    448   530   628   501   350   332   229   \n              Ceyhan    4784  ...   4710  4577  6580  3778  2848  2007  1483   \n\nsex                                      \nage_group              80-84 85-89  90+  \nyear province district                   \n2018 Adana    Aladağ     187    88   36  \n              Ceyhan    1025   633  268  \n\n[2 rows x 38 columns]",
      "text/html": "<div>\n<style scoped>\n    .dataframe tbody tr th:only-of-type {\n        vertical-align: middle;\n    }\n\n    .dataframe tbody tr th {\n        vertical-align: top;\n    }\n\n    .dataframe thead tr th {\n        text-align: left;\n    }\n\n    .dataframe thead tr:last-of-type th {\n        text-align: right;\n    }\n</style>\n<table border=\"1\" class=\"dataframe\">\n  <thead>\n    <tr>\n      <th></th>\n      <th></th>\n      <th>sex</th>\n      <th colspan=\"10\" halign=\"left\">male</th>\n      <th>...</th>\n      <th colspan=\"10\" halign=\"left\">female</th>\n    </tr>\n    <tr>\n      <th></th>\n      <th></th>\n      <th>age_group</th>\n      <th>0-4</th>\n      <th>10-14</th>\n      <th>15-19</th>\n      <th>20-24</th>\n      <th>25-29</th>\n      <th>30-34</th>\n      <th>35-39</th>\n      <th>40-44</th>\n      <th>45-49</th>\n      <th>50-54</th>\n      <th>...</th>\n      <th>50-54</th>\n      <th>55-59</th>\n      <th>5-9</th>\n      <th>60-64</th>\n      <th>65-69</th>\n      <th>70-74</th>\n      <th>75-79</th>\n      <th>80-84</th>\n      <th>85-89</th>\n      <th>90+</th>\n    </tr>\n    <tr>\n      <th>year</th>\n      <th>province</th>\n      <th>district</th>\n      <th></th>\n      <th></th>\n      <th></th>\n      <th></th>\n      <th></th>\n      <th></th>\n      <th></th>\n      <th></th>\n      <th></th>\n      <th></th>\n      <th></th>\n      <th></th>\n      <th></th>\n      <th></th>\n      <th></th>\n      <th></th>\n      <th></th>\n      <th></th>\n      <th></th>\n      <th></th>\n      <th></th>\n    </tr>\n  </thead>\n  <tbody>\n    <tr>\n      <th rowspan=\"2\" valign=\"top\">2018</th>\n      <th rowspan=\"2\" valign=\"top\">Adana</th>\n      <th>Aladağ</th>\n      <td>641</td>\n      <td>627</td>\n      <td>562</td>\n      <td>622</td>\n      <td>539</td>\n      <td>644</td>\n      <td>712</td>\n      <td>544</td>\n      <td>550</td>\n      <td>459</td>\n      <td>...</td>\n      <td>448</td>\n      <td>530</td>\n      <td>628</td>\n      <td>501</td>\n      <td>350</td>\n      <td>332</td>\n      <td>229</td>\n      <td>187</td>\n      <td>88</td>\n      <td>36</td>\n    </tr>\n    <tr>\n      <th>Ceyhan</th>\n      <td>6881</td>\n      <td>6963</td>\n      <td>6963</td>\n      <td>5951</td>\n      <td>5820</td>\n      <td>5836</td>\n      <td>5955</td>\n      <td>5053</td>\n      <td>4741</td>\n      <td>4784</td>\n      <td>...</td>\n      <td>4710</td>\n      <td>4577</td>\n      <td>6580</td>\n      <td>3778</td>\n      <td>2848</td>\n      <td>2007</td>\n      <td>1483</td>\n      <td>1025</td>\n      <td>633</td>\n      <td>268</td>\n    </tr>\n  </tbody>\n</table>\n<p>2 rows × 38 columns</p>\n</div>"
     },
     "execution_count": 126,
     "metadata": {},
     "output_type": "execute_result"
    }
   ]
  },
  {
   "cell_type": "code",
   "outputs": [
    {
     "data": {
      "text/plain": "sex                     male                                                  \\\nage_group                0-4 10-14 15-19 20-24 25-29 30-34 35-39 40-44 45-49   \nyear province district                                                         \n2018 Adana    Aladağ     641   627   562   622   539   644   712   544   550   \n              Ceyhan    6881  6963  6963  5951  5820  5836  5955  5053  4741   \n\nsex                           ... female                                      \\\nage_group              50-54  ...  50-54 55-59   5-9 60-64 65-69 70-74 75-79   \nyear province district        ...                                              \n2018 Adana    Aladağ     459  ...    448   530   628   501   350   332   229   \n              Ceyhan    4784  ...   4710  4577  6580  3778  2848  2007  1483   \n\nsex                                      \nage_group              80-84 85-89  90+  \nyear province district                   \n2018 Adana    Aladağ     187    88   36  \n              Ceyhan    1025   633  268  \n\n[2 rows x 38 columns]",
      "text/html": "<div>\n<style scoped>\n    .dataframe tbody tr th:only-of-type {\n        vertical-align: middle;\n    }\n\n    .dataframe tbody tr th {\n        vertical-align: top;\n    }\n\n    .dataframe thead tr th {\n        text-align: left;\n    }\n\n    .dataframe thead tr:last-of-type th {\n        text-align: right;\n    }\n</style>\n<table border=\"1\" class=\"dataframe\">\n  <thead>\n    <tr>\n      <th></th>\n      <th></th>\n      <th>sex</th>\n      <th colspan=\"10\" halign=\"left\">male</th>\n      <th>...</th>\n      <th colspan=\"10\" halign=\"left\">female</th>\n    </tr>\n    <tr>\n      <th></th>\n      <th></th>\n      <th>age_group</th>\n      <th>0-4</th>\n      <th>10-14</th>\n      <th>15-19</th>\n      <th>20-24</th>\n      <th>25-29</th>\n      <th>30-34</th>\n      <th>35-39</th>\n      <th>40-44</th>\n      <th>45-49</th>\n      <th>50-54</th>\n      <th>...</th>\n      <th>50-54</th>\n      <th>55-59</th>\n      <th>5-9</th>\n      <th>60-64</th>\n      <th>65-69</th>\n      <th>70-74</th>\n      <th>75-79</th>\n      <th>80-84</th>\n      <th>85-89</th>\n      <th>90+</th>\n    </tr>\n    <tr>\n      <th>year</th>\n      <th>province</th>\n      <th>district</th>\n      <th></th>\n      <th></th>\n      <th></th>\n      <th></th>\n      <th></th>\n      <th></th>\n      <th></th>\n      <th></th>\n      <th></th>\n      <th></th>\n      <th></th>\n      <th></th>\n      <th></th>\n      <th></th>\n      <th></th>\n      <th></th>\n      <th></th>\n      <th></th>\n      <th></th>\n      <th></th>\n      <th></th>\n    </tr>\n  </thead>\n  <tbody>\n    <tr>\n      <th rowspan=\"2\" valign=\"top\">2018</th>\n      <th rowspan=\"2\" valign=\"top\">Adana</th>\n      <th>Aladağ</th>\n      <td>641</td>\n      <td>627</td>\n      <td>562</td>\n      <td>622</td>\n      <td>539</td>\n      <td>644</td>\n      <td>712</td>\n      <td>544</td>\n      <td>550</td>\n      <td>459</td>\n      <td>...</td>\n      <td>448</td>\n      <td>530</td>\n      <td>628</td>\n      <td>501</td>\n      <td>350</td>\n      <td>332</td>\n      <td>229</td>\n      <td>187</td>\n      <td>88</td>\n      <td>36</td>\n    </tr>\n    <tr>\n      <th>Ceyhan</th>\n      <td>6881</td>\n      <td>6963</td>\n      <td>6963</td>\n      <td>5951</td>\n      <td>5820</td>\n      <td>5836</td>\n      <td>5955</td>\n      <td>5053</td>\n      <td>4741</td>\n      <td>4784</td>\n      <td>...</td>\n      <td>4710</td>\n      <td>4577</td>\n      <td>6580</td>\n      <td>3778</td>\n      <td>2848</td>\n      <td>2007</td>\n      <td>1483</td>\n      <td>1025</td>\n      <td>633</td>\n      <td>268</td>\n    </tr>\n  </tbody>\n</table>\n<p>2 rows × 38 columns</p>\n</div>"
     },
     "execution_count": 127,
     "metadata": {},
     "output_type": "execute_result"
    }
   ],
   "source": [
    "# after pre-processing, dataframe is saved as csv files. Now let's check the dataframe\n",
    "df_provinces = pd.read_csv(\"data/preprocessed/population/age-sex-district-2018-2023.csv\",index_col=[0,1,2],header=[0,1])\n",
    "df_provinces.head(2)"
   ],
   "metadata": {
    "collapsed": false,
    "ExecuteTime": {
     "end_time": "2024-09-10T21:25:45.746516900Z",
     "start_time": "2024-09-10T21:25:45.663624100Z"
    }
   },
   "execution_count": 127
  },
  {
   "cell_type": "markdown",
   "source": [
    "## 2.  Population Age-Sex-Maritial Status (Over age 15)\n",
    "### 2.1. Population Age-Sex-Maritial Status Provinces (ibbs3)"
   ],
   "metadata": {
    "collapsed": false
   }
  },
  {
   "cell_type": "markdown",
   "source": [
    "Since 50000 rows are allowed for queries in Tuik Portal, we deal with 4 files. <br>\n",
    "After preprocessing we will merge them."
   ],
   "metadata": {
    "collapsed": false
   }
  },
  {
   "cell_type": "code",
   "outputs": [
    {
     "data": {
      "text/plain": "sex                male                                                 \\\nage_group         15-19                                          20-24   \nmaritial_status unknown divorced widowed married never_married unknown   \nyear province                                                            \n2008 Adana          0.0        2       2     420         95993     0.0   \n     Adıyaman       0.0        2       0     122         32770     0.0   \n\nsex                                                     ...  female           \\\nage_group                                               ...   85-89            \nmaritial_status divorced widowed married never_married  ... unknown divorced   \nyear province                                           ...                    \n2008 Adana           108       8    9225         71645  ...     0.0       54   \n     Adıyaman         14       0    3439         23108  ...     0.0       13   \n\nsex                                                                     \\\nage_group                                         90+                    \nmaritial_status widowed married never_married unknown divorced widowed   \nyear province                                                            \n2008 Adana         1970     263           107     0.0       27     859   \n     Adıyaman       679     164            68     0.0        7     346   \n\nsex                                    \nage_group                              \nmaritial_status married never_married  \nyear province                          \n2008 Adana           73            43  \n     Adıyaman        54            32  \n\n[2 rows x 151 columns]",
      "text/html": "<div>\n<style scoped>\n    .dataframe tbody tr th:only-of-type {\n        vertical-align: middle;\n    }\n\n    .dataframe tbody tr th {\n        vertical-align: top;\n    }\n\n    .dataframe thead tr th {\n        text-align: left;\n    }\n\n    .dataframe thead tr:last-of-type th {\n        text-align: right;\n    }\n</style>\n<table border=\"1\" class=\"dataframe\">\n  <thead>\n    <tr>\n      <th></th>\n      <th>sex</th>\n      <th colspan=\"10\" halign=\"left\">male</th>\n      <th>...</th>\n      <th colspan=\"10\" halign=\"left\">female</th>\n    </tr>\n    <tr>\n      <th></th>\n      <th>age_group</th>\n      <th colspan=\"5\" halign=\"left\">15-19</th>\n      <th colspan=\"5\" halign=\"left\">20-24</th>\n      <th>...</th>\n      <th colspan=\"5\" halign=\"left\">85-89</th>\n      <th colspan=\"5\" halign=\"left\">90+</th>\n    </tr>\n    <tr>\n      <th></th>\n      <th>maritial_status</th>\n      <th>unknown</th>\n      <th>divorced</th>\n      <th>widowed</th>\n      <th>married</th>\n      <th>never_married</th>\n      <th>unknown</th>\n      <th>divorced</th>\n      <th>widowed</th>\n      <th>married</th>\n      <th>never_married</th>\n      <th>...</th>\n      <th>unknown</th>\n      <th>divorced</th>\n      <th>widowed</th>\n      <th>married</th>\n      <th>never_married</th>\n      <th>unknown</th>\n      <th>divorced</th>\n      <th>widowed</th>\n      <th>married</th>\n      <th>never_married</th>\n    </tr>\n    <tr>\n      <th>year</th>\n      <th>province</th>\n      <th></th>\n      <th></th>\n      <th></th>\n      <th></th>\n      <th></th>\n      <th></th>\n      <th></th>\n      <th></th>\n      <th></th>\n      <th></th>\n      <th></th>\n      <th></th>\n      <th></th>\n      <th></th>\n      <th></th>\n      <th></th>\n      <th></th>\n      <th></th>\n      <th></th>\n      <th></th>\n      <th></th>\n    </tr>\n  </thead>\n  <tbody>\n    <tr>\n      <th rowspan=\"2\" valign=\"top\">2008</th>\n      <th>Adana</th>\n      <td>0.0</td>\n      <td>2</td>\n      <td>2</td>\n      <td>420</td>\n      <td>95993</td>\n      <td>0.0</td>\n      <td>108</td>\n      <td>8</td>\n      <td>9225</td>\n      <td>71645</td>\n      <td>...</td>\n      <td>0.0</td>\n      <td>54</td>\n      <td>1970</td>\n      <td>263</td>\n      <td>107</td>\n      <td>0.0</td>\n      <td>27</td>\n      <td>859</td>\n      <td>73</td>\n      <td>43</td>\n    </tr>\n    <tr>\n      <th>Adıyaman</th>\n      <td>0.0</td>\n      <td>2</td>\n      <td>0</td>\n      <td>122</td>\n      <td>32770</td>\n      <td>0.0</td>\n      <td>14</td>\n      <td>0</td>\n      <td>3439</td>\n      <td>23108</td>\n      <td>...</td>\n      <td>0.0</td>\n      <td>13</td>\n      <td>679</td>\n      <td>164</td>\n      <td>68</td>\n      <td>0.0</td>\n      <td>7</td>\n      <td>346</td>\n      <td>54</td>\n      <td>32</td>\n    </tr>\n  </tbody>\n</table>\n<p>2 rows × 151 columns</p>\n</div>"
     },
     "execution_count": 128,
     "metadata": {},
     "output_type": "execute_result"
    }
   ],
   "source": [
    "file_folder = \"data/raw/population/age-sex-maritial-status\"\n",
    "dict_maritial_status={\"Bilinmeyen\":\"unknown\",\"Boşandı\":\"divorced\",\"Eşi Öldü\":\"widowed\",\"Hiç Evlenmedi\":\"never_married\",\"Evli\":\"married\",}\n",
    "names = [\"sex\",\"age_group\",\"maritial_status\"]\n",
    "geo_scale=\"ibbs3\"\n",
    "df = pd.DataFrame()\n",
    "for file_name in os.listdir(file_folder):\n",
    "    if \"ibbs3\" in file_name:\n",
    "        file_path = os.path.join(file_folder,file_name)\n",
    "        # merge 4 dataframes (containing 4 year periods)\n",
    "        df = pd.concat( [df,data_preprocess(file_path,geo_scale, [dict_sex,dict_age,dict_maritial_status],names,need_pivot_conversion=False)] )\n",
    "        \n",
    "# save the merged data frame \n",
    "df.to_csv(\"data/preprocessed/population/age-sex-maritial-status-ibbs3-2008-2023.csv\")\n",
    "df.head(2)"
   ],
   "metadata": {
    "collapsed": false,
    "ExecuteTime": {
     "end_time": "2024-09-10T21:25:52.487861400Z",
     "start_time": "2024-09-10T21:25:50.611452100Z"
    }
   },
   "execution_count": 128
  },
  {
   "cell_type": "markdown",
   "source": [
    "We can read from file as below. Note that df has three levels in columns(header=[0,1,2])."
   ],
   "metadata": {
    "collapsed": false
   }
  },
  {
   "cell_type": "code",
   "execution_count": 129,
   "outputs": [
    {
     "data": {
      "text/plain": "sex                male                                                 \\\nage_group         15-19                                          20-24   \nmaritial_status unknown divorced widowed married never_married unknown   \nyear province                                                            \n2008 Adana          0.0        2       2     420         95993     0.0   \n     Adıyaman       0.0        2       0     122         32770     0.0   \n\nsex                                                     ...  female           \\\nage_group                                               ...   85-89            \nmaritial_status divorced widowed married never_married  ... unknown divorced   \nyear province                                           ...                    \n2008 Adana           108       8    9225         71645  ...     0.0       54   \n     Adıyaman         14       0    3439         23108  ...     0.0       13   \n\nsex                                                                     \\\nage_group                                         90+                    \nmaritial_status widowed married never_married unknown divorced widowed   \nyear province                                                            \n2008 Adana         1970     263           107     0.0       27     859   \n     Adıyaman       679     164            68     0.0        7     346   \n\nsex                                    \nage_group                              \nmaritial_status married never_married  \nyear province                          \n2008 Adana           73            43  \n     Adıyaman        54            32  \n\n[2 rows x 151 columns]",
      "text/html": "<div>\n<style scoped>\n    .dataframe tbody tr th:only-of-type {\n        vertical-align: middle;\n    }\n\n    .dataframe tbody tr th {\n        vertical-align: top;\n    }\n\n    .dataframe thead tr th {\n        text-align: left;\n    }\n\n    .dataframe thead tr:last-of-type th {\n        text-align: right;\n    }\n</style>\n<table border=\"1\" class=\"dataframe\">\n  <thead>\n    <tr>\n      <th></th>\n      <th>sex</th>\n      <th colspan=\"10\" halign=\"left\">male</th>\n      <th>...</th>\n      <th colspan=\"10\" halign=\"left\">female</th>\n    </tr>\n    <tr>\n      <th></th>\n      <th>age_group</th>\n      <th colspan=\"5\" halign=\"left\">15-19</th>\n      <th colspan=\"5\" halign=\"left\">20-24</th>\n      <th>...</th>\n      <th colspan=\"5\" halign=\"left\">85-89</th>\n      <th colspan=\"5\" halign=\"left\">90+</th>\n    </tr>\n    <tr>\n      <th></th>\n      <th>maritial_status</th>\n      <th>unknown</th>\n      <th>divorced</th>\n      <th>widowed</th>\n      <th>married</th>\n      <th>never_married</th>\n      <th>unknown</th>\n      <th>divorced</th>\n      <th>widowed</th>\n      <th>married</th>\n      <th>never_married</th>\n      <th>...</th>\n      <th>unknown</th>\n      <th>divorced</th>\n      <th>widowed</th>\n      <th>married</th>\n      <th>never_married</th>\n      <th>unknown</th>\n      <th>divorced</th>\n      <th>widowed</th>\n      <th>married</th>\n      <th>never_married</th>\n    </tr>\n    <tr>\n      <th>year</th>\n      <th>province</th>\n      <th></th>\n      <th></th>\n      <th></th>\n      <th></th>\n      <th></th>\n      <th></th>\n      <th></th>\n      <th></th>\n      <th></th>\n      <th></th>\n      <th></th>\n      <th></th>\n      <th></th>\n      <th></th>\n      <th></th>\n      <th></th>\n      <th></th>\n      <th></th>\n      <th></th>\n      <th></th>\n      <th></th>\n    </tr>\n  </thead>\n  <tbody>\n    <tr>\n      <th rowspan=\"2\" valign=\"top\">2008</th>\n      <th>Adana</th>\n      <td>0.0</td>\n      <td>2</td>\n      <td>2</td>\n      <td>420</td>\n      <td>95993</td>\n      <td>0.0</td>\n      <td>108</td>\n      <td>8</td>\n      <td>9225</td>\n      <td>71645</td>\n      <td>...</td>\n      <td>0.0</td>\n      <td>54</td>\n      <td>1970</td>\n      <td>263</td>\n      <td>107</td>\n      <td>0.0</td>\n      <td>27</td>\n      <td>859</td>\n      <td>73</td>\n      <td>43</td>\n    </tr>\n    <tr>\n      <th>Adıyaman</th>\n      <td>0.0</td>\n      <td>2</td>\n      <td>0</td>\n      <td>122</td>\n      <td>32770</td>\n      <td>0.0</td>\n      <td>14</td>\n      <td>0</td>\n      <td>3439</td>\n      <td>23108</td>\n      <td>...</td>\n      <td>0.0</td>\n      <td>13</td>\n      <td>679</td>\n      <td>164</td>\n      <td>68</td>\n      <td>0.0</td>\n      <td>7</td>\n      <td>346</td>\n      <td>54</td>\n      <td>32</td>\n    </tr>\n  </tbody>\n</table>\n<p>2 rows × 151 columns</p>\n</div>"
     },
     "execution_count": 129,
     "metadata": {},
     "output_type": "execute_result"
    }
   ],
   "source": [
    "pd.read_csv(\"data/preprocessed/population/age-sex-maritial-status-ibbs3-2008-2023.csv\", index_col=[0, 1], header=[0, 1, 2]).head(2)"
   ],
   "metadata": {
    "collapsed": false,
    "ExecuteTime": {
     "end_time": "2024-09-10T21:25:55.525597900Z",
     "start_time": "2024-09-10T21:25:55.440829100Z"
    }
   }
  },
  {
   "cell_type": "markdown",
   "source": [
    "### 2.2. Population Age-Sex-Maritial Status District"
   ],
   "metadata": {
    "collapsed": false
   }
  },
  {
   "cell_type": "code",
   "outputs": [
    {
     "ename": "NameError",
     "evalue": "name 'dict_maritial_status' is not defined",
     "output_type": "error",
     "traceback": [
      "\u001B[1;31m---------------------------------------------------------------------------\u001B[0m",
      "\u001B[1;31mNameError\u001B[0m                                 Traceback (most recent call last)",
      "Cell \u001B[1;32mIn[23], line 9\u001B[0m\n\u001B[0;32m      7\u001B[0m         file_path \u001B[38;5;241m=\u001B[39m os\u001B[38;5;241m.\u001B[39mpath\u001B[38;5;241m.\u001B[39mjoin(file_folder,file_name)\n\u001B[0;32m      8\u001B[0m         \u001B[38;5;66;03m# merge 12 dataframes (containing 1-year periods, each year containing 3 groups of provinces)\u001B[39;00m\n\u001B[1;32m----> 9\u001B[0m         df \u001B[38;5;241m=\u001B[39m pd\u001B[38;5;241m.\u001B[39mconcat( [df,data_preprocess(file_path,geo_scale, [dict_sex,dict_age,\u001B[43mdict_maritial_status\u001B[49m],names,need_pivot_conversion\u001B[38;5;241m=\u001B[39m\u001B[38;5;28;01mFalse\u001B[39;00m)] )\n\u001B[0;32m     11\u001B[0m \u001B[38;5;66;03m# save the merged data frame \u001B[39;00m\n\u001B[0;32m     12\u001B[0m df\u001B[38;5;241m.\u001B[39mto_csv(\u001B[38;5;124m\"\u001B[39m\u001B[38;5;124mdata/preprocessed/population/age-sex-maritial-status-district-2018-2023.csv\u001B[39m\u001B[38;5;124m\"\u001B[39m)\n",
      "\u001B[1;31mNameError\u001B[0m: name 'dict_maritial_status' is not defined"
     ]
    }
   ],
   "source": [
    "df = pd.DataFrame()\n",
    "file_folder = \"data/raw/population/age-sex-maritial-status\"\n",
    "geo_scale = \"district\"\n",
    "dict_sex = {\"Erkek\":\"male\",\"Kadın\":\"female\"}\n",
    "for file_name in os.listdir(file_folder):\n",
    "    if \"district\" in file_name:\n",
    "        file_path = os.path.join(file_folder,file_name)\n",
    "        # merge 12 dataframes (containing 1-year periods, each year containing 3 groups of provinces)\n",
    "        df = pd.concat( [df,data_preprocess(file_path,geo_scale, [dict_sex,dict_age,dict_maritial_status],names,need_pivot_conversion=False)] )\n",
    "        \n",
    "# save the merged data frame \n",
    "df.to_csv(\"data/preprocessed/population/age-sex-maritial-status-district-2018-2023.csv\")\n",
    "df.head(2)"
   ],
   "metadata": {
    "collapsed": false,
    "ExecuteTime": {
     "end_time": "2024-09-20T18:20:03.338895900Z",
     "start_time": "2024-09-20T18:20:02.752898400Z"
    }
   },
   "execution_count": 23
  },
  {
   "cell_type": "code",
   "outputs": [
    {
     "data": {
      "text/plain": "sex                        male                                         \\\nage_group                 15-19                          20-24           \nmaritial_status        divorced married never_married divorced widowed   \nyear province district                                                   \n2018 Adana    Aladağ          0       3           559        1       0   \n              Ceyhan          0      12          6946       20       0   \n              Feke            0       1           725        2       0   \n\nsex                                                                    ...  \\\nage_group                                       25-29                  ...   \nmaritial_status        married never_married divorced widowed married  ...   \nyear province district                                                 ...   \n2018 Adana    Aladağ        35           586        4       0     164  ...   \n              Ceyhan       566          5361       79       2    2496  ...   \n              Feke          42           582        7       1     148  ...   \n\nsex                           female                                         \\\nage_group                      80-84    85-89                                 \nmaritial_status        never_married divorced widowed married never_married   \nyear province district                                                        \n2018 Adana    Aladağ               5        0      67      16             5   \n              Ceyhan              37        9     529      70            24   \n              Feke                 4        1      80      21             1   \n\nsex                                                              male  \nage_group                   90+                                 15-19  \nmaritial_status        divorced widowed married never_married widowed  \nyear province district                                                 \n2018 Adana    Aladağ          1      31       2             2     NaN  \n              Ceyhan          4     237      22             5     NaN  \n              Feke            1      40       3             0     NaN  \n\n[3 rows x 128 columns]",
      "text/html": "<div>\n<style scoped>\n    .dataframe tbody tr th:only-of-type {\n        vertical-align: middle;\n    }\n\n    .dataframe tbody tr th {\n        vertical-align: top;\n    }\n\n    .dataframe thead tr th {\n        text-align: left;\n    }\n\n    .dataframe thead tr:last-of-type th {\n        text-align: right;\n    }\n</style>\n<table border=\"1\" class=\"dataframe\">\n  <thead>\n    <tr>\n      <th></th>\n      <th></th>\n      <th>sex</th>\n      <th colspan=\"10\" halign=\"left\">male</th>\n      <th>...</th>\n      <th colspan=\"9\" halign=\"left\">female</th>\n      <th>male</th>\n    </tr>\n    <tr>\n      <th></th>\n      <th></th>\n      <th>age_group</th>\n      <th colspan=\"3\" halign=\"left\">15-19</th>\n      <th colspan=\"4\" halign=\"left\">20-24</th>\n      <th colspan=\"3\" halign=\"left\">25-29</th>\n      <th>...</th>\n      <th>80-84</th>\n      <th colspan=\"4\" halign=\"left\">85-89</th>\n      <th colspan=\"4\" halign=\"left\">90+</th>\n      <th>15-19</th>\n    </tr>\n    <tr>\n      <th></th>\n      <th></th>\n      <th>maritial_status</th>\n      <th>divorced</th>\n      <th>married</th>\n      <th>never_married</th>\n      <th>divorced</th>\n      <th>widowed</th>\n      <th>married</th>\n      <th>never_married</th>\n      <th>divorced</th>\n      <th>widowed</th>\n      <th>married</th>\n      <th>...</th>\n      <th>never_married</th>\n      <th>divorced</th>\n      <th>widowed</th>\n      <th>married</th>\n      <th>never_married</th>\n      <th>divorced</th>\n      <th>widowed</th>\n      <th>married</th>\n      <th>never_married</th>\n      <th>widowed</th>\n    </tr>\n    <tr>\n      <th>year</th>\n      <th>province</th>\n      <th>district</th>\n      <th></th>\n      <th></th>\n      <th></th>\n      <th></th>\n      <th></th>\n      <th></th>\n      <th></th>\n      <th></th>\n      <th></th>\n      <th></th>\n      <th></th>\n      <th></th>\n      <th></th>\n      <th></th>\n      <th></th>\n      <th></th>\n      <th></th>\n      <th></th>\n      <th></th>\n      <th></th>\n      <th></th>\n    </tr>\n  </thead>\n  <tbody>\n    <tr>\n      <th rowspan=\"3\" valign=\"top\">2018</th>\n      <th rowspan=\"3\" valign=\"top\">Adana</th>\n      <th>Aladağ</th>\n      <td>0</td>\n      <td>3</td>\n      <td>559</td>\n      <td>1</td>\n      <td>0</td>\n      <td>35</td>\n      <td>586</td>\n      <td>4</td>\n      <td>0</td>\n      <td>164</td>\n      <td>...</td>\n      <td>5</td>\n      <td>0</td>\n      <td>67</td>\n      <td>16</td>\n      <td>5</td>\n      <td>1</td>\n      <td>31</td>\n      <td>2</td>\n      <td>2</td>\n      <td>NaN</td>\n    </tr>\n    <tr>\n      <th>Ceyhan</th>\n      <td>0</td>\n      <td>12</td>\n      <td>6946</td>\n      <td>20</td>\n      <td>0</td>\n      <td>566</td>\n      <td>5361</td>\n      <td>79</td>\n      <td>2</td>\n      <td>2496</td>\n      <td>...</td>\n      <td>37</td>\n      <td>9</td>\n      <td>529</td>\n      <td>70</td>\n      <td>24</td>\n      <td>4</td>\n      <td>237</td>\n      <td>22</td>\n      <td>5</td>\n      <td>NaN</td>\n    </tr>\n    <tr>\n      <th>Feke</th>\n      <td>0</td>\n      <td>1</td>\n      <td>725</td>\n      <td>2</td>\n      <td>0</td>\n      <td>42</td>\n      <td>582</td>\n      <td>7</td>\n      <td>1</td>\n      <td>148</td>\n      <td>...</td>\n      <td>4</td>\n      <td>1</td>\n      <td>80</td>\n      <td>21</td>\n      <td>1</td>\n      <td>1</td>\n      <td>40</td>\n      <td>3</td>\n      <td>0</td>\n      <td>NaN</td>\n    </tr>\n  </tbody>\n</table>\n<p>3 rows × 128 columns</p>\n</div>"
     },
     "execution_count": 152,
     "metadata": {},
     "output_type": "execute_result"
    }
   ],
   "source": [
    "pd.read_csv(\"data/preprocessed/population/age-sex-maritial-status-district-2018-2023.csv\",index_col=[0,1,2],header=[0,1,2]).head(3)"
   ],
   "metadata": {
    "collapsed": false,
    "ExecuteTime": {
     "end_time": "2024-09-10T21:53:56.820271200Z",
     "start_time": "2024-09-10T21:53:56.704363300Z"
    }
   },
   "execution_count": 152
  },
  {
   "cell_type": "markdown",
   "source": [
    "##  3. Birth-Sex\n",
    "#### 3.1. Birth-Sex ibbs3"
   ],
   "metadata": {
    "collapsed": false
   }
  },
  {
   "cell_type": "code",
   "execution_count": 27,
   "outputs": [
    {
     "data": {
      "text/plain": "                male  female\nyear province               \n2009 Adana     19545   18154\n     Adıyaman   6808    6607",
      "text/html": "<div>\n<style scoped>\n    .dataframe tbody tr th:only-of-type {\n        vertical-align: middle;\n    }\n\n    .dataframe tbody tr th {\n        vertical-align: top;\n    }\n\n    .dataframe thead th {\n        text-align: right;\n    }\n</style>\n<table border=\"1\" class=\"dataframe\">\n  <thead>\n    <tr style=\"text-align: right;\">\n      <th></th>\n      <th></th>\n      <th>male</th>\n      <th>female</th>\n    </tr>\n    <tr>\n      <th>year</th>\n      <th>province</th>\n      <th></th>\n      <th></th>\n    </tr>\n  </thead>\n  <tbody>\n    <tr>\n      <th rowspan=\"2\" valign=\"top\">2009</th>\n      <th>Adana</th>\n      <td>19545</td>\n      <td>18154</td>\n    </tr>\n    <tr>\n      <th>Adıyaman</th>\n      <td>6808</td>\n      <td>6607</td>\n    </tr>\n  </tbody>\n</table>\n</div>"
     },
     "execution_count": 27,
     "metadata": {},
     "output_type": "execute_result"
    }
   ],
   "source": [
    "file_path = \"data/raw/population/birth-sex-ibbs3-2009-2023.xlsx\"\n",
    "dict_sex ={\"Cinsiyet:Erkek\":\"male\",\"Cinsiyet:Kız\":\"female\"}\n",
    "df_birth_ibbs3 = data_preprocess(file_path, col_dicts=[dict_sex], geo_scale=\"ibbs3\", names= [\"sex\"])\n",
    "df_birth_ibbs3.to_csv(\"data/preprocessed/population/birth-sex-ibbs3-2009-2023.csv\")\n",
    "# after pre-processing, dataframe is saved as csv files. Now let's check the dataframe\n",
    "df_birth_ibbs3.head(2)"
   ],
   "metadata": {
    "collapsed": false,
    "ExecuteTime": {
     "end_time": "2024-09-20T18:20:42.590285900Z",
     "start_time": "2024-09-20T18:20:42.476148100Z"
    }
   }
  },
  {
   "cell_type": "markdown",
   "source": [
    "### 3.2. Birth-Sex-district"
   ],
   "metadata": {
    "collapsed": false
   }
  },
  {
   "cell_type": "code",
   "outputs": [
    {
     "data": {
      "text/plain": "                        male  female\nyear province district              \n2014 Adana    Aladağ     177     160\n              Ceyhan    1535    1453",
      "text/html": "<div>\n<style scoped>\n    .dataframe tbody tr th:only-of-type {\n        vertical-align: middle;\n    }\n\n    .dataframe tbody tr th {\n        vertical-align: top;\n    }\n\n    .dataframe thead th {\n        text-align: right;\n    }\n</style>\n<table border=\"1\" class=\"dataframe\">\n  <thead>\n    <tr style=\"text-align: right;\">\n      <th></th>\n      <th></th>\n      <th></th>\n      <th>male</th>\n      <th>female</th>\n    </tr>\n    <tr>\n      <th>year</th>\n      <th>province</th>\n      <th>district</th>\n      <th></th>\n      <th></th>\n    </tr>\n  </thead>\n  <tbody>\n    <tr>\n      <th rowspan=\"2\" valign=\"top\">2014</th>\n      <th rowspan=\"2\" valign=\"top\">Adana</th>\n      <th>Aladağ</th>\n      <td>177</td>\n      <td>160</td>\n    </tr>\n    <tr>\n      <th>Ceyhan</th>\n      <td>1535</td>\n      <td>1453</td>\n    </tr>\n  </tbody>\n</table>\n</div>"
     },
     "execution_count": 28,
     "metadata": {},
     "output_type": "execute_result"
    }
   ],
   "source": [
    "file_path = \"data/raw/population/birth-sex-district-2014-2023.xlsx\"\n",
    "df_birth_district = data_preprocess(file_path, col_dicts=[dict_sex], geo_scale=\"district\", names=[\"sex\"])\n",
    "df_birth_district.to_csv(\"data/preprocessed/population/birth-district-2014-2023.csv\")\n",
    "# after pre-processing, dataframe is saved as csv files. Now let's check the dataframe\n",
    "df_birth_district.head(2)"
   ],
   "metadata": {
    "collapsed": false,
    "ExecuteTime": {
     "end_time": "2024-09-20T18:20:53.263132500Z",
     "start_time": "2024-09-20T18:20:52.612533300Z"
    }
   },
   "execution_count": 28
  },
  {
   "cell_type": "markdown",
   "source": [
    "### 4.  Most-Common-Baby-Names-ibbs3"
   ],
   "metadata": {
    "collapsed": false
   }
  },
  {
   "cell_type": "code",
   "execution_count": 16,
   "outputs": [],
   "source": [
    "import locale\n",
    "locale.setlocale(locale.LC_ALL, 'tr_TR.utf8')\n",
    "from turkish_string import title_tr"
   ],
   "metadata": {
    "collapsed": false,
    "ExecuteTime": {
     "end_time": "2024-09-20T18:04:59.541608300Z",
     "start_time": "2024-09-20T18:04:59.396971Z"
    }
   }
  },
  {
   "cell_type": "code",
   "execution_count": 29,
   "outputs": [
    {
     "data": {
      "text/plain": "                    name    sex  count  rank\nyear province                               \n2023 Adana     Alparslan  Erkek    223     1\n     Adana         Yusuf  Erkek    191     2",
      "text/html": "<div>\n<style scoped>\n    .dataframe tbody tr th:only-of-type {\n        vertical-align: middle;\n    }\n\n    .dataframe tbody tr th {\n        vertical-align: top;\n    }\n\n    .dataframe thead th {\n        text-align: right;\n    }\n</style>\n<table border=\"1\" class=\"dataframe\">\n  <thead>\n    <tr style=\"text-align: right;\">\n      <th></th>\n      <th></th>\n      <th>name</th>\n      <th>sex</th>\n      <th>count</th>\n      <th>rank</th>\n    </tr>\n    <tr>\n      <th>year</th>\n      <th>province</th>\n      <th></th>\n      <th></th>\n      <th></th>\n      <th></th>\n    </tr>\n  </thead>\n  <tbody>\n    <tr>\n      <th rowspan=\"2\" valign=\"top\">2023</th>\n      <th>Adana</th>\n      <td>Alparslan</td>\n      <td>Erkek</td>\n      <td>223</td>\n      <td>1</td>\n    </tr>\n    <tr>\n      <th>Adana</th>\n      <td>Yusuf</td>\n      <td>Erkek</td>\n      <td>191</td>\n      <td>2</td>\n    </tr>\n  </tbody>\n</table>\n</div>"
     },
     "execution_count": 29,
     "metadata": {},
     "output_type": "execute_result"
    }
   ],
   "source": [
    "df_most_common_baby_names_male = pd.read_excel(\"data/raw/population/most_common_baby_names_male.xlsx\",skiprows=1)\n",
    "df_most_common_baby_names_male.rename(columns={\"Doğum Yılı\":\"year\",\"İl\":\"province\",\"İsim\":\"name\",\"Cinsiyet\":\"sex\",\"Sayı\":\"count\",\"Sıra\":\"rank\"}, inplace=True)\n",
    "df_most_common_baby_names_male[[\"province\",\"name\",\"sex\"]]= df_most_common_baby_names_male[[\"province\",\"name\", \"sex\"]].map(lambda x: title_tr(x))\n",
    "df_most_common_baby_names_male.set_index([\"year\",\"province\"],inplace=True)\n",
    "df_most_common_baby_names_male.head(2)"
   ],
   "metadata": {
    "collapsed": false,
    "ExecuteTime": {
     "end_time": "2024-09-20T18:22:01.965988100Z",
     "start_time": "2024-09-20T18:21:59.804071600Z"
    }
   }
  },
  {
   "cell_type": "markdown",
   "source": [
    "#### Merging  Most-Common-Baby-Names with Birth-Sex-ibbs3"
   ],
   "metadata": {
    "collapsed": false
   }
  },
  {
   "cell_type": "code",
   "execution_count": 30,
   "outputs": [
    {
     "data": {
      "text/plain": "                male  female\nyear province               \n2009 Adana     19545   18154\n     Adıyaman   6808    6607",
      "text/html": "<div>\n<style scoped>\n    .dataframe tbody tr th:only-of-type {\n        vertical-align: middle;\n    }\n\n    .dataframe tbody tr th {\n        vertical-align: top;\n    }\n\n    .dataframe thead th {\n        text-align: right;\n    }\n</style>\n<table border=\"1\" class=\"dataframe\">\n  <thead>\n    <tr style=\"text-align: right;\">\n      <th></th>\n      <th></th>\n      <th>male</th>\n      <th>female</th>\n    </tr>\n    <tr>\n      <th>year</th>\n      <th>province</th>\n      <th></th>\n      <th></th>\n    </tr>\n  </thead>\n  <tbody>\n    <tr>\n      <th rowspan=\"2\" valign=\"top\">2009</th>\n      <th>Adana</th>\n      <td>19545</td>\n      <td>18154</td>\n    </tr>\n    <tr>\n      <th>Adıyaman</th>\n      <td>6808</td>\n      <td>6607</td>\n    </tr>\n  </tbody>\n</table>\n</div>"
     },
     "execution_count": 30,
     "metadata": {},
     "output_type": "execute_result"
    }
   ],
   "source": [
    "df_birth_ibbs3.head(2)"
   ],
   "metadata": {
    "collapsed": false,
    "ExecuteTime": {
     "end_time": "2024-09-20T18:22:03.676635500Z",
     "start_time": "2024-09-20T18:22:03.590139Z"
    }
   }
  },
  {
   "cell_type": "code",
   "execution_count": 31,
   "outputs": [
    {
     "data": {
      "text/plain": "                    name    sex  count  rank   male\nyear province                                      \n2023 Adana     Alparslan  Erkek    223     1  13732\n     Adana         Yusuf  Erkek    191     2  13732",
      "text/html": "<div>\n<style scoped>\n    .dataframe tbody tr th:only-of-type {\n        vertical-align: middle;\n    }\n\n    .dataframe tbody tr th {\n        vertical-align: top;\n    }\n\n    .dataframe thead th {\n        text-align: right;\n    }\n</style>\n<table border=\"1\" class=\"dataframe\">\n  <thead>\n    <tr style=\"text-align: right;\">\n      <th></th>\n      <th></th>\n      <th>name</th>\n      <th>sex</th>\n      <th>count</th>\n      <th>rank</th>\n      <th>male</th>\n    </tr>\n    <tr>\n      <th>year</th>\n      <th>province</th>\n      <th></th>\n      <th></th>\n      <th></th>\n      <th></th>\n      <th></th>\n    </tr>\n  </thead>\n  <tbody>\n    <tr>\n      <th rowspan=\"2\" valign=\"top\">2023</th>\n      <th>Adana</th>\n      <td>Alparslan</td>\n      <td>Erkek</td>\n      <td>223</td>\n      <td>1</td>\n      <td>13732</td>\n    </tr>\n    <tr>\n      <th>Adana</th>\n      <td>Yusuf</td>\n      <td>Erkek</td>\n      <td>191</td>\n      <td>2</td>\n      <td>13732</td>\n    </tr>\n  </tbody>\n</table>\n</div>"
     },
     "execution_count": 31,
     "metadata": {},
     "output_type": "execute_result"
    }
   ],
   "source": [
    "df_most_common_baby_names_male = df_most_common_baby_names_male.join(df_birth_ibbs3[[\"male\"]])\n",
    "df_most_common_baby_names_male.head(2)"
   ],
   "metadata": {
    "collapsed": false,
    "ExecuteTime": {
     "end_time": "2024-09-20T18:22:06.176499100Z",
     "start_time": "2024-09-20T18:22:06.126686500Z"
    }
   }
  },
  {
   "cell_type": "markdown",
   "source": [
    "                    Save the result to csv file."
   ],
   "metadata": {
    "collapsed": false
   }
  },
  {
   "cell_type": "code",
   "execution_count": 32,
   "outputs": [
    {
     "data": {
      "text/plain": "                    name    sex  count  rank  total_count\nyear province                                            \n2023 Adana     Alparslan  Erkek    223     1        13732\n     Adana         Yusuf  Erkek    191     2        13732",
      "text/html": "<div>\n<style scoped>\n    .dataframe tbody tr th:only-of-type {\n        vertical-align: middle;\n    }\n\n    .dataframe tbody tr th {\n        vertical-align: top;\n    }\n\n    .dataframe thead th {\n        text-align: right;\n    }\n</style>\n<table border=\"1\" class=\"dataframe\">\n  <thead>\n    <tr style=\"text-align: right;\">\n      <th></th>\n      <th></th>\n      <th>name</th>\n      <th>sex</th>\n      <th>count</th>\n      <th>rank</th>\n      <th>total_count</th>\n    </tr>\n    <tr>\n      <th>year</th>\n      <th>province</th>\n      <th></th>\n      <th></th>\n      <th></th>\n      <th></th>\n      <th></th>\n    </tr>\n  </thead>\n  <tbody>\n    <tr>\n      <th rowspan=\"2\" valign=\"top\">2023</th>\n      <th>Adana</th>\n      <td>Alparslan</td>\n      <td>Erkek</td>\n      <td>223</td>\n      <td>1</td>\n      <td>13732</td>\n    </tr>\n    <tr>\n      <th>Adana</th>\n      <td>Yusuf</td>\n      <td>Erkek</td>\n      <td>191</td>\n      <td>2</td>\n      <td>13732</td>\n    </tr>\n  </tbody>\n</table>\n</div>"
     },
     "execution_count": 32,
     "metadata": {},
     "output_type": "execute_result"
    }
   ],
   "source": [
    "df_most_common_baby_names_male.rename(columns={\"male\":\"total_count\"},inplace=True)\n",
    "df_most_common_baby_names_male.to_csv(\"data/preprocessed/population/most_common_baby_names_male.csv\",encoding=\"utf-8\")\n",
    "df_most_common_baby_names_male.head(2)"
   ],
   "metadata": {
    "collapsed": false,
    "ExecuteTime": {
     "end_time": "2024-09-20T18:22:13.990383700Z",
     "start_time": "2024-09-20T18:22:13.825203900Z"
    }
   }
  },
  {
   "cell_type": "markdown",
   "source": [
    "Let's do the same merging process for female dataset."
   ],
   "metadata": {
    "collapsed": false
   }
  },
  {
   "cell_type": "code",
   "execution_count": 34,
   "outputs": [
    {
     "data": {
      "text/plain": "                name    sex  count  rank\nyear province                           \n2023 Adana      Asel  Kadın    284     1\n     Adana     Defne  Kadın    211     2",
      "text/html": "<div>\n<style scoped>\n    .dataframe tbody tr th:only-of-type {\n        vertical-align: middle;\n    }\n\n    .dataframe tbody tr th {\n        vertical-align: top;\n    }\n\n    .dataframe thead th {\n        text-align: right;\n    }\n</style>\n<table border=\"1\" class=\"dataframe\">\n  <thead>\n    <tr style=\"text-align: right;\">\n      <th></th>\n      <th></th>\n      <th>name</th>\n      <th>sex</th>\n      <th>count</th>\n      <th>rank</th>\n    </tr>\n    <tr>\n      <th>year</th>\n      <th>province</th>\n      <th></th>\n      <th></th>\n      <th></th>\n      <th></th>\n    </tr>\n  </thead>\n  <tbody>\n    <tr>\n      <th rowspan=\"2\" valign=\"top\">2023</th>\n      <th>Adana</th>\n      <td>Asel</td>\n      <td>Kadın</td>\n      <td>284</td>\n      <td>1</td>\n    </tr>\n    <tr>\n      <th>Adana</th>\n      <td>Defne</td>\n      <td>Kadın</td>\n      <td>211</td>\n      <td>2</td>\n    </tr>\n  </tbody>\n</table>\n</div>"
     },
     "execution_count": 34,
     "metadata": {},
     "output_type": "execute_result"
    }
   ],
   "source": [
    "df_most_common_baby_names_female = pd.read_excel(\"data/raw/population/most_common_baby_names_female.xlsx\",skiprows=1)\n",
    "df_most_common_baby_names_female.rename(columns={\"Doğum Yılı\":\"year\",\"İl\":\"province\",\"İsim\":\"name\",\"Cinsiyet\":\"sex\",\"Sayı\":\"count\",\"Sıra\":\"rank\"}, inplace=True)\n",
    "df_most_common_baby_names_female[[\"province\",\"name\",\"sex\"]]= df_most_common_baby_names_female[[\"province\",\"name\", \"sex\"]].map(lambda x: title_tr(x))\n",
    "df_most_common_baby_names_female.set_index([\"year\",\"province\"],inplace=True)\n",
    "df_most_common_baby_names_female.head(2)"
   ],
   "metadata": {
    "collapsed": false,
    "ExecuteTime": {
     "end_time": "2024-09-20T18:22:28.312786100Z",
     "start_time": "2024-09-20T18:22:25.963326800Z"
    }
   }
  },
  {
   "cell_type": "markdown",
   "source": [
    "For female baby names, we repeat the merging(total female births) and saving the resulting dataframe to csv file."
   ],
   "metadata": {
    "collapsed": false
   }
  },
  {
   "cell_type": "code",
   "execution_count": 35,
   "outputs": [
    {
     "data": {
      "text/plain": "                name    sex  count  rank  total_count\nyear province                                        \n2023 Adana      Asel  Kadın    284     1        13236\n     Adana     Defne  Kadın    211     2        13236",
      "text/html": "<div>\n<style scoped>\n    .dataframe tbody tr th:only-of-type {\n        vertical-align: middle;\n    }\n\n    .dataframe tbody tr th {\n        vertical-align: top;\n    }\n\n    .dataframe thead th {\n        text-align: right;\n    }\n</style>\n<table border=\"1\" class=\"dataframe\">\n  <thead>\n    <tr style=\"text-align: right;\">\n      <th></th>\n      <th></th>\n      <th>name</th>\n      <th>sex</th>\n      <th>count</th>\n      <th>rank</th>\n      <th>total_count</th>\n    </tr>\n    <tr>\n      <th>year</th>\n      <th>province</th>\n      <th></th>\n      <th></th>\n      <th></th>\n      <th></th>\n      <th></th>\n    </tr>\n  </thead>\n  <tbody>\n    <tr>\n      <th rowspan=\"2\" valign=\"top\">2023</th>\n      <th>Adana</th>\n      <td>Asel</td>\n      <td>Kadın</td>\n      <td>284</td>\n      <td>1</td>\n      <td>13236</td>\n    </tr>\n    <tr>\n      <th>Adana</th>\n      <td>Defne</td>\n      <td>Kadın</td>\n      <td>211</td>\n      <td>2</td>\n      <td>13236</td>\n    </tr>\n  </tbody>\n</table>\n</div>"
     },
     "execution_count": 35,
     "metadata": {},
     "output_type": "execute_result"
    }
   ],
   "source": [
    "df_most_common_baby_names_female = df_most_common_baby_names_female.join(df_birth_ibbs3[[\"female\"]])\n",
    "df_most_common_baby_names_female.rename(columns={\"female\":\"total_count\"},inplace=True)\n",
    "df_most_common_baby_names_female.to_csv(\"data/preprocessed/population/most_common_baby_names_female.csv\")\n",
    "df_most_common_baby_names_female.head(2)"
   ],
   "metadata": {
    "collapsed": false,
    "ExecuteTime": {
     "end_time": "2024-09-20T18:22:30.274713600Z",
     "start_time": "2024-09-20T18:22:30.162064400Z"
    }
   }
  },
  {
   "cell_type": "markdown",
   "source": [
    "### 5.  Most Common Names and Surnames-ibbs3"
   ],
   "metadata": {
    "collapsed": false
   }
  },
  {
   "cell_type": "markdown",
   "source": [
    "#### 5.1  Most Common Male Names-ibbs3"
   ],
   "metadata": {
    "collapsed": false
   }
  },
  {
   "cell_type": "code",
   "execution_count": 36,
   "outputs": [
    {
     "data": {
      "text/plain": "                  name    sex  count  rank\nyear province                             \n2023 Adana      Mehmet  Erkek  40154     1\n     Adana     Mustafa  Erkek  30840     2",
      "text/html": "<div>\n<style scoped>\n    .dataframe tbody tr th:only-of-type {\n        vertical-align: middle;\n    }\n\n    .dataframe tbody tr th {\n        vertical-align: top;\n    }\n\n    .dataframe thead th {\n        text-align: right;\n    }\n</style>\n<table border=\"1\" class=\"dataframe\">\n  <thead>\n    <tr style=\"text-align: right;\">\n      <th></th>\n      <th></th>\n      <th>name</th>\n      <th>sex</th>\n      <th>count</th>\n      <th>rank</th>\n    </tr>\n    <tr>\n      <th>year</th>\n      <th>province</th>\n      <th></th>\n      <th></th>\n      <th></th>\n      <th></th>\n    </tr>\n  </thead>\n  <tbody>\n    <tr>\n      <th rowspan=\"2\" valign=\"top\">2023</th>\n      <th>Adana</th>\n      <td>Mehmet</td>\n      <td>Erkek</td>\n      <td>40154</td>\n      <td>1</td>\n    </tr>\n    <tr>\n      <th>Adana</th>\n      <td>Mustafa</td>\n      <td>Erkek</td>\n      <td>30840</td>\n      <td>2</td>\n    </tr>\n  </tbody>\n</table>\n</div>"
     },
     "execution_count": 36,
     "metadata": {},
     "output_type": "execute_result"
    }
   ],
   "source": [
    "df_most_common_names_male = pd.read_excel(\"data/raw/population/most_common_names_male.xlsx\",skiprows=1)\n",
    "df_most_common_names_male.rename(columns={\"Yıl\":\"year\",\"İl\":\"province\",\"İsim\":\"name\",\"Cinsiyet\":\"sex\",\"Sayı\":\"count\",\"Sıra\":\"rank\"}, inplace=True)\n",
    "df_most_common_names_male[[\"province\",\"name\",\"sex\"]]= df_most_common_names_male[[\"province\",\"name\", \"sex\"]].map(lambda x: title_tr(x))\n",
    "df_most_common_names_male.set_index([\"year\",\"province\"],inplace=True)\n",
    "df_most_common_names_male.head(2)"
   ],
   "metadata": {
    "collapsed": false,
    "ExecuteTime": {
     "end_time": "2024-09-20T18:22:42.859751700Z",
     "start_time": "2024-09-20T18:22:40.724572200Z"
    }
   }
  },
  {
   "cell_type": "code",
   "execution_count": 37,
   "outputs": [
    {
     "data": {
      "text/plain": "sex             male                                                           \\\nage_group        0-4   10-14  15-19  20-24  25-29  30-34  35-39  40-44  45-49   \nyear province                                                                   \n2007 Adana     87875  100851  96648  78022  90764  80670  70980  68068  58558   \n     Adıyaman  31114   35241  32872  24563  25786  20867  17573  15887  11527   \n\nsex                   ... female                                            \\\nage_group      50-54  ...  50-54  55-59    5-9  60-64  65-69  70-74  75-79   \nyear province         ...                                                    \n2007 Adana     52112  ...  51402  39610  93870  27931  22227  16919  13775   \n     Adıyaman  10253  ...  10555   9782  32072   7440   6242   4572   3973   \n\nsex                              \nage_group     80-84 85-89   90+  \nyear province                    \n2007 Adana     7869  2810  1761  \n     Adıyaman  2497  1103   656  \n\n[2 rows x 38 columns]",
      "text/html": "<div>\n<style scoped>\n    .dataframe tbody tr th:only-of-type {\n        vertical-align: middle;\n    }\n\n    .dataframe tbody tr th {\n        vertical-align: top;\n    }\n\n    .dataframe thead tr th {\n        text-align: left;\n    }\n\n    .dataframe thead tr:last-of-type th {\n        text-align: right;\n    }\n</style>\n<table border=\"1\" class=\"dataframe\">\n  <thead>\n    <tr>\n      <th></th>\n      <th>sex</th>\n      <th colspan=\"10\" halign=\"left\">male</th>\n      <th>...</th>\n      <th colspan=\"10\" halign=\"left\">female</th>\n    </tr>\n    <tr>\n      <th></th>\n      <th>age_group</th>\n      <th>0-4</th>\n      <th>10-14</th>\n      <th>15-19</th>\n      <th>20-24</th>\n      <th>25-29</th>\n      <th>30-34</th>\n      <th>35-39</th>\n      <th>40-44</th>\n      <th>45-49</th>\n      <th>50-54</th>\n      <th>...</th>\n      <th>50-54</th>\n      <th>55-59</th>\n      <th>5-9</th>\n      <th>60-64</th>\n      <th>65-69</th>\n      <th>70-74</th>\n      <th>75-79</th>\n      <th>80-84</th>\n      <th>85-89</th>\n      <th>90+</th>\n    </tr>\n    <tr>\n      <th>year</th>\n      <th>province</th>\n      <th></th>\n      <th></th>\n      <th></th>\n      <th></th>\n      <th></th>\n      <th></th>\n      <th></th>\n      <th></th>\n      <th></th>\n      <th></th>\n      <th></th>\n      <th></th>\n      <th></th>\n      <th></th>\n      <th></th>\n      <th></th>\n      <th></th>\n      <th></th>\n      <th></th>\n      <th></th>\n      <th></th>\n    </tr>\n  </thead>\n  <tbody>\n    <tr>\n      <th rowspan=\"2\" valign=\"top\">2007</th>\n      <th>Adana</th>\n      <td>87875</td>\n      <td>100851</td>\n      <td>96648</td>\n      <td>78022</td>\n      <td>90764</td>\n      <td>80670</td>\n      <td>70980</td>\n      <td>68068</td>\n      <td>58558</td>\n      <td>52112</td>\n      <td>...</td>\n      <td>51402</td>\n      <td>39610</td>\n      <td>93870</td>\n      <td>27931</td>\n      <td>22227</td>\n      <td>16919</td>\n      <td>13775</td>\n      <td>7869</td>\n      <td>2810</td>\n      <td>1761</td>\n    </tr>\n    <tr>\n      <th>Adıyaman</th>\n      <td>31114</td>\n      <td>35241</td>\n      <td>32872</td>\n      <td>24563</td>\n      <td>25786</td>\n      <td>20867</td>\n      <td>17573</td>\n      <td>15887</td>\n      <td>11527</td>\n      <td>10253</td>\n      <td>...</td>\n      <td>10555</td>\n      <td>9782</td>\n      <td>32072</td>\n      <td>7440</td>\n      <td>6242</td>\n      <td>4572</td>\n      <td>3973</td>\n      <td>2497</td>\n      <td>1103</td>\n      <td>656</td>\n    </tr>\n  </tbody>\n</table>\n<p>2 rows × 38 columns</p>\n</div>"
     },
     "execution_count": 37,
     "metadata": {},
     "output_type": "execute_result"
    }
   ],
   "source": [
    "df_age_sex = pd.read_csv(\"data/preprocessed/population/age-sex-ibbs3-2007-2023.csv\",index_col=[0,1],header=[0,1])\n",
    "df_age_sex.head(2)"
   ],
   "metadata": {
    "collapsed": false,
    "ExecuteTime": {
     "end_time": "2024-09-20T18:22:44.742502300Z",
     "start_time": "2024-09-20T18:22:44.647394600Z"
    }
   }
  },
  {
   "cell_type": "markdown",
   "source": [
    "Merge df_most_common_names_male with \"male\" column of df_age_sex."
   ],
   "metadata": {
    "collapsed": false
   }
  },
  {
   "cell_type": "code",
   "execution_count": 38,
   "outputs": [
    {
     "data": {
      "text/plain": "                  name    sex  count  rank  total_count\nyear province                                          \n2023 Adana      Mehmet  Erkek  40154     1      1135046\n     Adana     Mustafa  Erkek  30840     2      1135046",
      "text/html": "<div>\n<style scoped>\n    .dataframe tbody tr th:only-of-type {\n        vertical-align: middle;\n    }\n\n    .dataframe tbody tr th {\n        vertical-align: top;\n    }\n\n    .dataframe thead th {\n        text-align: right;\n    }\n</style>\n<table border=\"1\" class=\"dataframe\">\n  <thead>\n    <tr style=\"text-align: right;\">\n      <th></th>\n      <th></th>\n      <th>name</th>\n      <th>sex</th>\n      <th>count</th>\n      <th>rank</th>\n      <th>total_count</th>\n    </tr>\n    <tr>\n      <th>year</th>\n      <th>province</th>\n      <th></th>\n      <th></th>\n      <th></th>\n      <th></th>\n      <th></th>\n    </tr>\n  </thead>\n  <tbody>\n    <tr>\n      <th rowspan=\"2\" valign=\"top\">2023</th>\n      <th>Adana</th>\n      <td>Mehmet</td>\n      <td>Erkek</td>\n      <td>40154</td>\n      <td>1</td>\n      <td>1135046</td>\n    </tr>\n    <tr>\n      <th>Adana</th>\n      <td>Mustafa</td>\n      <td>Erkek</td>\n      <td>30840</td>\n      <td>2</td>\n      <td>1135046</td>\n    </tr>\n  </tbody>\n</table>\n</div>"
     },
     "execution_count": 38,
     "metadata": {},
     "output_type": "execute_result"
    }
   ],
   "source": [
    "df_most_common_names_male = df_most_common_names_male.join(df_age_sex[\"male\"].sum(axis=1).to_frame(\"total_count\"))\n",
    "df_most_common_names_male.to_csv(\"data/preprocessed/population/most_common_names_male.csv\")\n",
    "df_most_common_names_male.head(2)"
   ],
   "metadata": {
    "collapsed": false,
    "ExecuteTime": {
     "end_time": "2024-09-20T18:22:50.241428700Z",
     "start_time": "2024-09-20T18:22:50.174547700Z"
    }
   }
  },
  {
   "cell_type": "markdown",
   "source": [
    "#### 5.2  Most Common Female Names-ibbs3"
   ],
   "metadata": {
    "collapsed": false
   }
  },
  {
   "cell_type": "markdown",
   "source": [
    "Merge df_most_common_names_female with \"female\" column of df_age_sex"
   ],
   "metadata": {
    "collapsed": false
   }
  },
  {
   "cell_type": "code",
   "outputs": [
    {
     "data": {
      "text/plain": "                name    sex  count  rank\nyear province                           \n2023 Adana     Fatma  Kadın  31705     1\n     Adana      Ayşe  Kadın  25029     2",
      "text/html": "<div>\n<style scoped>\n    .dataframe tbody tr th:only-of-type {\n        vertical-align: middle;\n    }\n\n    .dataframe tbody tr th {\n        vertical-align: top;\n    }\n\n    .dataframe thead th {\n        text-align: right;\n    }\n</style>\n<table border=\"1\" class=\"dataframe\">\n  <thead>\n    <tr style=\"text-align: right;\">\n      <th></th>\n      <th></th>\n      <th>name</th>\n      <th>sex</th>\n      <th>count</th>\n      <th>rank</th>\n    </tr>\n    <tr>\n      <th>year</th>\n      <th>province</th>\n      <th></th>\n      <th></th>\n      <th></th>\n      <th></th>\n    </tr>\n  </thead>\n  <tbody>\n    <tr>\n      <th rowspan=\"2\" valign=\"top\">2023</th>\n      <th>Adana</th>\n      <td>Fatma</td>\n      <td>Kadın</td>\n      <td>31705</td>\n      <td>1</td>\n    </tr>\n    <tr>\n      <th>Adana</th>\n      <td>Ayşe</td>\n      <td>Kadın</td>\n      <td>25029</td>\n      <td>2</td>\n    </tr>\n  </tbody>\n</table>\n</div>"
     },
     "execution_count": 39,
     "metadata": {},
     "output_type": "execute_result"
    }
   ],
   "source": [
    "df_most_common_names_female = pd.read_excel(\"data/raw/population/most_common_names_female.xlsx\",skiprows=1,engine='openpyxl')\n",
    "df_most_common_names_female.rename(columns={\"Yıl\":\"year\",\"İl\":\"province\",\"İsim\":\"name\",\"Cinsiyet\":\"sex\",\"Sayı\":\"count\",\"Sıra\":\"rank\"}, inplace=True)\n",
    "df_most_common_names_female[[\"province\",\"name\",\"sex\"]]= df_most_common_names_female[[\"province\",\"name\", \"sex\"]].map(lambda x: title_tr(x))\n",
    "df_most_common_names_female.set_index([\"year\",\"province\"],inplace=True)\n",
    "df_most_common_names_female.head(2)"
   ],
   "metadata": {
    "collapsed": false,
    "ExecuteTime": {
     "end_time": "2024-09-20T18:23:01.811058100Z",
     "start_time": "2024-09-20T18:22:59.740680400Z"
    }
   },
   "execution_count": 39
  },
  {
   "cell_type": "markdown",
   "source": [
    "Merge df_most_common_names_female with \"female\" column of df_age_sex"
   ],
   "metadata": {
    "collapsed": false
   }
  },
  {
   "cell_type": "code",
   "execution_count": 40,
   "outputs": [
    {
     "data": {
      "text/plain": "                name    sex  count  rank  total_count\nyear province                                        \n2023 Adana     Fatma  Kadın  31705     1      1135252\n     Adana      Ayşe  Kadın  25029     2      1135252",
      "text/html": "<div>\n<style scoped>\n    .dataframe tbody tr th:only-of-type {\n        vertical-align: middle;\n    }\n\n    .dataframe tbody tr th {\n        vertical-align: top;\n    }\n\n    .dataframe thead th {\n        text-align: right;\n    }\n</style>\n<table border=\"1\" class=\"dataframe\">\n  <thead>\n    <tr style=\"text-align: right;\">\n      <th></th>\n      <th></th>\n      <th>name</th>\n      <th>sex</th>\n      <th>count</th>\n      <th>rank</th>\n      <th>total_count</th>\n    </tr>\n    <tr>\n      <th>year</th>\n      <th>province</th>\n      <th></th>\n      <th></th>\n      <th></th>\n      <th></th>\n      <th></th>\n    </tr>\n  </thead>\n  <tbody>\n    <tr>\n      <th rowspan=\"2\" valign=\"top\">2023</th>\n      <th>Adana</th>\n      <td>Fatma</td>\n      <td>Kadın</td>\n      <td>31705</td>\n      <td>1</td>\n      <td>1135252</td>\n    </tr>\n    <tr>\n      <th>Adana</th>\n      <td>Ayşe</td>\n      <td>Kadın</td>\n      <td>25029</td>\n      <td>2</td>\n      <td>1135252</td>\n    </tr>\n  </tbody>\n</table>\n</div>"
     },
     "execution_count": 40,
     "metadata": {},
     "output_type": "execute_result"
    }
   ],
   "source": [
    "df_most_common_names_female = df_most_common_names_female.join(df_age_sex[\"female\"].sum(axis=1).to_frame(\"total_count\"))\n",
    "df_most_common_names_female.to_csv(\"data/preprocessed/population/most_common_names_female.csv\")\n",
    "df_most_common_names_female.head(2)"
   ],
   "metadata": {
    "collapsed": false,
    "ExecuteTime": {
     "end_time": "2024-09-20T18:23:03.424258400Z",
     "start_time": "2024-09-20T18:23:03.317802300Z"
    }
   }
  },
  {
   "cell_type": "markdown",
   "source": [
    "#### 5.3. Most Common Surnames-ibbs3"
   ],
   "metadata": {
    "collapsed": false
   }
  },
  {
   "cell_type": "code",
   "execution_count": 41,
   "outputs": [
    {
     "data": {
      "text/plain": "                 name  count  rank\nyear province                     \n2023 Adana     Yılmaz  26091     1\n     Adana       Kaya  23543     2",
      "text/html": "<div>\n<style scoped>\n    .dataframe tbody tr th:only-of-type {\n        vertical-align: middle;\n    }\n\n    .dataframe tbody tr th {\n        vertical-align: top;\n    }\n\n    .dataframe thead th {\n        text-align: right;\n    }\n</style>\n<table border=\"1\" class=\"dataframe\">\n  <thead>\n    <tr style=\"text-align: right;\">\n      <th></th>\n      <th></th>\n      <th>name</th>\n      <th>count</th>\n      <th>rank</th>\n    </tr>\n    <tr>\n      <th>year</th>\n      <th>province</th>\n      <th></th>\n      <th></th>\n      <th></th>\n    </tr>\n  </thead>\n  <tbody>\n    <tr>\n      <th rowspan=\"2\" valign=\"top\">2023</th>\n      <th>Adana</th>\n      <td>Yılmaz</td>\n      <td>26091</td>\n      <td>1</td>\n    </tr>\n    <tr>\n      <th>Adana</th>\n      <td>Kaya</td>\n      <td>23543</td>\n      <td>2</td>\n    </tr>\n  </tbody>\n</table>\n</div>"
     },
     "execution_count": 41,
     "metadata": {},
     "output_type": "execute_result"
    }
   ],
   "source": [
    "df_most_common_surnames = pd.read_excel(\"data/raw/population/most_common_surnames.xlsx\",skiprows=1)\n",
    "df_most_common_surnames.rename(columns={\"Yıl\":\"year\",\"İl\":\"province\",\"Soyİsim\":\"name\",\"Sayı\":\"count\",\"Sıra\":\"rank\"}, inplace=True)\n",
    "df_most_common_surnames.drop_duplicates(inplace=True)\n",
    "df_most_common_surnames[[\"province\",\"name\"]]= df_most_common_surnames[[\"province\",\"name\"]].map(lambda x: title_tr(x))\n",
    "df_most_common_surnames.set_index([\"year\",\"province\"],inplace=True)\n",
    "df_most_common_surnames.head(2)"
   ],
   "metadata": {
    "collapsed": false,
    "ExecuteTime": {
     "end_time": "2024-09-20T18:23:15.489211600Z",
     "start_time": "2024-09-20T18:23:12.027785100Z"
    }
   }
  },
  {
   "cell_type": "code",
   "outputs": [
    {
     "data": {
      "text/plain": "                 name  count  rank  total_count\nyear province                                  \n2023 Adana     Yılmaz  26091     1      2270298\n     Adana       Kaya  23543     2      2270298",
      "text/html": "<div>\n<style scoped>\n    .dataframe tbody tr th:only-of-type {\n        vertical-align: middle;\n    }\n\n    .dataframe tbody tr th {\n        vertical-align: top;\n    }\n\n    .dataframe thead th {\n        text-align: right;\n    }\n</style>\n<table border=\"1\" class=\"dataframe\">\n  <thead>\n    <tr style=\"text-align: right;\">\n      <th></th>\n      <th></th>\n      <th>name</th>\n      <th>count</th>\n      <th>rank</th>\n      <th>total_count</th>\n    </tr>\n    <tr>\n      <th>year</th>\n      <th>province</th>\n      <th></th>\n      <th></th>\n      <th></th>\n      <th></th>\n    </tr>\n  </thead>\n  <tbody>\n    <tr>\n      <th rowspan=\"2\" valign=\"top\">2023</th>\n      <th>Adana</th>\n      <td>Yılmaz</td>\n      <td>26091</td>\n      <td>1</td>\n      <td>2270298</td>\n    </tr>\n    <tr>\n      <th>Adana</th>\n      <td>Kaya</td>\n      <td>23543</td>\n      <td>2</td>\n      <td>2270298</td>\n    </tr>\n  </tbody>\n</table>\n</div>"
     },
     "execution_count": 42,
     "metadata": {},
     "output_type": "execute_result"
    }
   ],
   "source": [
    "df_most_common_surnames = df_most_common_surnames.join(df_age_sex.sum(axis=1).to_frame(\"total_count\"))\n",
    "df_most_common_surnames.to_csv(\"data/preprocessed/population/most_common_surnames.csv\")\n",
    "df_most_common_surnames.head(2)"
   ],
   "metadata": {
    "collapsed": false,
    "ExecuteTime": {
     "end_time": "2024-09-20T18:23:16.507462100Z",
     "start_time": "2024-09-20T18:23:16.438169800Z"
    }
   },
   "execution_count": 42
  },
  {
   "cell_type": "markdown",
   "source": [
    "## Finally we translate codes to Turkish."
   ],
   "metadata": {
    "collapsed": false
   }
  },
  {
   "cell_type": "code",
   "outputs": [],
   "source": [
    "df = pd.read_excel(\"data/raw/region_codes.xlsx\")\n",
    "\n",
    "# Step 2: Replace 'alt bölgesi' with 'sub-region' in the specific column (assuming the column is named 'Region')\n",
    "df['sub-region'] = df['sub-region'].str.replace('alt bölgesi', '\\nsub-region')\n",
    "\n",
    "# Step 3: Optionally, save the updated DataFrame back to the Excel file\n",
    "df.to_excel('data/preprocessed/region_codes.xlsx', index=False)"
   ],
   "metadata": {
    "collapsed": false,
    "ExecuteTime": {
     "end_time": "2024-09-21T16:14:53.842380800Z",
     "start_time": "2024-09-21T16:14:53.760719400Z"
    }
   },
   "execution_count": 6
  },
  {
   "cell_type": "code",
   "outputs": [],
   "source": [],
   "metadata": {
    "collapsed": false
   }
  }
 ]
}

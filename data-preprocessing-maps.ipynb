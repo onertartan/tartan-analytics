{
 "cells": [
  {
   "cell_type": "code",
   "outputs": [
    {
     "data": {
      "text/plain": "      Adana Unnamed: 1            Unnamed: 2  \\\n0    Aladağ        NaN  Okuma yazma bilmeyen   \n1     18-24      Erkek                     -   \n2       NaN      Kadın                     -   \n3     25-29      Erkek                     1   \n4       NaN      Kadın                     2   \n..      ...        ...                   ...   \n385   70-74      Erkek                   338   \n386     NaN      Kadın                  1859   \n387     75+      Erkek                   768   \n388     NaN      Kadın                  3555   \n389  Toplam        NaN                 18213   \n\n                                      Unnamed: 3 Unnamed: 4  Unnamed: 5  \\\n0    Okuma yazma bilen fakat bir okul bitirmeyen    İlkokul  İlköğretim   \n1                                              6          3         197   \n2                                             16          9         241   \n3                                              2          -         196   \n4                                             14          1         213   \n..                                           ...        ...         ...   \n385                                          296       1716          58   \n386                                          670       1096          13   \n387                                          570       1682          21   \n388                                          746        733           6   \n389                                        22315      65521       52178   \n\n                   Unnamed: 6            Unnamed: 7               Unnamed: 8  \\\n0    Ortaokul veya dengi okul  Lise veya dengi okul  Yüksekokul veya fakülte   \n1                         120                   525                      144   \n2                          70                   422                      114   \n3                           1                   187                      174   \n4                           -                   122                      131   \n..                        ...                   ...                      ...   \n385                       246                   158                       67   \n386                        45                    42                       11   \n387                       144                    99                       32   \n388                        33                    27                        8   \n389                     26581                 60816                    26941   \n\n        Unnamed: 9 Unnamed: 10 Unnamed: 11 Unnamed: 12  \n0    Yüksek lisans     Doktora  Bilinmeyen      Toplam  \n1                -           -           -         995  \n2                -           -           -         872  \n3                8           -           -         569  \n4                1           -           -         484  \n..             ...         ...         ...         ...  \n385              1           3          26        2909  \n386              -           1          20        3757  \n387              1           1          25        3343  \n388              -           1          54        5163  \n389           1354         244        1351      275514  \n\n[390 rows x 13 columns]",
      "text/html": "<div>\n<style scoped>\n    .dataframe tbody tr th:only-of-type {\n        vertical-align: middle;\n    }\n\n    .dataframe tbody tr th {\n        vertical-align: top;\n    }\n\n    .dataframe thead th {\n        text-align: right;\n    }\n</style>\n<table border=\"1\" class=\"dataframe\">\n  <thead>\n    <tr style=\"text-align: right;\">\n      <th></th>\n      <th>Adana</th>\n      <th>Unnamed: 1</th>\n      <th>Unnamed: 2</th>\n      <th>Unnamed: 3</th>\n      <th>Unnamed: 4</th>\n      <th>Unnamed: 5</th>\n      <th>Unnamed: 6</th>\n      <th>Unnamed: 7</th>\n      <th>Unnamed: 8</th>\n      <th>Unnamed: 9</th>\n      <th>Unnamed: 10</th>\n      <th>Unnamed: 11</th>\n      <th>Unnamed: 12</th>\n    </tr>\n  </thead>\n  <tbody>\n    <tr>\n      <th>0</th>\n      <td>Aladağ</td>\n      <td>NaN</td>\n      <td>Okuma yazma bilmeyen</td>\n      <td>Okuma yazma bilen fakat bir okul bitirmeyen</td>\n      <td>İlkokul</td>\n      <td>İlköğretim</td>\n      <td>Ortaokul veya dengi okul</td>\n      <td>Lise veya dengi okul</td>\n      <td>Yüksekokul veya fakülte</td>\n      <td>Yüksek lisans</td>\n      <td>Doktora</td>\n      <td>Bilinmeyen</td>\n      <td>Toplam</td>\n    </tr>\n    <tr>\n      <th>1</th>\n      <td>18-24</td>\n      <td>Erkek</td>\n      <td>-</td>\n      <td>6</td>\n      <td>3</td>\n      <td>197</td>\n      <td>120</td>\n      <td>525</td>\n      <td>144</td>\n      <td>-</td>\n      <td>-</td>\n      <td>-</td>\n      <td>995</td>\n    </tr>\n    <tr>\n      <th>2</th>\n      <td>NaN</td>\n      <td>Kadın</td>\n      <td>-</td>\n      <td>16</td>\n      <td>9</td>\n      <td>241</td>\n      <td>70</td>\n      <td>422</td>\n      <td>114</td>\n      <td>-</td>\n      <td>-</td>\n      <td>-</td>\n      <td>872</td>\n    </tr>\n    <tr>\n      <th>3</th>\n      <td>25-29</td>\n      <td>Erkek</td>\n      <td>1</td>\n      <td>2</td>\n      <td>-</td>\n      <td>196</td>\n      <td>1</td>\n      <td>187</td>\n      <td>174</td>\n      <td>8</td>\n      <td>-</td>\n      <td>-</td>\n      <td>569</td>\n    </tr>\n    <tr>\n      <th>4</th>\n      <td>NaN</td>\n      <td>Kadın</td>\n      <td>2</td>\n      <td>14</td>\n      <td>1</td>\n      <td>213</td>\n      <td>-</td>\n      <td>122</td>\n      <td>131</td>\n      <td>1</td>\n      <td>-</td>\n      <td>-</td>\n      <td>484</td>\n    </tr>\n    <tr>\n      <th>...</th>\n      <td>...</td>\n      <td>...</td>\n      <td>...</td>\n      <td>...</td>\n      <td>...</td>\n      <td>...</td>\n      <td>...</td>\n      <td>...</td>\n      <td>...</td>\n      <td>...</td>\n      <td>...</td>\n      <td>...</td>\n      <td>...</td>\n    </tr>\n    <tr>\n      <th>385</th>\n      <td>70-74</td>\n      <td>Erkek</td>\n      <td>338</td>\n      <td>296</td>\n      <td>1716</td>\n      <td>58</td>\n      <td>246</td>\n      <td>158</td>\n      <td>67</td>\n      <td>1</td>\n      <td>3</td>\n      <td>26</td>\n      <td>2909</td>\n    </tr>\n    <tr>\n      <th>386</th>\n      <td>NaN</td>\n      <td>Kadın</td>\n      <td>1859</td>\n      <td>670</td>\n      <td>1096</td>\n      <td>13</td>\n      <td>45</td>\n      <td>42</td>\n      <td>11</td>\n      <td>-</td>\n      <td>1</td>\n      <td>20</td>\n      <td>3757</td>\n    </tr>\n    <tr>\n      <th>387</th>\n      <td>75+</td>\n      <td>Erkek</td>\n      <td>768</td>\n      <td>570</td>\n      <td>1682</td>\n      <td>21</td>\n      <td>144</td>\n      <td>99</td>\n      <td>32</td>\n      <td>1</td>\n      <td>1</td>\n      <td>25</td>\n      <td>3343</td>\n    </tr>\n    <tr>\n      <th>388</th>\n      <td>NaN</td>\n      <td>Kadın</td>\n      <td>3555</td>\n      <td>746</td>\n      <td>733</td>\n      <td>6</td>\n      <td>33</td>\n      <td>27</td>\n      <td>8</td>\n      <td>-</td>\n      <td>1</td>\n      <td>54</td>\n      <td>5163</td>\n    </tr>\n    <tr>\n      <th>389</th>\n      <td>Toplam</td>\n      <td>NaN</td>\n      <td>18213</td>\n      <td>22315</td>\n      <td>65521</td>\n      <td>52178</td>\n      <td>26581</td>\n      <td>60816</td>\n      <td>26941</td>\n      <td>1354</td>\n      <td>244</td>\n      <td>1351</td>\n      <td>275514</td>\n    </tr>\n  </tbody>\n</table>\n<p>390 rows × 13 columns</p>\n</div>"
     },
     "execution_count": 8,
     "metadata": {},
     "output_type": "execute_result"
    }
   ],
   "source": [
    "import pandas as pd\n",
    "pd.read_excel(\"Adana.xlsx\",skiprows=7).iloc[:-2,:]"
   ],
   "metadata": {
    "collapsed": false,
    "ExecuteTime": {
     "end_time": "2024-10-16T18:31:43.983914300Z",
     "start_time": "2024-10-16T18:31:43.804241400Z"
    }
   },
   "id": "bbc5569f855d9f4a",
   "execution_count": 8
  },
  {
   "cell_type": "code",
   "execution_count": 39,
   "outputs": [
    {
     "data": {
      "text/plain": "'tr_TR.UTF-8'"
     },
     "execution_count": 39,
     "metadata": {},
     "output_type": "execute_result"
    }
   ],
   "source": [
    "import locale\n",
    "import pandas as pd\n",
    "import geopandas as gpd\n",
    "# Set locale to Turkish\n",
    "locale.setlocale(locale.LC_COLLATE, 'tr_TR.UTF-8')\n",
    "gpd.read_file(\"data/preprocessed/gdf_borders_ibbs3.geojson\").head()\n",
    "pd.read_csv(\"data/preprocessed/region_codes.csv\", index_col=0)"
   ],
   "metadata": {
    "collapsed": false,
    "ExecuteTime": {
     "end_time": "2024-10-15T07:39:14.743772Z",
     "start_time": "2024-10-15T07:39:14.527713100Z"
    }
   },
   "id": "584d00575c883ef6"
  },
  {
   "cell_type": "markdown",
   "source": [
    "# Provinces"
   ],
   "metadata": {
    "collapsed": false
   },
   "id": "51128bb6ade7f95e"
  },
  {
   "cell_type": "code",
   "outputs": [
    {
     "data": {
      "text/plain": "         province                                           geometry  id\n0           Adana  MULTIPOLYGON (((35.27903 36.64069, 35.27903 36...   0\n1        Adıyaman  POLYGON ((38.65534 38.09172, 38.66739 38.0916,...   1\n2  Afyonkarahisar  POLYGON ((31.36277 39.16468, 31.36626 39.15131...   2\n3            Ağrı  POLYGON ((43.39566 39.9258, 43.39598 39.91575,...   3\n4         Aksaray  POLYGON ((34.20521 38.84115, 34.21472 38.82775...   4",
      "text/html": "<div>\n<style scoped>\n    .dataframe tbody tr th:only-of-type {\n        vertical-align: middle;\n    }\n\n    .dataframe tbody tr th {\n        vertical-align: top;\n    }\n\n    .dataframe thead th {\n        text-align: right;\n    }\n</style>\n<table border=\"1\" class=\"dataframe\">\n  <thead>\n    <tr style=\"text-align: right;\">\n      <th></th>\n      <th>province</th>\n      <th>geometry</th>\n      <th>id</th>\n    </tr>\n  </thead>\n  <tbody>\n    <tr>\n      <th>0</th>\n      <td>Adana</td>\n      <td>MULTIPOLYGON (((35.27903 36.64069, 35.27903 36...</td>\n      <td>0</td>\n    </tr>\n    <tr>\n      <th>1</th>\n      <td>Adıyaman</td>\n      <td>POLYGON ((38.65534 38.09172, 38.66739 38.0916,...</td>\n      <td>1</td>\n    </tr>\n    <tr>\n      <th>2</th>\n      <td>Afyonkarahisar</td>\n      <td>POLYGON ((31.36277 39.16468, 31.36626 39.15131...</td>\n      <td>2</td>\n    </tr>\n    <tr>\n      <th>3</th>\n      <td>Ağrı</td>\n      <td>POLYGON ((43.39566 39.9258, 43.39598 39.91575,...</td>\n      <td>3</td>\n    </tr>\n    <tr>\n      <th>4</th>\n      <td>Aksaray</td>\n      <td>POLYGON ((34.20521 38.84115, 34.21472 38.82775...</td>\n      <td>4</td>\n    </tr>\n  </tbody>\n</table>\n</div>"
     },
     "execution_count": 2,
     "metadata": {},
     "output_type": "execute_result"
    }
   ],
   "source": [
    "gdf_borders = gpd.read_file(\"data/raw/gdf_borders_ibbs3.geojson\")\n",
    "gdf_borders.sort_values(by=\"province\",  inplace=True,key = lambda x:[locale.strxfrm(y) for y in x])\n",
    "gdf_borders.reset_index(inplace=True,drop=True)\n",
    "gdf_borders[\"id\"] = gdf_borders.index\n",
    "gdf_borders.head()"
   ],
   "metadata": {
    "collapsed": false,
    "ExecuteTime": {
     "end_time": "2024-09-26T12:42:06.262185200Z",
     "start_time": "2024-09-26T12:42:06.261680700Z"
    }
   },
   "id": "93ba68000bea0d29",
   "execution_count": 2
  },
  {
   "cell_type": "code",
   "execution_count": 3,
   "outputs": [
    {
     "data": {
      "text/plain": "         ibbs1 code        region ibbs2 code            sub-region ibbs3 code\nprovince                                                                     \nİstanbul        TR1      İstanbul       TR10  İstanbul alt bölgesi      TR100\nTekirdağ        TR2  Batı Marmara       TR21  Tekirdağ alt bölgesi      TR211",
      "text/html": "<div>\n<style scoped>\n    .dataframe tbody tr th:only-of-type {\n        vertical-align: middle;\n    }\n\n    .dataframe tbody tr th {\n        vertical-align: top;\n    }\n\n    .dataframe thead th {\n        text-align: right;\n    }\n</style>\n<table border=\"1\" class=\"dataframe\">\n  <thead>\n    <tr style=\"text-align: right;\">\n      <th></th>\n      <th>ibbs1 code</th>\n      <th>region</th>\n      <th>ibbs2 code</th>\n      <th>sub-region</th>\n      <th>ibbs3 code</th>\n    </tr>\n    <tr>\n      <th>province</th>\n      <th></th>\n      <th></th>\n      <th></th>\n      <th></th>\n      <th></th>\n    </tr>\n  </thead>\n  <tbody>\n    <tr>\n      <th>İstanbul</th>\n      <td>TR1</td>\n      <td>İstanbul</td>\n      <td>TR10</td>\n      <td>İstanbul alt bölgesi</td>\n      <td>TR100</td>\n    </tr>\n    <tr>\n      <th>Tekirdağ</th>\n      <td>TR2</td>\n      <td>Batı Marmara</td>\n      <td>TR21</td>\n      <td>Tekirdağ alt bölgesi</td>\n      <td>TR211</td>\n    </tr>\n  </tbody>\n</table>\n</div>"
     },
     "execution_count": 3,
     "metadata": {},
     "output_type": "execute_result"
    }
   ],
   "source": [
    "df_codes = pd.read_excel(\"data/raw/region_codes.xlsx\",index_col=-1)\n",
    "df_codes.head(2)"
   ],
   "metadata": {
    "collapsed": false,
    "ExecuteTime": {
     "end_time": "2024-11-20T13:43:37.435822100Z",
     "start_time": "2024-11-20T13:43:36.927898500Z"
    }
   },
   "id": "cd0bcd52b362bedc"
  },
  {
   "cell_type": "code",
   "outputs": [
    {
     "data": {
      "text/plain": "         ibbs1 code        region ibbs2 code            sub-region ibbs3 code\nprovince                                                                     \nİstanbul        TR1      İstanbul       TR10  İstanbul alt bölgesi      TR100\nTekirdağ        TR2  Batı Marmara       TR21  Tekirdağ alt bölgesi      TR211",
      "text/html": "<div>\n<style scoped>\n    .dataframe tbody tr th:only-of-type {\n        vertical-align: middle;\n    }\n\n    .dataframe tbody tr th {\n        vertical-align: top;\n    }\n\n    .dataframe thead th {\n        text-align: right;\n    }\n</style>\n<table border=\"1\" class=\"dataframe\">\n  <thead>\n    <tr style=\"text-align: right;\">\n      <th></th>\n      <th>ibbs1 code</th>\n      <th>region</th>\n      <th>ibbs2 code</th>\n      <th>sub-region</th>\n      <th>ibbs3 code</th>\n    </tr>\n    <tr>\n      <th>province</th>\n      <th></th>\n      <th></th>\n      <th></th>\n      <th></th>\n      <th></th>\n    </tr>\n  </thead>\n  <tbody>\n    <tr>\n      <th>İstanbul</th>\n      <td>TR1</td>\n      <td>İstanbul</td>\n      <td>TR10</td>\n      <td>İstanbul alt bölgesi</td>\n      <td>TR100</td>\n    </tr>\n    <tr>\n      <th>Tekirdağ</th>\n      <td>TR2</td>\n      <td>Batı Marmara</td>\n      <td>TR21</td>\n      <td>Tekirdağ alt bölgesi</td>\n      <td>TR211</td>\n    </tr>\n  </tbody>\n</table>\n</div>"
     },
     "execution_count": 4,
     "metadata": {},
     "output_type": "execute_result"
    }
   ],
   "source": [
    "df_codes = df_codes.ffill()\n",
    "df_codes.head(2)"
   ],
   "metadata": {
    "collapsed": false,
    "ExecuteTime": {
     "end_time": "2024-11-20T13:43:39.471862700Z",
     "start_time": "2024-11-20T13:43:39.424569100Z"
    }
   },
   "id": "d94fbd6c573ec6dd",
   "execution_count": 4
  },
  {
   "cell_type": "code",
   "outputs": [
    {
     "data": {
      "text/plain": "         ibbs1 code        region ibbs2 code             sub-region ibbs3 code\nprovince                                                                      \nİstanbul        TR1      İstanbul       TR10  İstanbul \\nsub-region      TR100\nTekirdağ        TR2  Batı Marmara       TR21  Tekirdağ \\nsub-region      TR211",
      "text/html": "<div>\n<style scoped>\n    .dataframe tbody tr th:only-of-type {\n        vertical-align: middle;\n    }\n\n    .dataframe tbody tr th {\n        vertical-align: top;\n    }\n\n    .dataframe thead th {\n        text-align: right;\n    }\n</style>\n<table border=\"1\" class=\"dataframe\">\n  <thead>\n    <tr style=\"text-align: right;\">\n      <th></th>\n      <th>ibbs1 code</th>\n      <th>region</th>\n      <th>ibbs2 code</th>\n      <th>sub-region</th>\n      <th>ibbs3 code</th>\n    </tr>\n    <tr>\n      <th>province</th>\n      <th></th>\n      <th></th>\n      <th></th>\n      <th></th>\n      <th></th>\n    </tr>\n  </thead>\n  <tbody>\n    <tr>\n      <th>İstanbul</th>\n      <td>TR1</td>\n      <td>İstanbul</td>\n      <td>TR10</td>\n      <td>İstanbul \\nsub-region</td>\n      <td>TR100</td>\n    </tr>\n    <tr>\n      <th>Tekirdağ</th>\n      <td>TR2</td>\n      <td>Batı Marmara</td>\n      <td>TR21</td>\n      <td>Tekirdağ \\nsub-region</td>\n      <td>TR211</td>\n    </tr>\n  </tbody>\n</table>\n</div>"
     },
     "execution_count": 5,
     "metadata": {},
     "output_type": "execute_result"
    }
   ],
   "source": [
    "df_codes[[\"sub-region\"]] =df_codes[[\"sub-region\"]].astype(str)\n",
    "df_codes[\"sub-region\"] = df_codes[\"sub-region\"].map(lambda x: x.replace(\"alt bölgesi\",\"\\nsub-region\"))\n",
    "df_codes.head(2)"
   ],
   "metadata": {
    "collapsed": false,
    "ExecuteTime": {
     "end_time": "2024-11-20T13:43:41.698166900Z",
     "start_time": "2024-11-20T13:43:41.674772Z"
    }
   },
   "id": "a3112a27d0c69a8a",
   "execution_count": 5
  },
  {
   "cell_type": "code",
   "execution_count": 6,
   "outputs": [],
   "source": [
    "region_dict = {\"İstanbul\":\"Istanbul\",\"Batı Marmara\":\"Western Marmara\",\"Ege\":\"Aegean\",\"Doğu Marmara\":\"Eastern Marmara\",\"Batı Anadolu\":\"Western Anatolia\",\n",
    "               \"Akdeniz\":\"Mediterranean\",\"Orta Anadolu\":\"Central Anatolia\",\"Batı Karadeniz\":\"Western Black Sea\",\"Doğu Karadeniz\":\"Eastern Black Sea\",\n",
    "          \"Kuzeydoğu Anadolu\":\"Northeastern Anatolia\",\"Ortadoğu Anadolu\":\"Middle East Anatolia\",\"Güneydoğu Anadolu\":\"Southeastern Anatolia\"}"
   ],
   "metadata": {
    "collapsed": false,
    "ExecuteTime": {
     "end_time": "2024-11-20T13:43:45.874584900Z",
     "start_time": "2024-11-20T13:43:45.796788300Z"
    }
   },
   "id": "b2c7e3d25936290d"
  },
  {
   "cell_type": "code",
   "execution_count": 7,
   "outputs": [
    {
     "data": {
      "text/plain": "         ibbs1 code           region ibbs2 code             sub-region  \\\nprovince                                                                 \nİstanbul        TR1         Istanbul       TR10  İstanbul \\nsub-region   \nTekirdağ        TR2  Western Marmara       TR21  Tekirdağ \\nsub-region   \n\n         ibbs3 code  \nprovince             \nİstanbul      TR100  \nTekirdağ      TR211  ",
      "text/html": "<div>\n<style scoped>\n    .dataframe tbody tr th:only-of-type {\n        vertical-align: middle;\n    }\n\n    .dataframe tbody tr th {\n        vertical-align: top;\n    }\n\n    .dataframe thead th {\n        text-align: right;\n    }\n</style>\n<table border=\"1\" class=\"dataframe\">\n  <thead>\n    <tr style=\"text-align: right;\">\n      <th></th>\n      <th>ibbs1 code</th>\n      <th>region</th>\n      <th>ibbs2 code</th>\n      <th>sub-region</th>\n      <th>ibbs3 code</th>\n    </tr>\n    <tr>\n      <th>province</th>\n      <th></th>\n      <th></th>\n      <th></th>\n      <th></th>\n      <th></th>\n    </tr>\n  </thead>\n  <tbody>\n    <tr>\n      <th>İstanbul</th>\n      <td>TR1</td>\n      <td>Istanbul</td>\n      <td>TR10</td>\n      <td>İstanbul \\nsub-region</td>\n      <td>TR100</td>\n    </tr>\n    <tr>\n      <th>Tekirdağ</th>\n      <td>TR2</td>\n      <td>Western Marmara</td>\n      <td>TR21</td>\n      <td>Tekirdağ \\nsub-region</td>\n      <td>TR211</td>\n    </tr>\n  </tbody>\n</table>\n</div>"
     },
     "execution_count": 7,
     "metadata": {},
     "output_type": "execute_result"
    }
   ],
   "source": [
    "df_codes[\"region\"] = df_codes[\"region\"].map(region_dict)\n",
    "df_codes.head(2)"
   ],
   "metadata": {
    "collapsed": false,
    "ExecuteTime": {
     "end_time": "2024-11-20T13:43:48.210829500Z",
     "start_time": "2024-11-20T13:43:48.194706900Z"
    }
   },
   "id": "a36512af9edca067"
  },
  {
   "cell_type": "code",
   "outputs": [
    {
     "data": {
      "text/plain": "   province                                           geometry  id ibbs1 code  \\\n0     Adana  MULTIPOLYGON (((35.27903 36.64069, 35.27903 36...   0        TR6   \n1  Adıyaman  POLYGON ((38.65534 38.09172, 38.66739 38.0916,...   1        TRC   \n\n                  region ibbs2 code              sub-region ibbs3 code  \n0          Mediterranean       TR62      Adana \\nsub-region      TR621  \n1  Southeastern Anatolia       TRC1  Gaziantep \\nsub-region      TRC12  ",
      "text/html": "<div>\n<style scoped>\n    .dataframe tbody tr th:only-of-type {\n        vertical-align: middle;\n    }\n\n    .dataframe tbody tr th {\n        vertical-align: top;\n    }\n\n    .dataframe thead th {\n        text-align: right;\n    }\n</style>\n<table border=\"1\" class=\"dataframe\">\n  <thead>\n    <tr style=\"text-align: right;\">\n      <th></th>\n      <th>province</th>\n      <th>geometry</th>\n      <th>id</th>\n      <th>ibbs1 code</th>\n      <th>region</th>\n      <th>ibbs2 code</th>\n      <th>sub-region</th>\n      <th>ibbs3 code</th>\n    </tr>\n  </thead>\n  <tbody>\n    <tr>\n      <th>0</th>\n      <td>Adana</td>\n      <td>MULTIPOLYGON (((35.27903 36.64069, 35.27903 36...</td>\n      <td>0</td>\n      <td>TR6</td>\n      <td>Mediterranean</td>\n      <td>TR62</td>\n      <td>Adana \\nsub-region</td>\n      <td>TR621</td>\n    </tr>\n    <tr>\n      <th>1</th>\n      <td>Adıyaman</td>\n      <td>POLYGON ((38.65534 38.09172, 38.66739 38.0916,...</td>\n      <td>1</td>\n      <td>TRC</td>\n      <td>Southeastern Anatolia</td>\n      <td>TRC1</td>\n      <td>Gaziantep \\nsub-region</td>\n      <td>TRC12</td>\n    </tr>\n  </tbody>\n</table>\n</div>"
     },
     "execution_count": 8,
     "metadata": {},
     "output_type": "execute_result"
    }
   ],
   "source": [
    "gdf_borders = gdf_borders.merge( df_codes, on=\"province\", how=\"left\" )\n",
    "gdf_borders.head(2)"
   ],
   "metadata": {
    "collapsed": false,
    "ExecuteTime": {
     "end_time": "2024-09-26T12:44:34.641384300Z",
     "start_time": "2024-09-26T12:44:34.594577700Z"
    }
   },
   "id": "6adf3e6e86659ca2",
   "execution_count": 8
  },
  {
   "cell_type": "code",
   "outputs": [],
   "source": [
    "gdf_borders.to_file(\"data/preprocessed/gdf_borders_ibbs3.geojson\")\n",
    "df_codes.to_csv(\"data/preprocessed/region_codes.csv\",lineterminator='\\n')"
   ],
   "metadata": {
    "collapsed": false,
    "ExecuteTime": {
     "end_time": "2024-11-20T13:45:22.155978800Z",
     "start_time": "2024-11-20T13:45:22.142165500Z"
    }
   },
   "id": "2ecf2387d0c987d8",
   "execution_count": 8
  },
  {
   "cell_type": "code",
   "outputs": [],
   "source": [],
   "metadata": {
    "collapsed": false
   },
   "id": "f1b6f50bf4ab9ad"
  },
  {
   "cell_type": "markdown",
   "source": [
    "# Districts"
   ],
   "metadata": {
    "collapsed": false
   },
   "id": "846def8183626f88"
  },
  {
   "cell_type": "code",
   "execution_count": 44,
   "outputs": [
    {
     "data": {
      "text/plain": "  district province                                           geometry\n0  Elbeyli    Kilis  POLYGON ((37.3596 36.7307, 37.3631 36.7228, 37...\n1  Dodurga    Çorum  POLYGON ((34.63663 40.89572, 34.61219 40.88676...",
      "text/html": "<div>\n<style scoped>\n    .dataframe tbody tr th:only-of-type {\n        vertical-align: middle;\n    }\n\n    .dataframe tbody tr th {\n        vertical-align: top;\n    }\n\n    .dataframe thead th {\n        text-align: right;\n    }\n</style>\n<table border=\"1\" class=\"dataframe\">\n  <thead>\n    <tr style=\"text-align: right;\">\n      <th></th>\n      <th>district</th>\n      <th>province</th>\n      <th>geometry</th>\n    </tr>\n  </thead>\n  <tbody>\n    <tr>\n      <th>0</th>\n      <td>Elbeyli</td>\n      <td>Kilis</td>\n      <td>POLYGON ((37.3596 36.7307, 37.3631 36.7228, 37...</td>\n    </tr>\n    <tr>\n      <th>1</th>\n      <td>Dodurga</td>\n      <td>Çorum</td>\n      <td>POLYGON ((34.63663 40.89572, 34.61219 40.88676...</td>\n    </tr>\n  </tbody>\n</table>\n</div>"
     },
     "execution_count": 44,
     "metadata": {},
     "output_type": "execute_result"
    }
   ],
   "source": [
    "gdf_borders = gpd.read_file(\"data/raw/gdf_borders_district.geojson\")\n",
    "gdf_borders.head(2)"
   ],
   "metadata": {
    "collapsed": false,
    "ExecuteTime": {
     "end_time": "2024-10-15T07:40:08.881687800Z",
     "start_time": "2024-10-15T07:40:06.671597900Z"
    }
   },
   "id": "8769e6e39c70cdcb"
  },
  {
   "cell_type": "code",
   "execution_count": 47,
   "outputs": [
    {
     "data": {
      "text/plain": "     district   province                                           geometry  \\\n0      Aladağ      Adana  POLYGON ((35.10582 37.45891, 35.12428 37.45001...   \n1      Ceyhan      Adana  POLYGON ((36.03544 37.21183, 36.03189 37.21188...   \n2    Çukurova      Adana  POLYGON ((35.33277 37.04174, 35.33375 37.04456...   \n3        Feke      Adana  POLYGON ((35.57983 37.78969, 35.58923 37.78864...   \n4    İmamoğlu      Adana  POLYGON ((35.56706 37.19519, 35.5774 37.20107,...   \n..        ...        ...                                                ...   \n968    Ereğli  Zonguldak  POLYGON ((31.65659 41.4025, 31.65631 41.40226,...   \n969  Gökçebey  Zonguldak  POLYGON ((32.14527 41.22919, 32.15986 41.23944...   \n970   Kilimli  Zonguldak  POLYGON ((32.00136 41.54899, 32.0002 41.54861,...   \n971     Kozlu  Zonguldak  POLYGON ((31.65659 41.4025, 31.65821 41.4004, ...   \n972    Merkez  Zonguldak  POLYGON ((31.78964 41.26778, 31.80903 41.27056...   \n\n      id  \n0      0  \n1      1  \n2      2  \n3      3  \n4      4  \n..   ...  \n968  968  \n969  969  \n970  970  \n971  971  \n972  972  \n\n[973 rows x 4 columns]",
      "text/html": "<div>\n<style scoped>\n    .dataframe tbody tr th:only-of-type {\n        vertical-align: middle;\n    }\n\n    .dataframe tbody tr th {\n        vertical-align: top;\n    }\n\n    .dataframe thead th {\n        text-align: right;\n    }\n</style>\n<table border=\"1\" class=\"dataframe\">\n  <thead>\n    <tr style=\"text-align: right;\">\n      <th></th>\n      <th>district</th>\n      <th>province</th>\n      <th>geometry</th>\n      <th>id</th>\n    </tr>\n  </thead>\n  <tbody>\n    <tr>\n      <th>0</th>\n      <td>Aladağ</td>\n      <td>Adana</td>\n      <td>POLYGON ((35.10582 37.45891, 35.12428 37.45001...</td>\n      <td>0</td>\n    </tr>\n    <tr>\n      <th>1</th>\n      <td>Ceyhan</td>\n      <td>Adana</td>\n      <td>POLYGON ((36.03544 37.21183, 36.03189 37.21188...</td>\n      <td>1</td>\n    </tr>\n    <tr>\n      <th>2</th>\n      <td>Çukurova</td>\n      <td>Adana</td>\n      <td>POLYGON ((35.33277 37.04174, 35.33375 37.04456...</td>\n      <td>2</td>\n    </tr>\n    <tr>\n      <th>3</th>\n      <td>Feke</td>\n      <td>Adana</td>\n      <td>POLYGON ((35.57983 37.78969, 35.58923 37.78864...</td>\n      <td>3</td>\n    </tr>\n    <tr>\n      <th>4</th>\n      <td>İmamoğlu</td>\n      <td>Adana</td>\n      <td>POLYGON ((35.56706 37.19519, 35.5774 37.20107,...</td>\n      <td>4</td>\n    </tr>\n    <tr>\n      <th>...</th>\n      <td>...</td>\n      <td>...</td>\n      <td>...</td>\n      <td>...</td>\n    </tr>\n    <tr>\n      <th>968</th>\n      <td>Ereğli</td>\n      <td>Zonguldak</td>\n      <td>POLYGON ((31.65659 41.4025, 31.65631 41.40226,...</td>\n      <td>968</td>\n    </tr>\n    <tr>\n      <th>969</th>\n      <td>Gökçebey</td>\n      <td>Zonguldak</td>\n      <td>POLYGON ((32.14527 41.22919, 32.15986 41.23944...</td>\n      <td>969</td>\n    </tr>\n    <tr>\n      <th>970</th>\n      <td>Kilimli</td>\n      <td>Zonguldak</td>\n      <td>POLYGON ((32.00136 41.54899, 32.0002 41.54861,...</td>\n      <td>970</td>\n    </tr>\n    <tr>\n      <th>971</th>\n      <td>Kozlu</td>\n      <td>Zonguldak</td>\n      <td>POLYGON ((31.65659 41.4025, 31.65821 41.4004, ...</td>\n      <td>971</td>\n    </tr>\n    <tr>\n      <th>972</th>\n      <td>Merkez</td>\n      <td>Zonguldak</td>\n      <td>POLYGON ((31.78964 41.26778, 31.80903 41.27056...</td>\n      <td>972</td>\n    </tr>\n  </tbody>\n</table>\n<p>973 rows × 4 columns</p>\n</div>"
     },
     "execution_count": 47,
     "metadata": {},
     "output_type": "execute_result"
    }
   ],
   "source": [
    "gdf_borders.sort_values(by=[\"province\",\"district\"],  inplace=True,key = lambda x:[locale.strxfrm(y) for y in x])\n",
    "gdf_borders"
   ],
   "metadata": {
    "collapsed": false,
    "ExecuteTime": {
     "end_time": "2024-10-15T07:40:27.820723Z",
     "start_time": "2024-10-15T07:40:27.789076Z"
    }
   },
   "id": "1717a68f829a5953"
  },
  {
   "cell_type": "code",
   "execution_count": 46,
   "outputs": [
    {
     "data": {
      "text/plain": "  district province                                           geometry  id\n0   Aladağ    Adana  POLYGON ((35.10582 37.45891, 35.12428 37.45001...   0\n1   Ceyhan    Adana  POLYGON ((36.03544 37.21183, 36.03189 37.21188...   1",
      "text/html": "<div>\n<style scoped>\n    .dataframe tbody tr th:only-of-type {\n        vertical-align: middle;\n    }\n\n    .dataframe tbody tr th {\n        vertical-align: top;\n    }\n\n    .dataframe thead th {\n        text-align: right;\n    }\n</style>\n<table border=\"1\" class=\"dataframe\">\n  <thead>\n    <tr style=\"text-align: right;\">\n      <th></th>\n      <th>district</th>\n      <th>province</th>\n      <th>geometry</th>\n      <th>id</th>\n    </tr>\n  </thead>\n  <tbody>\n    <tr>\n      <th>0</th>\n      <td>Aladağ</td>\n      <td>Adana</td>\n      <td>POLYGON ((35.10582 37.45891, 35.12428 37.45001...</td>\n      <td>0</td>\n    </tr>\n    <tr>\n      <th>1</th>\n      <td>Ceyhan</td>\n      <td>Adana</td>\n      <td>POLYGON ((36.03544 37.21183, 36.03189 37.21188...</td>\n      <td>1</td>\n    </tr>\n  </tbody>\n</table>\n</div>"
     },
     "execution_count": 46,
     "metadata": {},
     "output_type": "execute_result"
    }
   ],
   "source": [
    "gdf_borders.reset_index(inplace=True,drop=True)\n",
    "gdf_borders[\"id\"] = gdf_borders.index\n",
    "gdf_borders.head(2)"
   ],
   "metadata": {
    "collapsed": false,
    "ExecuteTime": {
     "end_time": "2024-10-15T07:40:19.807400900Z",
     "start_time": "2024-10-15T07:40:19.787845Z"
    }
   },
   "id": "fd5c2dcaced81ad0"
  },
  {
   "cell_type": "code",
   "execution_count": 48,
   "outputs": [],
   "source": [
    "gdf_borders.to_file(\"data/preprocessed/gdf_borders_district.geojson\")"
   ],
   "metadata": {
    "collapsed": false,
    "ExecuteTime": {
     "end_time": "2024-10-15T07:41:31.401421400Z",
     "start_time": "2024-10-15T07:41:24.208588500Z"
    }
   },
   "id": "457deb7c6b2c686f"
  },
  {
   "cell_type": "markdown",
   "source": [
    "IGNORE BELOW (TEST TO OBSERVE)"
   ],
   "metadata": {
    "collapsed": false
   },
   "id": "cfaf45052df8edf7"
  },
  {
   "cell_type": "code",
   "outputs": [
    {
     "data": {
      "text/plain": "           ibbs1 code                 region ibbs2 code  \\\nprovince                                                  \nİstanbul          TR1               Istanbul       TR10   \nTekirdağ          TR2        Western Marmara       TR21   \nEdirne            TR2        Western Marmara       TR21   \nKırklareli        TR2        Western Marmara       TR21   \nBalıkesir         TR2        Western Marmara       TR22   \n...               ...                    ...        ...   \nDiyarbakır        TRC  Southeastern Anatolia       TRC2   \nMardin            TRC  Southeastern Anatolia       TRC3   \nBatman            TRC  Southeastern Anatolia       TRC3   \nŞırnak            TRC  Southeastern Anatolia       TRC3   \nSiirt             TRC  Southeastern Anatolia       TRC3   \n\n                        sub-region ibbs3 code  \nprovince                                       \nİstanbul     İstanbul \\nsub-region      TR100  \nTekirdağ     Tekirdağ \\nsub-region      TR211  \nEdirne       Tekirdağ \\nsub-region      TR212  \nKırklareli   Tekirdağ \\nsub-region      TR213  \nBalıkesir   Balıkesir \\nsub-region      TR221  \n...                            ...        ...  \nDiyarbakır  Şanlıurfa \\nsub-region      TRC22  \nMardin         Mardin \\nsub-region      TRC31  \nBatman         Mardin \\nsub-region      TRC32  \nŞırnak         Mardin \\nsub-region      TRC33  \nSiirt          Mardin \\nsub-region      TRC34  \n\n[81 rows x 5 columns]",
      "text/html": "<div>\n<style scoped>\n    .dataframe tbody tr th:only-of-type {\n        vertical-align: middle;\n    }\n\n    .dataframe tbody tr th {\n        vertical-align: top;\n    }\n\n    .dataframe thead th {\n        text-align: right;\n    }\n</style>\n<table border=\"1\" class=\"dataframe\">\n  <thead>\n    <tr style=\"text-align: right;\">\n      <th></th>\n      <th>ibbs1 code</th>\n      <th>region</th>\n      <th>ibbs2 code</th>\n      <th>sub-region</th>\n      <th>ibbs3 code</th>\n    </tr>\n    <tr>\n      <th>province</th>\n      <th></th>\n      <th></th>\n      <th></th>\n      <th></th>\n      <th></th>\n    </tr>\n  </thead>\n  <tbody>\n    <tr>\n      <th>İstanbul</th>\n      <td>TR1</td>\n      <td>Istanbul</td>\n      <td>TR10</td>\n      <td>İstanbul \\nsub-region</td>\n      <td>TR100</td>\n    </tr>\n    <tr>\n      <th>Tekirdağ</th>\n      <td>TR2</td>\n      <td>Western Marmara</td>\n      <td>TR21</td>\n      <td>Tekirdağ \\nsub-region</td>\n      <td>TR211</td>\n    </tr>\n    <tr>\n      <th>Edirne</th>\n      <td>TR2</td>\n      <td>Western Marmara</td>\n      <td>TR21</td>\n      <td>Tekirdağ \\nsub-region</td>\n      <td>TR212</td>\n    </tr>\n    <tr>\n      <th>Kırklareli</th>\n      <td>TR2</td>\n      <td>Western Marmara</td>\n      <td>TR21</td>\n      <td>Tekirdağ \\nsub-region</td>\n      <td>TR213</td>\n    </tr>\n    <tr>\n      <th>Balıkesir</th>\n      <td>TR2</td>\n      <td>Western Marmara</td>\n      <td>TR22</td>\n      <td>Balıkesir \\nsub-region</td>\n      <td>TR221</td>\n    </tr>\n    <tr>\n      <th>...</th>\n      <td>...</td>\n      <td>...</td>\n      <td>...</td>\n      <td>...</td>\n      <td>...</td>\n    </tr>\n    <tr>\n      <th>Diyarbakır</th>\n      <td>TRC</td>\n      <td>Southeastern Anatolia</td>\n      <td>TRC2</td>\n      <td>Şanlıurfa \\nsub-region</td>\n      <td>TRC22</td>\n    </tr>\n    <tr>\n      <th>Mardin</th>\n      <td>TRC</td>\n      <td>Southeastern Anatolia</td>\n      <td>TRC3</td>\n      <td>Mardin \\nsub-region</td>\n      <td>TRC31</td>\n    </tr>\n    <tr>\n      <th>Batman</th>\n      <td>TRC</td>\n      <td>Southeastern Anatolia</td>\n      <td>TRC3</td>\n      <td>Mardin \\nsub-region</td>\n      <td>TRC32</td>\n    </tr>\n    <tr>\n      <th>Şırnak</th>\n      <td>TRC</td>\n      <td>Southeastern Anatolia</td>\n      <td>TRC3</td>\n      <td>Mardin \\nsub-region</td>\n      <td>TRC33</td>\n    </tr>\n    <tr>\n      <th>Siirt</th>\n      <td>TRC</td>\n      <td>Southeastern Anatolia</td>\n      <td>TRC3</td>\n      <td>Mardin \\nsub-region</td>\n      <td>TRC34</td>\n    </tr>\n  </tbody>\n</table>\n<p>81 rows × 5 columns</p>\n</div>"
     },
     "execution_count": 10,
     "metadata": {},
     "output_type": "execute_result"
    }
   ],
   "source": [
    "import  pandas as pd\n",
    "df_codes = pd.read_csv(\"data/preprocessed/region_codes.csv\", index_col=0)\n",
    "df_codes"
   ],
   "metadata": {
    "collapsed": false,
    "ExecuteTime": {
     "end_time": "2024-11-20T13:47:48.348883400Z",
     "start_time": "2024-11-20T13:47:48.310426600Z"
    }
   },
   "id": "520e575cb71c8fa6",
   "execution_count": 10
  },
  {
   "cell_type": "code",
   "outputs": [
    {
     "data": {
      "text/plain": "                                                               geometry  \\\nsub-region                                                                \nAdana \\nsub-region    MULTIPOLYGON (((35.2793 36.64014, 35.27958 36....   \nAnkara \\nsub-region   POLYGON ((33.18796 40.41365, 33.1941 40.40469,...   \nAntalya \\nsub-region  MULTIPOLYGON (((29.64097 36.12069, 29.64097 36...   \nAydın \\nsub-region    MULTIPOLYGON (((27.33153 37.3307, 27.3318 37.3...   \nAğrı \\nsub-region     POLYGON ((43.39566 39.9258, 43.39598 39.91575,...   \n\n                     province ibbs1 code             region ibbs2 code  \\\nsub-region                                                               \nAdana \\nsub-region      Adana        TR6            Akdeniz       TR62   \nAnkara \\nsub-region    Ankara        TR5       Batı Anadolu       TR51   \nAntalya \\nsub-region  Antalya        TR6            Akdeniz       TR61   \nAydın \\nsub-region      Aydın        TR3                Ege       TR32   \nAğrı \\nsub-region        Ağrı        TRA  Kuzeydoğu Anadolu       TRA2   \n\n                     ibbs3 code  \nsub-region                       \nAdana \\nsub-region        TR621  \nAnkara \\nsub-region       TR511  \nAntalya \\nsub-region      TR611  \nAydın \\nsub-region        TR321  \nAğrı \\nsub-region         TRA21  ",
      "text/html": "<div>\n<style scoped>\n    .dataframe tbody tr th:only-of-type {\n        vertical-align: middle;\n    }\n\n    .dataframe tbody tr th {\n        vertical-align: top;\n    }\n\n    .dataframe thead th {\n        text-align: right;\n    }\n</style>\n<table border=\"1\" class=\"dataframe\">\n  <thead>\n    <tr style=\"text-align: right;\">\n      <th></th>\n      <th>geometry</th>\n      <th>province</th>\n      <th>ibbs1 code</th>\n      <th>region</th>\n      <th>ibbs2 code</th>\n      <th>ibbs3 code</th>\n    </tr>\n    <tr>\n      <th>sub-region</th>\n      <th></th>\n      <th></th>\n      <th></th>\n      <th></th>\n      <th></th>\n      <th></th>\n    </tr>\n  </thead>\n  <tbody>\n    <tr>\n      <th>Adana \\nsub-region</th>\n      <td>MULTIPOLYGON (((35.2793 36.64014, 35.27958 36....</td>\n      <td>Adana</td>\n      <td>TR6</td>\n      <td>Akdeniz</td>\n      <td>TR62</td>\n      <td>TR621</td>\n    </tr>\n    <tr>\n      <th>Ankara \\nsub-region</th>\n      <td>POLYGON ((33.18796 40.41365, 33.1941 40.40469,...</td>\n      <td>Ankara</td>\n      <td>TR5</td>\n      <td>Batı Anadolu</td>\n      <td>TR51</td>\n      <td>TR511</td>\n    </tr>\n    <tr>\n      <th>Antalya \\nsub-region</th>\n      <td>MULTIPOLYGON (((29.64097 36.12069, 29.64097 36...</td>\n      <td>Antalya</td>\n      <td>TR6</td>\n      <td>Akdeniz</td>\n      <td>TR61</td>\n      <td>TR611</td>\n    </tr>\n    <tr>\n      <th>Aydın \\nsub-region</th>\n      <td>MULTIPOLYGON (((27.33153 37.3307, 27.3318 37.3...</td>\n      <td>Aydın</td>\n      <td>TR3</td>\n      <td>Ege</td>\n      <td>TR32</td>\n      <td>TR321</td>\n    </tr>\n    <tr>\n      <th>Ağrı \\nsub-region</th>\n      <td>POLYGON ((43.39566 39.9258, 43.39598 39.91575,...</td>\n      <td>Ağrı</td>\n      <td>TRA</td>\n      <td>Kuzeydoğu Anadolu</td>\n      <td>TRA2</td>\n      <td>TRA21</td>\n    </tr>\n  </tbody>\n</table>\n</div>"
     },
     "execution_count": 15,
     "metadata": {},
     "output_type": "execute_result"
    }
   ],
   "source": [
    "# Use the dissolve method to merge provinces into regions\n",
    "gdf_borders = gdf_borders.dissolve(by='sub-region')\n",
    "gdf_borders.head()"
   ],
   "metadata": {
    "collapsed": false,
    "ExecuteTime": {
     "end_time": "2024-09-21T16:01:43.163780500Z",
     "start_time": "2024-09-21T16:01:40.070854900Z"
    }
   },
   "id": "cf06114728a27f91",
   "execution_count": 15
  },
  {
   "cell_type": "code",
   "outputs": [
    {
     "data": {
      "text/plain": "(26, 6)"
     },
     "execution_count": 39,
     "metadata": {},
     "output_type": "execute_result"
    }
   ],
   "source": [
    "gdf_borders.shape"
   ],
   "metadata": {
    "collapsed": false,
    "ExecuteTime": {
     "end_time": "2024-09-09T13:39:11.328076Z",
     "start_time": "2024-09-09T13:39:11.296543500Z"
    }
   },
   "id": "a75abbd6f2172beb",
   "execution_count": 39
  },
  {
   "cell_type": "code",
   "outputs": [
    {
     "data": {
      "text/plain": "sex                   male                                                    \\\nage_group              0-4   10-14  15-19  20-24  25-29  30-34  35-39  40-44   \nyear province                                                                  \n2007 Adana           87875  100851  96648  78022  90764  80670  70980  68068   \n     Adıyaman        31114   35241  32872  24563  25786  20867  17573  15887   \n     Afyonkarahisar  28518   31309  30986  32886  29935  25038  23980  22329   \n     Aksaray         16675   18777  17846  14831  16510  14419  12434  11318   \n     Amasya          10933   13796  13929  18042  13775  11303  10811  11107   \n\nsex                                ... female                              \\\nage_group            45-49  50-54  ...  50-54  55-59    5-9  60-64  65-69   \nyear province                      ...                                      \n2007 Adana           58558  52112  ...  51402  39610  93870  27931  22227   \n     Adıyaman        11527  10253  ...  10555   9782  32072   7440   6242   \n     Afyonkarahisar  21158  18181  ...  18780  15373  30085  12226  11654   \n     Aksaray          8711   7629  ...   8186   7656  18367   5753   4778   \n     Amasya          10029   9128  ...   9265   8309  12400   7230   6423   \n\nsex                                                  \nage_group            70-74  75-79 80-84 85-89   90+  \nyear province                                        \n2007 Adana           16919  13775  7869  2810  1761  \n     Adıyaman         4572   3973  2497  1103   656  \n     Afyonkarahisar   9847   8158  3812   983   485  \n     Aksaray          3707   2632  1527   567   314  \n     Amasya           5633   4356  2146   594   284  \n\n[5 rows x 38 columns]",
      "text/html": "<div>\n<style scoped>\n    .dataframe tbody tr th:only-of-type {\n        vertical-align: middle;\n    }\n\n    .dataframe tbody tr th {\n        vertical-align: top;\n    }\n\n    .dataframe thead tr th {\n        text-align: left;\n    }\n\n    .dataframe thead tr:last-of-type th {\n        text-align: right;\n    }\n</style>\n<table border=\"1\" class=\"dataframe\">\n  <thead>\n    <tr>\n      <th></th>\n      <th>sex</th>\n      <th colspan=\"10\" halign=\"left\">male</th>\n      <th>...</th>\n      <th colspan=\"10\" halign=\"left\">female</th>\n    </tr>\n    <tr>\n      <th></th>\n      <th>age_group</th>\n      <th>0-4</th>\n      <th>10-14</th>\n      <th>15-19</th>\n      <th>20-24</th>\n      <th>25-29</th>\n      <th>30-34</th>\n      <th>35-39</th>\n      <th>40-44</th>\n      <th>45-49</th>\n      <th>50-54</th>\n      <th>...</th>\n      <th>50-54</th>\n      <th>55-59</th>\n      <th>5-9</th>\n      <th>60-64</th>\n      <th>65-69</th>\n      <th>70-74</th>\n      <th>75-79</th>\n      <th>80-84</th>\n      <th>85-89</th>\n      <th>90+</th>\n    </tr>\n    <tr>\n      <th>year</th>\n      <th>province</th>\n      <th></th>\n      <th></th>\n      <th></th>\n      <th></th>\n      <th></th>\n      <th></th>\n      <th></th>\n      <th></th>\n      <th></th>\n      <th></th>\n      <th></th>\n      <th></th>\n      <th></th>\n      <th></th>\n      <th></th>\n      <th></th>\n      <th></th>\n      <th></th>\n      <th></th>\n      <th></th>\n      <th></th>\n    </tr>\n  </thead>\n  <tbody>\n    <tr>\n      <th rowspan=\"5\" valign=\"top\">2007</th>\n      <th>Adana</th>\n      <td>87875</td>\n      <td>100851</td>\n      <td>96648</td>\n      <td>78022</td>\n      <td>90764</td>\n      <td>80670</td>\n      <td>70980</td>\n      <td>68068</td>\n      <td>58558</td>\n      <td>52112</td>\n      <td>...</td>\n      <td>51402</td>\n      <td>39610</td>\n      <td>93870</td>\n      <td>27931</td>\n      <td>22227</td>\n      <td>16919</td>\n      <td>13775</td>\n      <td>7869</td>\n      <td>2810</td>\n      <td>1761</td>\n    </tr>\n    <tr>\n      <th>Adıyaman</th>\n      <td>31114</td>\n      <td>35241</td>\n      <td>32872</td>\n      <td>24563</td>\n      <td>25786</td>\n      <td>20867</td>\n      <td>17573</td>\n      <td>15887</td>\n      <td>11527</td>\n      <td>10253</td>\n      <td>...</td>\n      <td>10555</td>\n      <td>9782</td>\n      <td>32072</td>\n      <td>7440</td>\n      <td>6242</td>\n      <td>4572</td>\n      <td>3973</td>\n      <td>2497</td>\n      <td>1103</td>\n      <td>656</td>\n    </tr>\n    <tr>\n      <th>Afyonkarahisar</th>\n      <td>28518</td>\n      <td>31309</td>\n      <td>30986</td>\n      <td>32886</td>\n      <td>29935</td>\n      <td>25038</td>\n      <td>23980</td>\n      <td>22329</td>\n      <td>21158</td>\n      <td>18181</td>\n      <td>...</td>\n      <td>18780</td>\n      <td>15373</td>\n      <td>30085</td>\n      <td>12226</td>\n      <td>11654</td>\n      <td>9847</td>\n      <td>8158</td>\n      <td>3812</td>\n      <td>983</td>\n      <td>485</td>\n    </tr>\n    <tr>\n      <th>Aksaray</th>\n      <td>16675</td>\n      <td>18777</td>\n      <td>17846</td>\n      <td>14831</td>\n      <td>16510</td>\n      <td>14419</td>\n      <td>12434</td>\n      <td>11318</td>\n      <td>8711</td>\n      <td>7629</td>\n      <td>...</td>\n      <td>8186</td>\n      <td>7656</td>\n      <td>18367</td>\n      <td>5753</td>\n      <td>4778</td>\n      <td>3707</td>\n      <td>2632</td>\n      <td>1527</td>\n      <td>567</td>\n      <td>314</td>\n    </tr>\n    <tr>\n      <th>Amasya</th>\n      <td>10933</td>\n      <td>13796</td>\n      <td>13929</td>\n      <td>18042</td>\n      <td>13775</td>\n      <td>11303</td>\n      <td>10811</td>\n      <td>11107</td>\n      <td>10029</td>\n      <td>9128</td>\n      <td>...</td>\n      <td>9265</td>\n      <td>8309</td>\n      <td>12400</td>\n      <td>7230</td>\n      <td>6423</td>\n      <td>5633</td>\n      <td>4356</td>\n      <td>2146</td>\n      <td>594</td>\n      <td>284</td>\n    </tr>\n  </tbody>\n</table>\n<p>5 rows × 38 columns</p>\n</div>"
     },
     "execution_count": 15,
     "metadata": {},
     "output_type": "execute_result"
    }
   ],
   "source": [
    "df_data = pd.read_csv(\"data/preprocessed/population/population-age-sex-2007-2023-ibbs3.csv\", index_col=[0, 1], header=[0, 1])\n",
    "df_data.head()"
   ],
   "metadata": {
    "collapsed": false,
    "ExecuteTime": {
     "end_time": "2024-09-09T09:40:52.023725600Z",
     "start_time": "2024-09-09T09:40:51.720104600Z"
    }
   },
   "id": "cb393cdf1b7119d9",
   "execution_count": 15
  },
  {
   "cell_type": "code",
   "execution_count": 33,
   "outputs": [
    {
     "data": {
      "text/plain": "    province                                           geometry ibbs1 code  \\\n0  Çanakkale  MULTIPOLYGON (((26.05347 39.84736, 26.05347 39...        TR2   \n1    Çankırı  POLYGON ((33.78607 40.96249, 33.78677 40.95684...        TR8   \n2      Çorum  POLYGON ((34.81906 41.20172, 34.84486 41.19581...        TR8   \n3      Adana  MULTIPOLYGON (((35.27903 36.64069, 35.27903 36...        TR6   \n4   Adıyaman  POLYGON ((38.65534 38.09172, 38.66739 38.09160...        TRC   \n\n              region ibbs2 code             sub-region ibbs3 code      0  \n0       Batı Marmara       TR22  Balıkesir alt bölgesi      TR222  12601  \n1     Batı Karadeniz       TR82  Kastamonu alt bölgesi      TR822   6038  \n2     Batı Karadeniz       TR83     Samsun alt bölgesi      TR833  20091  \n3            Akdeniz       TR62      Adana alt bölgesi      TR621  87875  \n4  Güneydoğu Anadolu       TRC1  Gaziantep alt bölgesi      TRC12  31114  ",
      "text/html": "<div>\n<style scoped>\n    .dataframe tbody tr th:only-of-type {\n        vertical-align: middle;\n    }\n\n    .dataframe tbody tr th {\n        vertical-align: top;\n    }\n\n    .dataframe thead th {\n        text-align: right;\n    }\n</style>\n<table border=\"1\" class=\"dataframe\">\n  <thead>\n    <tr style=\"text-align: right;\">\n      <th></th>\n      <th>province</th>\n      <th>geometry</th>\n      <th>ibbs1 code</th>\n      <th>region</th>\n      <th>ibbs2 code</th>\n      <th>sub-region</th>\n      <th>ibbs3 code</th>\n      <th>0</th>\n    </tr>\n  </thead>\n  <tbody>\n    <tr>\n      <th>0</th>\n      <td>Çanakkale</td>\n      <td>MULTIPOLYGON (((26.05347 39.84736, 26.05347 39...</td>\n      <td>TR2</td>\n      <td>Batı Marmara</td>\n      <td>TR22</td>\n      <td>Balıkesir alt bölgesi</td>\n      <td>TR222</td>\n      <td>12601</td>\n    </tr>\n    <tr>\n      <th>1</th>\n      <td>Çankırı</td>\n      <td>POLYGON ((33.78607 40.96249, 33.78677 40.95684...</td>\n      <td>TR8</td>\n      <td>Batı Karadeniz</td>\n      <td>TR82</td>\n      <td>Kastamonu alt bölgesi</td>\n      <td>TR822</td>\n      <td>6038</td>\n    </tr>\n    <tr>\n      <th>2</th>\n      <td>Çorum</td>\n      <td>POLYGON ((34.81906 41.20172, 34.84486 41.19581...</td>\n      <td>TR8</td>\n      <td>Batı Karadeniz</td>\n      <td>TR83</td>\n      <td>Samsun alt bölgesi</td>\n      <td>TR833</td>\n      <td>20091</td>\n    </tr>\n    <tr>\n      <th>3</th>\n      <td>Adana</td>\n      <td>MULTIPOLYGON (((35.27903 36.64069, 35.27903 36...</td>\n      <td>TR6</td>\n      <td>Akdeniz</td>\n      <td>TR62</td>\n      <td>Adana alt bölgesi</td>\n      <td>TR621</td>\n      <td>87875</td>\n    </tr>\n    <tr>\n      <th>4</th>\n      <td>Adıyaman</td>\n      <td>POLYGON ((38.65534 38.09172, 38.66739 38.09160...</td>\n      <td>TRC</td>\n      <td>Güneydoğu Anadolu</td>\n      <td>TRC1</td>\n      <td>Gaziantep alt bölgesi</td>\n      <td>TRC12</td>\n      <td>31114</td>\n    </tr>\n  </tbody>\n</table>\n</div>"
     },
     "execution_count": 33,
     "metadata": {},
     "output_type": "execute_result"
    }
   ],
   "source": [
    "res=gdf_borders.merge(tt, left_on=\"province\", right_on=\"province\")\n",
    "res.head()"
   ],
   "metadata": {
    "collapsed": false,
    "ExecuteTime": {
     "end_time": "2024-09-09T09:47:53.779167600Z",
     "start_time": "2024-09-09T09:47:53.622485300Z"
    }
   },
   "id": "1e4506eeff9d5249"
  },
  {
   "cell_type": "code",
   "execution_count": 22,
   "outputs": [],
   "source": [
    "tt=df_data.loc[2007,[(\"male\",\"0-4\")]].droplevel(1, axis=1).sum(axis=1).reset_index()"
   ],
   "metadata": {
    "collapsed": false,
    "ExecuteTime": {
     "end_time": "2024-09-09T09:44:29.823952Z",
     "start_time": "2024-09-09T09:44:29.782311900Z"
    }
   },
   "id": "a324a64967040975"
  },
  {
   "cell_type": "code",
   "execution_count": 32,
   "outputs": [
    {
     "data": {
      "text/plain": "         province      0\n0           Adana  87875\n1        Adıyaman  31114\n2  Afyonkarahisar  28518\n3         Aksaray  16675\n4          Amasya  10933",
      "text/html": "<div>\n<style scoped>\n    .dataframe tbody tr th:only-of-type {\n        vertical-align: middle;\n    }\n\n    .dataframe tbody tr th {\n        vertical-align: top;\n    }\n\n    .dataframe thead th {\n        text-align: right;\n    }\n</style>\n<table border=\"1\" class=\"dataframe\">\n  <thead>\n    <tr style=\"text-align: right;\">\n      <th></th>\n      <th>province</th>\n      <th>0</th>\n    </tr>\n  </thead>\n  <tbody>\n    <tr>\n      <th>0</th>\n      <td>Adana</td>\n      <td>87875</td>\n    </tr>\n    <tr>\n      <th>1</th>\n      <td>Adıyaman</td>\n      <td>31114</td>\n    </tr>\n    <tr>\n      <th>2</th>\n      <td>Afyonkarahisar</td>\n      <td>28518</td>\n    </tr>\n    <tr>\n      <th>3</th>\n      <td>Aksaray</td>\n      <td>16675</td>\n    </tr>\n    <tr>\n      <th>4</th>\n      <td>Amasya</td>\n      <td>10933</td>\n    </tr>\n  </tbody>\n</table>\n</div>"
     },
     "execution_count": 32,
     "metadata": {},
     "output_type": "execute_result"
    }
   ],
   "source": [
    "tt.head()"
   ],
   "metadata": {
    "collapsed": false,
    "ExecuteTime": {
     "end_time": "2024-09-09T09:47:31.446560600Z",
     "start_time": "2024-09-09T09:47:31.384060500Z"
    }
   },
   "id": "1733c5133fa8aa58"
  },
  {
   "cell_type": "code",
   "execution_count": 29,
   "outputs": [],
   "source": [
    "f=res.dissolve(by='sub-region')"
   ],
   "metadata": {
    "collapsed": false,
    "ExecuteTime": {
     "end_time": "2024-09-09T09:46:09.987711100Z",
     "start_time": "2024-09-09T09:46:07.541523200Z"
    }
   },
   "id": "e741849df8dcadb8"
  },
  {
   "cell_type": "code",
   "execution_count": 30,
   "outputs": [
    {
     "data": {
      "text/plain": "                                                                geometry  \\\nsub-region                                                                 \nAdana alt bölgesi      MULTIPOLYGON (((33.53125 36.12847, 33.53125 36...   \nAnkara alt bölgesi     POLYGON ((33.18796 40.41365, 33.19410 40.40469...   \nAntalya alt bölgesi    MULTIPOLYGON (((29.64097 36.12069, 29.64097 36...   \nAydın alt bölgesi      MULTIPOLYGON (((27.40681 36.74208, 27.40681 36...   \nAğrı alt bölgesi       POLYGON ((44.48705 39.68656, 44.48495 39.67772...   \nBalıkesir alt bölgesi  MULTIPOLYGON (((26.60014 39.30208, 26.60042 39...   \nBursa alt bölgesi      MULTIPOLYGON (((31.01101 40.01844, 31.02343 40...   \nErzurum alt bölgesi    POLYGON ((40.60795 39.53184, 40.58783 39.53662...   \nGaziantep alt bölgesi  POLYGON ((37.50204 36.64929, 37.48498 36.64109...   \nHatay alt bölgesi      MULTIPOLYGON (((36.45086 36.94467, 36.45514 36...   \nKastamonu alt bölgesi  POLYGON ((34.03936 40.84503, 34.04519 40.83231...   \nKayseri alt bölgesi    POLYGON ((36.72846 38.59086, 36.72274 38.58961...   \nKocaeli alt bölgesi    MULTIPOLYGON (((29.39514 40.70181, 29.39514 40...   \nKonya alt bölgesi      POLYGON ((34.19005 37.16993, 34.18338 37.16432...   \nKırıkkale alt bölgesi  POLYGON ((34.95848 38.43279, 34.96624 38.43250...   \nMalatya alt bölgesi    POLYGON ((38.50481 39.11664, 38.51613 39.11599...   \nManisa alt bölgesi     POLYGON ((31.36813 39.14605, 31.38088 39.12517...   \nMardin alt bölgesi     POLYGON ((40.83895 37.71747, 40.85100 37.71807...   \nSamsun alt bölgesi     MULTIPOLYGON (((36.69170 40.84308, 36.68827 40...   \nTekirdağ alt bölgesi   MULTIPOLYGON (((26.73931 40.61875, 26.73931 40...   \nTrabzon alt bölgesi    MULTIPOLYGON (((40.09166 40.50697, 40.08973 40...   \nVan alt bölgesi        POLYGON ((44.59711 37.76376, 44.60109 37.76268...   \nZonguldak alt bölgesi  MULTIPOLYGON (((32.98940 41.49467, 32.99475 41...   \nİstanbul alt bölgesi   MULTIPOLYGON (((28.99597 40.86597, 28.99625 40...   \nİzmir alt bölgesi      MULTIPOLYGON (((26.43903 38.18764, 26.43931 38...   \nŞanlıurfa alt bölgesi  POLYGON ((39.88011 37.54991, 39.87976 37.54391...   \n\n                             province ibbs1 code             region  \\\nsub-region                                                            \nAdana alt bölgesi               Adana        TR6            Akdeniz   \nAnkara alt bölgesi             Ankara        TR5       Batı Anadolu   \nAntalya alt bölgesi           Antalya        TR6            Akdeniz   \nAydın alt bölgesi               Aydın        TR3                Ege   \nAğrı alt bölgesi                 Ağrı        TRA  Kuzeydoğu Anadolu   \nBalıkesir alt bölgesi       Çanakkale        TR2       Batı Marmara   \nBursa alt bölgesi             Bilecik        TR4       Doğu Marmara   \nErzurum alt bölgesi           Bayburt        TRA  Kuzeydoğu Anadolu   \nGaziantep alt bölgesi        Adıyaman        TRC  Güneydoğu Anadolu   \nHatay alt bölgesi               Hatay        TR6            Akdeniz   \nKastamonu alt bölgesi         Çankırı        TR8     Batı Karadeniz   \nKayseri alt bölgesi           Kayseri        TR7       Orta Anadolu   \nKocaeli alt bölgesi              Bolu        TR4       Doğu Marmara   \nKonya alt bölgesi             Karaman        TR5       Batı Anadolu   \nKırıkkale alt bölgesi         Aksaray        TR7       Orta Anadolu   \nMalatya alt bölgesi            Bingöl        TRB   Ortadoğu Anadolu   \nManisa alt bölgesi     Afyonkarahisar        TR3                Ege   \nMardin alt bölgesi             Batman        TRC  Güneydoğu Anadolu   \nSamsun alt bölgesi              Çorum        TR8     Batı Karadeniz   \nTekirdağ alt bölgesi           Edirne        TR2       Batı Marmara   \nTrabzon alt bölgesi            Artvin        TR9     Doğu Karadeniz   \nVan alt bölgesi                Bitlis        TRB   Ortadoğu Anadolu   \nZonguldak alt bölgesi          Bartın        TR8     Batı Karadeniz   \nİstanbul alt bölgesi         İstanbul        TR1           İstanbul   \nİzmir alt bölgesi               İzmir        TR3                Ege   \nŞanlıurfa alt bölgesi      Diyarbakır        TRC  Güneydoğu Anadolu   \n\n                      ibbs2 code ibbs3 code       0  \nsub-region                                           \nAdana alt bölgesi           TR62      TR621   87875  \nAnkara alt bölgesi          TR51      TR511  161281  \nAntalya alt bölgesi         TR61      TR611   71077  \nAydın alt bölgesi           TR32      TR321   31432  \nAğrı alt bölgesi            TRA2      TRA21   34639  \nBalıkesir alt bölgesi       TR22      TR222   12601  \nBursa alt bölgesi           TR41      TR413    6715  \nErzurum alt bölgesi         TRA1      TRA13    3252  \nGaziantep alt bölgesi       TRC1      TRC12   31114  \nHatay alt bölgesi           TR63      TR631   69739  \nKastamonu alt bölgesi       TR82      TR822    6038  \nKayseri alt bölgesi         TR72      TR721   53423  \nKocaeli alt bölgesi         TR42      TR424    8840  \nKonya alt bölgesi           TR52      TR522    9364  \nKırıkkale alt bölgesi       TR71      TR712   16675  \nMalatya alt bölgesi         TRB1      TRB13   13073  \nManisa alt bölgesi          TR33      TR332   28518  \nMardin alt bölgesi          TRC3      TRC32   31982  \nSamsun alt bölgesi          TR83      TR833   20091  \nTekirdağ alt bölgesi        TR21      TR212   10369  \nTrabzon alt bölgesi         TR90      TR905    5231  \nVan alt bölgesi             TRB2      TRB23   22085  \nZonguldak alt bölgesi       TR81      TR813    5698  \nİstanbul alt bölgesi        TR10      TR100  497651  \nİzmir alt bölgesi           TR31      TR310  119661  \nŞanlıurfa alt bölgesi       TRC2      TRC22   88833  ",
      "text/html": "<div>\n<style scoped>\n    .dataframe tbody tr th:only-of-type {\n        vertical-align: middle;\n    }\n\n    .dataframe tbody tr th {\n        vertical-align: top;\n    }\n\n    .dataframe thead th {\n        text-align: right;\n    }\n</style>\n<table border=\"1\" class=\"dataframe\">\n  <thead>\n    <tr style=\"text-align: right;\">\n      <th></th>\n      <th>geometry</th>\n      <th>province</th>\n      <th>ibbs1 code</th>\n      <th>region</th>\n      <th>ibbs2 code</th>\n      <th>ibbs3 code</th>\n      <th>0</th>\n    </tr>\n    <tr>\n      <th>sub-region</th>\n      <th></th>\n      <th></th>\n      <th></th>\n      <th></th>\n      <th></th>\n      <th></th>\n      <th></th>\n    </tr>\n  </thead>\n  <tbody>\n    <tr>\n      <th>Adana alt bölgesi</th>\n      <td>MULTIPOLYGON (((33.53125 36.12847, 33.53125 36...</td>\n      <td>Adana</td>\n      <td>TR6</td>\n      <td>Akdeniz</td>\n      <td>TR62</td>\n      <td>TR621</td>\n      <td>87875</td>\n    </tr>\n    <tr>\n      <th>Ankara alt bölgesi</th>\n      <td>POLYGON ((33.18796 40.41365, 33.19410 40.40469...</td>\n      <td>Ankara</td>\n      <td>TR5</td>\n      <td>Batı Anadolu</td>\n      <td>TR51</td>\n      <td>TR511</td>\n      <td>161281</td>\n    </tr>\n    <tr>\n      <th>Antalya alt bölgesi</th>\n      <td>MULTIPOLYGON (((29.64097 36.12069, 29.64097 36...</td>\n      <td>Antalya</td>\n      <td>TR6</td>\n      <td>Akdeniz</td>\n      <td>TR61</td>\n      <td>TR611</td>\n      <td>71077</td>\n    </tr>\n    <tr>\n      <th>Aydın alt bölgesi</th>\n      <td>MULTIPOLYGON (((27.40681 36.74208, 27.40681 36...</td>\n      <td>Aydın</td>\n      <td>TR3</td>\n      <td>Ege</td>\n      <td>TR32</td>\n      <td>TR321</td>\n      <td>31432</td>\n    </tr>\n    <tr>\n      <th>Ağrı alt bölgesi</th>\n      <td>POLYGON ((44.48705 39.68656, 44.48495 39.67772...</td>\n      <td>Ağrı</td>\n      <td>TRA</td>\n      <td>Kuzeydoğu Anadolu</td>\n      <td>TRA2</td>\n      <td>TRA21</td>\n      <td>34639</td>\n    </tr>\n    <tr>\n      <th>Balıkesir alt bölgesi</th>\n      <td>MULTIPOLYGON (((26.60014 39.30208, 26.60042 39...</td>\n      <td>Çanakkale</td>\n      <td>TR2</td>\n      <td>Batı Marmara</td>\n      <td>TR22</td>\n      <td>TR222</td>\n      <td>12601</td>\n    </tr>\n    <tr>\n      <th>Bursa alt bölgesi</th>\n      <td>MULTIPOLYGON (((31.01101 40.01844, 31.02343 40...</td>\n      <td>Bilecik</td>\n      <td>TR4</td>\n      <td>Doğu Marmara</td>\n      <td>TR41</td>\n      <td>TR413</td>\n      <td>6715</td>\n    </tr>\n    <tr>\n      <th>Erzurum alt bölgesi</th>\n      <td>POLYGON ((40.60795 39.53184, 40.58783 39.53662...</td>\n      <td>Bayburt</td>\n      <td>TRA</td>\n      <td>Kuzeydoğu Anadolu</td>\n      <td>TRA1</td>\n      <td>TRA13</td>\n      <td>3252</td>\n    </tr>\n    <tr>\n      <th>Gaziantep alt bölgesi</th>\n      <td>POLYGON ((37.50204 36.64929, 37.48498 36.64109...</td>\n      <td>Adıyaman</td>\n      <td>TRC</td>\n      <td>Güneydoğu Anadolu</td>\n      <td>TRC1</td>\n      <td>TRC12</td>\n      <td>31114</td>\n    </tr>\n    <tr>\n      <th>Hatay alt bölgesi</th>\n      <td>MULTIPOLYGON (((36.45086 36.94467, 36.45514 36...</td>\n      <td>Hatay</td>\n      <td>TR6</td>\n      <td>Akdeniz</td>\n      <td>TR63</td>\n      <td>TR631</td>\n      <td>69739</td>\n    </tr>\n    <tr>\n      <th>Kastamonu alt bölgesi</th>\n      <td>POLYGON ((34.03936 40.84503, 34.04519 40.83231...</td>\n      <td>Çankırı</td>\n      <td>TR8</td>\n      <td>Batı Karadeniz</td>\n      <td>TR82</td>\n      <td>TR822</td>\n      <td>6038</td>\n    </tr>\n    <tr>\n      <th>Kayseri alt bölgesi</th>\n      <td>POLYGON ((36.72846 38.59086, 36.72274 38.58961...</td>\n      <td>Kayseri</td>\n      <td>TR7</td>\n      <td>Orta Anadolu</td>\n      <td>TR72</td>\n      <td>TR721</td>\n      <td>53423</td>\n    </tr>\n    <tr>\n      <th>Kocaeli alt bölgesi</th>\n      <td>MULTIPOLYGON (((29.39514 40.70181, 29.39514 40...</td>\n      <td>Bolu</td>\n      <td>TR4</td>\n      <td>Doğu Marmara</td>\n      <td>TR42</td>\n      <td>TR424</td>\n      <td>8840</td>\n    </tr>\n    <tr>\n      <th>Konya alt bölgesi</th>\n      <td>POLYGON ((34.19005 37.16993, 34.18338 37.16432...</td>\n      <td>Karaman</td>\n      <td>TR5</td>\n      <td>Batı Anadolu</td>\n      <td>TR52</td>\n      <td>TR522</td>\n      <td>9364</td>\n    </tr>\n    <tr>\n      <th>Kırıkkale alt bölgesi</th>\n      <td>POLYGON ((34.95848 38.43279, 34.96624 38.43250...</td>\n      <td>Aksaray</td>\n      <td>TR7</td>\n      <td>Orta Anadolu</td>\n      <td>TR71</td>\n      <td>TR712</td>\n      <td>16675</td>\n    </tr>\n    <tr>\n      <th>Malatya alt bölgesi</th>\n      <td>POLYGON ((38.50481 39.11664, 38.51613 39.11599...</td>\n      <td>Bingöl</td>\n      <td>TRB</td>\n      <td>Ortadoğu Anadolu</td>\n      <td>TRB1</td>\n      <td>TRB13</td>\n      <td>13073</td>\n    </tr>\n    <tr>\n      <th>Manisa alt bölgesi</th>\n      <td>POLYGON ((31.36813 39.14605, 31.38088 39.12517...</td>\n      <td>Afyonkarahisar</td>\n      <td>TR3</td>\n      <td>Ege</td>\n      <td>TR33</td>\n      <td>TR332</td>\n      <td>28518</td>\n    </tr>\n    <tr>\n      <th>Mardin alt bölgesi</th>\n      <td>POLYGON ((40.83895 37.71747, 40.85100 37.71807...</td>\n      <td>Batman</td>\n      <td>TRC</td>\n      <td>Güneydoğu Anadolu</td>\n      <td>TRC3</td>\n      <td>TRC32</td>\n      <td>31982</td>\n    </tr>\n    <tr>\n      <th>Samsun alt bölgesi</th>\n      <td>MULTIPOLYGON (((36.69170 40.84308, 36.68827 40...</td>\n      <td>Çorum</td>\n      <td>TR8</td>\n      <td>Batı Karadeniz</td>\n      <td>TR83</td>\n      <td>TR833</td>\n      <td>20091</td>\n    </tr>\n    <tr>\n      <th>Tekirdağ alt bölgesi</th>\n      <td>MULTIPOLYGON (((26.73931 40.61875, 26.73931 40...</td>\n      <td>Edirne</td>\n      <td>TR2</td>\n      <td>Batı Marmara</td>\n      <td>TR21</td>\n      <td>TR212</td>\n      <td>10369</td>\n    </tr>\n    <tr>\n      <th>Trabzon alt bölgesi</th>\n      <td>MULTIPOLYGON (((40.09166 40.50697, 40.08973 40...</td>\n      <td>Artvin</td>\n      <td>TR9</td>\n      <td>Doğu Karadeniz</td>\n      <td>TR90</td>\n      <td>TR905</td>\n      <td>5231</td>\n    </tr>\n    <tr>\n      <th>Van alt bölgesi</th>\n      <td>POLYGON ((44.59711 37.76376, 44.60109 37.76268...</td>\n      <td>Bitlis</td>\n      <td>TRB</td>\n      <td>Ortadoğu Anadolu</td>\n      <td>TRB2</td>\n      <td>TRB23</td>\n      <td>22085</td>\n    </tr>\n    <tr>\n      <th>Zonguldak alt bölgesi</th>\n      <td>MULTIPOLYGON (((32.98940 41.49467, 32.99475 41...</td>\n      <td>Bartın</td>\n      <td>TR8</td>\n      <td>Batı Karadeniz</td>\n      <td>TR81</td>\n      <td>TR813</td>\n      <td>5698</td>\n    </tr>\n    <tr>\n      <th>İstanbul alt bölgesi</th>\n      <td>MULTIPOLYGON (((28.99597 40.86597, 28.99625 40...</td>\n      <td>İstanbul</td>\n      <td>TR1</td>\n      <td>İstanbul</td>\n      <td>TR10</td>\n      <td>TR100</td>\n      <td>497651</td>\n    </tr>\n    <tr>\n      <th>İzmir alt bölgesi</th>\n      <td>MULTIPOLYGON (((26.43903 38.18764, 26.43931 38...</td>\n      <td>İzmir</td>\n      <td>TR3</td>\n      <td>Ege</td>\n      <td>TR31</td>\n      <td>TR310</td>\n      <td>119661</td>\n    </tr>\n    <tr>\n      <th>Şanlıurfa alt bölgesi</th>\n      <td>POLYGON ((39.88011 37.54991, 39.87976 37.54391...</td>\n      <td>Diyarbakır</td>\n      <td>TRC</td>\n      <td>Güneydoğu Anadolu</td>\n      <td>TRC2</td>\n      <td>TRC22</td>\n      <td>88833</td>\n    </tr>\n  </tbody>\n</table>\n</div>"
     },
     "execution_count": 30,
     "metadata": {},
     "output_type": "execute_result"
    }
   ],
   "source": [
    "f"
   ],
   "metadata": {
    "collapsed": false,
    "ExecuteTime": {
     "end_time": "2024-09-09T09:46:11.759172300Z",
     "start_time": "2024-09-09T09:46:10.976800600Z"
    }
   },
   "id": "9804674f6ab7639"
  },
  {
   "cell_type": "code",
   "execution_count": 31,
   "outputs": [
    {
     "data": {
      "text/plain": "(26, 7)"
     },
     "execution_count": 31,
     "metadata": {},
     "output_type": "execute_result"
    }
   ],
   "source": [
    "f.shape"
   ],
   "metadata": {
    "collapsed": false,
    "ExecuteTime": {
     "end_time": "2024-09-09T09:46:17.885629800Z",
     "start_time": "2024-09-09T09:46:17.854323900Z"
    }
   },
   "id": "d0811448d902d06f"
  },
  {
   "cell_type": "code",
   "execution_count": null,
   "outputs": [],
   "source": [],
   "metadata": {
    "collapsed": false
   },
   "id": "48e7b98772d63680"
  }
 ],
 "metadata": {
  "kernelspec": {
   "display_name": "Python 3",
   "language": "python",
   "name": "python3"
  },
  "language_info": {
   "codemirror_mode": {
    "name": "ipython",
    "version": 2
   },
   "file_extension": ".py",
   "mimetype": "text/x-python",
   "name": "python",
   "nbconvert_exporter": "python",
   "pygments_lexer": "ipython2",
   "version": "2.7.6"
  }
 },
 "nbformat": 4,
 "nbformat_minor": 5
}

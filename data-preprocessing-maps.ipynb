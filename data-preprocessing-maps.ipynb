{
 "cells": [
  {
   "cell_type": "code",
   "execution_count": 75,
   "outputs": [
    {
     "data": {
      "text/plain": "'tr_TR.UTF-8'"
     },
     "execution_count": 75,
     "metadata": {},
     "output_type": "execute_result"
    }
   ],
   "source": [
    "import locale\n",
    "import pandas as pd\n",
    "import geopandas as gpd\n",
    "# Set locale to Turkish\n",
    "locale.setlocale(locale.LC_COLLATE, 'tr_TR.UTF-8')"
   ],
   "metadata": {
    "collapsed": false,
    "ExecuteTime": {
     "end_time": "2024-09-24T12:07:29.729460800Z",
     "start_time": "2024-09-24T12:07:29.700038700Z"
    }
   },
   "id": "584d00575c883ef6"
  },
  {
   "cell_type": "markdown",
   "source": [
    "# Provinces"
   ],
   "metadata": {
    "collapsed": false
   },
   "id": "51128bb6ade7f95e"
  },
  {
   "cell_type": "code",
   "outputs": [
    {
     "data": {
      "text/plain": "         province                                           geometry  id\n0           Adana  MULTIPOLYGON (((35.27903 36.64069, 35.27903 36...   0\n1        Adıyaman  POLYGON ((38.65534 38.09172, 38.66739 38.0916,...   1\n2  Afyonkarahisar  POLYGON ((31.36277 39.16468, 31.36626 39.15131...   2\n3            Ağrı  POLYGON ((43.39566 39.9258, 43.39598 39.91575,...   3\n4         Aksaray  POLYGON ((34.20521 38.84115, 34.21472 38.82775...   4",
      "text/html": "<div>\n<style scoped>\n    .dataframe tbody tr th:only-of-type {\n        vertical-align: middle;\n    }\n\n    .dataframe tbody tr th {\n        vertical-align: top;\n    }\n\n    .dataframe thead th {\n        text-align: right;\n    }\n</style>\n<table border=\"1\" class=\"dataframe\">\n  <thead>\n    <tr style=\"text-align: right;\">\n      <th></th>\n      <th>province</th>\n      <th>geometry</th>\n      <th>id</th>\n    </tr>\n  </thead>\n  <tbody>\n    <tr>\n      <th>0</th>\n      <td>Adana</td>\n      <td>MULTIPOLYGON (((35.27903 36.64069, 35.27903 36...</td>\n      <td>0</td>\n    </tr>\n    <tr>\n      <th>1</th>\n      <td>Adıyaman</td>\n      <td>POLYGON ((38.65534 38.09172, 38.66739 38.0916,...</td>\n      <td>1</td>\n    </tr>\n    <tr>\n      <th>2</th>\n      <td>Afyonkarahisar</td>\n      <td>POLYGON ((31.36277 39.16468, 31.36626 39.15131...</td>\n      <td>2</td>\n    </tr>\n    <tr>\n      <th>3</th>\n      <td>Ağrı</td>\n      <td>POLYGON ((43.39566 39.9258, 43.39598 39.91575,...</td>\n      <td>3</td>\n    </tr>\n    <tr>\n      <th>4</th>\n      <td>Aksaray</td>\n      <td>POLYGON ((34.20521 38.84115, 34.21472 38.82775...</td>\n      <td>4</td>\n    </tr>\n  </tbody>\n</table>\n</div>"
     },
     "execution_count": 76,
     "metadata": {},
     "output_type": "execute_result"
    }
   ],
   "source": [
    "gdf_borders = gpd.read_file(\"data/raw/gdf_borders_ibbs3.geojson\")\n",
    "gdf_borders.sort_values(by=\"province\",  inplace=True,key = lambda x:[locale.strxfrm(y) for y in x])\n",
    "gdf_borders.reset_index(inplace=True,drop=True)\n",
    "gdf_borders[\"id\"] = gdf_borders.index\n",
    "gdf_borders.head()"
   ],
   "metadata": {
    "collapsed": false,
    "ExecuteTime": {
     "end_time": "2024-09-24T12:07:31.692071500Z",
     "start_time": "2024-09-24T12:07:31.650999800Z"
    }
   },
   "id": "93ba68000bea0d29",
   "execution_count": 76
  },
  {
   "cell_type": "code",
   "execution_count": 77,
   "outputs": [
    {
     "data": {
      "text/plain": "         ibbs1 code        region ibbs2 code            sub-region ibbs3 code\nprovince                                                                     \nİstanbul        TR1      İstanbul       TR10  İstanbul alt bölgesi      TR100\nTekirdağ        TR2  Batı Marmara       TR21  Tekirdağ alt bölgesi      TR211",
      "text/html": "<div>\n<style scoped>\n    .dataframe tbody tr th:only-of-type {\n        vertical-align: middle;\n    }\n\n    .dataframe tbody tr th {\n        vertical-align: top;\n    }\n\n    .dataframe thead th {\n        text-align: right;\n    }\n</style>\n<table border=\"1\" class=\"dataframe\">\n  <thead>\n    <tr style=\"text-align: right;\">\n      <th></th>\n      <th>ibbs1 code</th>\n      <th>region</th>\n      <th>ibbs2 code</th>\n      <th>sub-region</th>\n      <th>ibbs3 code</th>\n    </tr>\n    <tr>\n      <th>province</th>\n      <th></th>\n      <th></th>\n      <th></th>\n      <th></th>\n      <th></th>\n    </tr>\n  </thead>\n  <tbody>\n    <tr>\n      <th>İstanbul</th>\n      <td>TR1</td>\n      <td>İstanbul</td>\n      <td>TR10</td>\n      <td>İstanbul alt bölgesi</td>\n      <td>TR100</td>\n    </tr>\n    <tr>\n      <th>Tekirdağ</th>\n      <td>TR2</td>\n      <td>Batı Marmara</td>\n      <td>TR21</td>\n      <td>Tekirdağ alt bölgesi</td>\n      <td>TR211</td>\n    </tr>\n  </tbody>\n</table>\n</div>"
     },
     "execution_count": 77,
     "metadata": {},
     "output_type": "execute_result"
    }
   ],
   "source": [
    "df_codes = pd.read_excel(\"data/raw/region_codes.xlsx\",index_col=-1)\n",
    "df_codes.head(2)"
   ],
   "metadata": {
    "collapsed": false,
    "ExecuteTime": {
     "end_time": "2024-09-24T12:07:31.817590700Z",
     "start_time": "2024-09-24T12:07:31.682771400Z"
    }
   },
   "id": "cd0bcd52b362bedc"
  },
  {
   "cell_type": "code",
   "outputs": [
    {
     "data": {
      "text/plain": "         ibbs1 code        region ibbs2 code            sub-region ibbs3 code\nprovince                                                                     \nİstanbul        TR1      İstanbul       TR10  İstanbul alt bölgesi      TR100\nTekirdağ        TR2  Batı Marmara       TR21  Tekirdağ alt bölgesi      TR211",
      "text/html": "<div>\n<style scoped>\n    .dataframe tbody tr th:only-of-type {\n        vertical-align: middle;\n    }\n\n    .dataframe tbody tr th {\n        vertical-align: top;\n    }\n\n    .dataframe thead th {\n        text-align: right;\n    }\n</style>\n<table border=\"1\" class=\"dataframe\">\n  <thead>\n    <tr style=\"text-align: right;\">\n      <th></th>\n      <th>ibbs1 code</th>\n      <th>region</th>\n      <th>ibbs2 code</th>\n      <th>sub-region</th>\n      <th>ibbs3 code</th>\n    </tr>\n    <tr>\n      <th>province</th>\n      <th></th>\n      <th></th>\n      <th></th>\n      <th></th>\n      <th></th>\n    </tr>\n  </thead>\n  <tbody>\n    <tr>\n      <th>İstanbul</th>\n      <td>TR1</td>\n      <td>İstanbul</td>\n      <td>TR10</td>\n      <td>İstanbul alt bölgesi</td>\n      <td>TR100</td>\n    </tr>\n    <tr>\n      <th>Tekirdağ</th>\n      <td>TR2</td>\n      <td>Batı Marmara</td>\n      <td>TR21</td>\n      <td>Tekirdağ alt bölgesi</td>\n      <td>TR211</td>\n    </tr>\n  </tbody>\n</table>\n</div>"
     },
     "execution_count": 78,
     "metadata": {},
     "output_type": "execute_result"
    }
   ],
   "source": [
    "df_codes = df_codes.ffill()\n",
    "df_codes.head(2)"
   ],
   "metadata": {
    "collapsed": false,
    "ExecuteTime": {
     "end_time": "2024-09-24T12:07:31.820590300Z",
     "start_time": "2024-09-24T12:07:31.792733400Z"
    }
   },
   "id": "d94fbd6c573ec6dd",
   "execution_count": 78
  },
  {
   "cell_type": "code",
   "outputs": [
    {
     "data": {
      "text/plain": "         ibbs1 code        region ibbs2 code             sub-region ibbs3 code\nprovince                                                                      \nİstanbul        TR1      İstanbul       TR10  İstanbul \\nsub-region      TR100\nTekirdağ        TR2  Batı Marmara       TR21  Tekirdağ \\nsub-region      TR211",
      "text/html": "<div>\n<style scoped>\n    .dataframe tbody tr th:only-of-type {\n        vertical-align: middle;\n    }\n\n    .dataframe tbody tr th {\n        vertical-align: top;\n    }\n\n    .dataframe thead th {\n        text-align: right;\n    }\n</style>\n<table border=\"1\" class=\"dataframe\">\n  <thead>\n    <tr style=\"text-align: right;\">\n      <th></th>\n      <th>ibbs1 code</th>\n      <th>region</th>\n      <th>ibbs2 code</th>\n      <th>sub-region</th>\n      <th>ibbs3 code</th>\n    </tr>\n    <tr>\n      <th>province</th>\n      <th></th>\n      <th></th>\n      <th></th>\n      <th></th>\n      <th></th>\n    </tr>\n  </thead>\n  <tbody>\n    <tr>\n      <th>İstanbul</th>\n      <td>TR1</td>\n      <td>İstanbul</td>\n      <td>TR10</td>\n      <td>İstanbul \\nsub-region</td>\n      <td>TR100</td>\n    </tr>\n    <tr>\n      <th>Tekirdağ</th>\n      <td>TR2</td>\n      <td>Batı Marmara</td>\n      <td>TR21</td>\n      <td>Tekirdağ \\nsub-region</td>\n      <td>TR211</td>\n    </tr>\n  </tbody>\n</table>\n</div>"
     },
     "execution_count": 79,
     "metadata": {},
     "output_type": "execute_result"
    }
   ],
   "source": [
    "df_codes[[\"sub-region\"]] =df_codes[[\"sub-region\"]].astype(str)\n",
    "df_codes[\"sub-region\"] = df_codes[\"sub-region\"].map(lambda x: x.replace(\"alt bölgesi\",\"\\nsub-region\"))\n",
    "df_codes.head(2)"
   ],
   "metadata": {
    "collapsed": false,
    "ExecuteTime": {
     "end_time": "2024-09-24T12:07:31.820590300Z",
     "start_time": "2024-09-24T12:07:31.798162200Z"
    }
   },
   "id": "a3112a27d0c69a8a",
   "execution_count": 79
  },
  {
   "cell_type": "code",
   "execution_count": 80,
   "outputs": [],
   "source": [
    "region_dict = {\"İstanbul\":\"Istanbul\",\"Batı Marmara\":\"Western Marmara\",\"Ege\":\"Aegean\",\"Doğu Marmara\":\"Eastern Marmara\",\"Batı Anadolu\":\"Western Anatolia\",\n",
    "               \"Akdeniz\":\"Mediterranean\",\"Orta Anadolu\":\"Central Anatolia\",\"Batı Karadeniz\":\"Western Black Sea\",\"Doğu Karadeniz\":\"Eastern Black Sea\",\n",
    "          \"Kuzeydoğu Anadolu\":\"Northeastern Anatolia\",\"Ortadoğu Anadolu\":\"Middle East Anatolia\",\"Güneydoğu Anadolu\":\"Southeastern Anatolia\"}"
   ],
   "metadata": {
    "collapsed": false,
    "ExecuteTime": {
     "end_time": "2024-09-24T12:07:31.820590300Z",
     "start_time": "2024-09-24T12:07:31.813658900Z"
    }
   },
   "id": "b2c7e3d25936290d"
  },
  {
   "cell_type": "code",
   "execution_count": 81,
   "outputs": [
    {
     "data": {
      "text/plain": "         ibbs1 code           region ibbs2 code             sub-region  \\\nprovince                                                                 \nİstanbul        TR1         Istanbul       TR10  İstanbul \\nsub-region   \nTekirdağ        TR2  Western Marmara       TR21  Tekirdağ \\nsub-region   \n\n         ibbs3 code  \nprovince             \nİstanbul      TR100  \nTekirdağ      TR211  ",
      "text/html": "<div>\n<style scoped>\n    .dataframe tbody tr th:only-of-type {\n        vertical-align: middle;\n    }\n\n    .dataframe tbody tr th {\n        vertical-align: top;\n    }\n\n    .dataframe thead th {\n        text-align: right;\n    }\n</style>\n<table border=\"1\" class=\"dataframe\">\n  <thead>\n    <tr style=\"text-align: right;\">\n      <th></th>\n      <th>ibbs1 code</th>\n      <th>region</th>\n      <th>ibbs2 code</th>\n      <th>sub-region</th>\n      <th>ibbs3 code</th>\n    </tr>\n    <tr>\n      <th>province</th>\n      <th></th>\n      <th></th>\n      <th></th>\n      <th></th>\n      <th></th>\n    </tr>\n  </thead>\n  <tbody>\n    <tr>\n      <th>İstanbul</th>\n      <td>TR1</td>\n      <td>Istanbul</td>\n      <td>TR10</td>\n      <td>İstanbul \\nsub-region</td>\n      <td>TR100</td>\n    </tr>\n    <tr>\n      <th>Tekirdağ</th>\n      <td>TR2</td>\n      <td>Western Marmara</td>\n      <td>TR21</td>\n      <td>Tekirdağ \\nsub-region</td>\n      <td>TR211</td>\n    </tr>\n  </tbody>\n</table>\n</div>"
     },
     "execution_count": 81,
     "metadata": {},
     "output_type": "execute_result"
    }
   ],
   "source": [
    "df_codes[\"region\"] = df_codes[\"region\"].map(region_dict)\n",
    "df_codes.head(2)"
   ],
   "metadata": {
    "collapsed": false,
    "ExecuteTime": {
     "end_time": "2024-09-24T12:07:31.870379200Z",
     "start_time": "2024-09-24T12:07:31.818607600Z"
    }
   },
   "id": "a36512af9edca067"
  },
  {
   "cell_type": "code",
   "outputs": [
    {
     "data": {
      "text/plain": "   province                                           geometry  id ibbs1 code  \\\n0     Adana  MULTIPOLYGON (((35.27903 36.64069, 35.27903 36...   0        TR6   \n1  Adıyaman  POLYGON ((38.65534 38.09172, 38.66739 38.0916,...   1        TRC   \n\n                  region ibbs2 code              sub-region ibbs3 code  \n0          Mediterranean       TR62      Adana \\nsub-region      TR621  \n1  Southeastern Anatolia       TRC1  Gaziantep \\nsub-region      TRC12  ",
      "text/html": "<div>\n<style scoped>\n    .dataframe tbody tr th:only-of-type {\n        vertical-align: middle;\n    }\n\n    .dataframe tbody tr th {\n        vertical-align: top;\n    }\n\n    .dataframe thead th {\n        text-align: right;\n    }\n</style>\n<table border=\"1\" class=\"dataframe\">\n  <thead>\n    <tr style=\"text-align: right;\">\n      <th></th>\n      <th>province</th>\n      <th>geometry</th>\n      <th>id</th>\n      <th>ibbs1 code</th>\n      <th>region</th>\n      <th>ibbs2 code</th>\n      <th>sub-region</th>\n      <th>ibbs3 code</th>\n    </tr>\n  </thead>\n  <tbody>\n    <tr>\n      <th>0</th>\n      <td>Adana</td>\n      <td>MULTIPOLYGON (((35.27903 36.64069, 35.27903 36...</td>\n      <td>0</td>\n      <td>TR6</td>\n      <td>Mediterranean</td>\n      <td>TR62</td>\n      <td>Adana \\nsub-region</td>\n      <td>TR621</td>\n    </tr>\n    <tr>\n      <th>1</th>\n      <td>Adıyaman</td>\n      <td>POLYGON ((38.65534 38.09172, 38.66739 38.0916,...</td>\n      <td>1</td>\n      <td>TRC</td>\n      <td>Southeastern Anatolia</td>\n      <td>TRC1</td>\n      <td>Gaziantep \\nsub-region</td>\n      <td>TRC12</td>\n    </tr>\n  </tbody>\n</table>\n</div>"
     },
     "execution_count": 82,
     "metadata": {},
     "output_type": "execute_result"
    }
   ],
   "source": [
    "gdf_borders = gdf_borders.merge( df_codes, on=\"province\", how=\"left\" )\n",
    "gdf_borders.head(2)"
   ],
   "metadata": {
    "collapsed": false,
    "ExecuteTime": {
     "end_time": "2024-09-24T12:07:33.655096Z",
     "start_time": "2024-09-24T12:07:33.634813300Z"
    }
   },
   "id": "6adf3e6e86659ca2",
   "execution_count": 82
  },
  {
   "cell_type": "code",
   "outputs": [],
   "source": [
    "gdf_borders.to_file(\"data/preprocessed/gdf_borders_ibbs3.geojson\")\n",
    "df_codes.to_csv(\"data/preprocessed/region_codes.csv\")"
   ],
   "metadata": {
    "collapsed": false,
    "ExecuteTime": {
     "end_time": "2024-09-24T12:07:38.469619300Z",
     "start_time": "2024-09-24T12:07:35.152068800Z"
    }
   },
   "id": "2ecf2387d0c987d8",
   "execution_count": 83
  },
  {
   "cell_type": "markdown",
   "source": [
    "# Districts"
   ],
   "metadata": {
    "collapsed": false
   },
   "id": "846def8183626f88"
  },
  {
   "cell_type": "code",
   "execution_count": 84,
   "outputs": [
    {
     "data": {
      "text/plain": "  district province                                           geometry\n0  Elbeyli    Kilis  POLYGON ((37.3596 36.7307, 37.3631 36.7228, 37...\n1  Dodurga    Çorum  POLYGON ((34.63663 40.89572, 34.61219 40.88676...",
      "text/html": "<div>\n<style scoped>\n    .dataframe tbody tr th:only-of-type {\n        vertical-align: middle;\n    }\n\n    .dataframe tbody tr th {\n        vertical-align: top;\n    }\n\n    .dataframe thead th {\n        text-align: right;\n    }\n</style>\n<table border=\"1\" class=\"dataframe\">\n  <thead>\n    <tr style=\"text-align: right;\">\n      <th></th>\n      <th>district</th>\n      <th>province</th>\n      <th>geometry</th>\n    </tr>\n  </thead>\n  <tbody>\n    <tr>\n      <th>0</th>\n      <td>Elbeyli</td>\n      <td>Kilis</td>\n      <td>POLYGON ((37.3596 36.7307, 37.3631 36.7228, 37...</td>\n    </tr>\n    <tr>\n      <th>1</th>\n      <td>Dodurga</td>\n      <td>Çorum</td>\n      <td>POLYGON ((34.63663 40.89572, 34.61219 40.88676...</td>\n    </tr>\n  </tbody>\n</table>\n</div>"
     },
     "execution_count": 84,
     "metadata": {},
     "output_type": "execute_result"
    }
   ],
   "source": [
    "gdf_borders = gpd.read_file(\"data/raw/gdf_borders_district.geojson\")\n",
    "gdf_borders.head(2)"
   ],
   "metadata": {
    "collapsed": false,
    "ExecuteTime": {
     "end_time": "2024-09-24T13:58:46.942481700Z",
     "start_time": "2024-09-24T13:58:44.497217900Z"
    }
   },
   "id": "8769e6e39c70cdcb"
  },
  {
   "cell_type": "code",
   "execution_count": 85,
   "outputs": [
    {
     "data": {
      "text/plain": "  district province                                           geometry  id\n0  Elbeyli    Kilis  POLYGON ((37.3596 36.7307, 37.3631 36.7228, 37...   0\n1  Dodurga    Çorum  POLYGON ((34.63663 40.89572, 34.61219 40.88676...   1",
      "text/html": "<div>\n<style scoped>\n    .dataframe tbody tr th:only-of-type {\n        vertical-align: middle;\n    }\n\n    .dataframe tbody tr th {\n        vertical-align: top;\n    }\n\n    .dataframe thead th {\n        text-align: right;\n    }\n</style>\n<table border=\"1\" class=\"dataframe\">\n  <thead>\n    <tr style=\"text-align: right;\">\n      <th></th>\n      <th>district</th>\n      <th>province</th>\n      <th>geometry</th>\n      <th>id</th>\n    </tr>\n  </thead>\n  <tbody>\n    <tr>\n      <th>0</th>\n      <td>Elbeyli</td>\n      <td>Kilis</td>\n      <td>POLYGON ((37.3596 36.7307, 37.3631 36.7228, 37...</td>\n      <td>0</td>\n    </tr>\n    <tr>\n      <th>1</th>\n      <td>Dodurga</td>\n      <td>Çorum</td>\n      <td>POLYGON ((34.63663 40.89572, 34.61219 40.88676...</td>\n      <td>1</td>\n    </tr>\n  </tbody>\n</table>\n</div>"
     },
     "execution_count": 85,
     "metadata": {},
     "output_type": "execute_result"
    }
   ],
   "source": [
    "gdf_borders.reset_index(inplace=True,drop=True)\n",
    "gdf_borders[\"id\"] = gdf_borders.index\n",
    "gdf_borders.head(2)"
   ],
   "metadata": {
    "collapsed": false,
    "ExecuteTime": {
     "end_time": "2024-09-24T13:58:56.223357200Z",
     "start_time": "2024-09-24T13:58:56.207959Z"
    }
   },
   "id": "fd5c2dcaced81ad0"
  },
  {
   "cell_type": "code",
   "execution_count": 86,
   "outputs": [],
   "source": [
    "gdf_borders.to_file(\"data/preprocessed/gdf_borders_district.geojson\")"
   ],
   "metadata": {
    "collapsed": false,
    "ExecuteTime": {
     "end_time": "2024-09-24T13:59:11.987885300Z",
     "start_time": "2024-09-24T13:59:04.703696800Z"
    }
   },
   "id": "457deb7c6b2c686f"
  },
  {
   "cell_type": "markdown",
   "source": [
    "IGNORE BELOW (TEST TO OBSERVE)"
   ],
   "metadata": {
    "collapsed": false
   },
   "id": "cfaf45052df8edf7"
  },
  {
   "cell_type": "code",
   "outputs": [
    {
     "data": {
      "text/plain": "                                                               geometry  \\\nsub-region                                                                \nAdana \\nsub-region    MULTIPOLYGON (((35.2793 36.64014, 35.27958 36....   \nAnkara \\nsub-region   POLYGON ((33.18796 40.41365, 33.1941 40.40469,...   \nAntalya \\nsub-region  MULTIPOLYGON (((29.64097 36.12069, 29.64097 36...   \nAydın \\nsub-region    MULTIPOLYGON (((27.33153 37.3307, 27.3318 37.3...   \nAğrı \\nsub-region     POLYGON ((43.39566 39.9258, 43.39598 39.91575,...   \n\n                     province ibbs1 code             region ibbs2 code  \\\nsub-region                                                               \nAdana \\nsub-region      Adana        TR6            Akdeniz       TR62   \nAnkara \\nsub-region    Ankara        TR5       Batı Anadolu       TR51   \nAntalya \\nsub-region  Antalya        TR6            Akdeniz       TR61   \nAydın \\nsub-region      Aydın        TR3                Ege       TR32   \nAğrı \\nsub-region        Ağrı        TRA  Kuzeydoğu Anadolu       TRA2   \n\n                     ibbs3 code  \nsub-region                       \nAdana \\nsub-region        TR621  \nAnkara \\nsub-region       TR511  \nAntalya \\nsub-region      TR611  \nAydın \\nsub-region        TR321  \nAğrı \\nsub-region         TRA21  ",
      "text/html": "<div>\n<style scoped>\n    .dataframe tbody tr th:only-of-type {\n        vertical-align: middle;\n    }\n\n    .dataframe tbody tr th {\n        vertical-align: top;\n    }\n\n    .dataframe thead th {\n        text-align: right;\n    }\n</style>\n<table border=\"1\" class=\"dataframe\">\n  <thead>\n    <tr style=\"text-align: right;\">\n      <th></th>\n      <th>geometry</th>\n      <th>province</th>\n      <th>ibbs1 code</th>\n      <th>region</th>\n      <th>ibbs2 code</th>\n      <th>ibbs3 code</th>\n    </tr>\n    <tr>\n      <th>sub-region</th>\n      <th></th>\n      <th></th>\n      <th></th>\n      <th></th>\n      <th></th>\n      <th></th>\n    </tr>\n  </thead>\n  <tbody>\n    <tr>\n      <th>Adana \\nsub-region</th>\n      <td>MULTIPOLYGON (((35.2793 36.64014, 35.27958 36....</td>\n      <td>Adana</td>\n      <td>TR6</td>\n      <td>Akdeniz</td>\n      <td>TR62</td>\n      <td>TR621</td>\n    </tr>\n    <tr>\n      <th>Ankara \\nsub-region</th>\n      <td>POLYGON ((33.18796 40.41365, 33.1941 40.40469,...</td>\n      <td>Ankara</td>\n      <td>TR5</td>\n      <td>Batı Anadolu</td>\n      <td>TR51</td>\n      <td>TR511</td>\n    </tr>\n    <tr>\n      <th>Antalya \\nsub-region</th>\n      <td>MULTIPOLYGON (((29.64097 36.12069, 29.64097 36...</td>\n      <td>Antalya</td>\n      <td>TR6</td>\n      <td>Akdeniz</td>\n      <td>TR61</td>\n      <td>TR611</td>\n    </tr>\n    <tr>\n      <th>Aydın \\nsub-region</th>\n      <td>MULTIPOLYGON (((27.33153 37.3307, 27.3318 37.3...</td>\n      <td>Aydın</td>\n      <td>TR3</td>\n      <td>Ege</td>\n      <td>TR32</td>\n      <td>TR321</td>\n    </tr>\n    <tr>\n      <th>Ağrı \\nsub-region</th>\n      <td>POLYGON ((43.39566 39.9258, 43.39598 39.91575,...</td>\n      <td>Ağrı</td>\n      <td>TRA</td>\n      <td>Kuzeydoğu Anadolu</td>\n      <td>TRA2</td>\n      <td>TRA21</td>\n    </tr>\n  </tbody>\n</table>\n</div>"
     },
     "execution_count": 15,
     "metadata": {},
     "output_type": "execute_result"
    }
   ],
   "source": [
    "# Use the dissolve method to merge provinces into regions\n",
    "gdf_borders = gdf_borders.dissolve(by='sub-region')\n",
    "gdf_borders.head()"
   ],
   "metadata": {
    "collapsed": false,
    "ExecuteTime": {
     "end_time": "2024-09-21T16:01:43.163780500Z",
     "start_time": "2024-09-21T16:01:40.070854900Z"
    }
   },
   "id": "cf06114728a27f91",
   "execution_count": 15
  },
  {
   "cell_type": "code",
   "outputs": [
    {
     "data": {
      "text/plain": "(26, 6)"
     },
     "execution_count": 39,
     "metadata": {},
     "output_type": "execute_result"
    }
   ],
   "source": [
    "gdf_borders.shape"
   ],
   "metadata": {
    "collapsed": false,
    "ExecuteTime": {
     "end_time": "2024-09-09T13:39:11.328076Z",
     "start_time": "2024-09-09T13:39:11.296543500Z"
    }
   },
   "id": "a75abbd6f2172beb",
   "execution_count": 39
  },
  {
   "cell_type": "code",
   "outputs": [
    {
     "data": {
      "text/plain": "sex                   male                                                    \\\nage_group              0-4   10-14  15-19  20-24  25-29  30-34  35-39  40-44   \nyear province                                                                  \n2007 Adana           87875  100851  96648  78022  90764  80670  70980  68068   \n     Adıyaman        31114   35241  32872  24563  25786  20867  17573  15887   \n     Afyonkarahisar  28518   31309  30986  32886  29935  25038  23980  22329   \n     Aksaray         16675   18777  17846  14831  16510  14419  12434  11318   \n     Amasya          10933   13796  13929  18042  13775  11303  10811  11107   \n\nsex                                ... female                              \\\nage_group            45-49  50-54  ...  50-54  55-59    5-9  60-64  65-69   \nyear province                      ...                                      \n2007 Adana           58558  52112  ...  51402  39610  93870  27931  22227   \n     Adıyaman        11527  10253  ...  10555   9782  32072   7440   6242   \n     Afyonkarahisar  21158  18181  ...  18780  15373  30085  12226  11654   \n     Aksaray          8711   7629  ...   8186   7656  18367   5753   4778   \n     Amasya          10029   9128  ...   9265   8309  12400   7230   6423   \n\nsex                                                  \nage_group            70-74  75-79 80-84 85-89   90+  \nyear province                                        \n2007 Adana           16919  13775  7869  2810  1761  \n     Adıyaman         4572   3973  2497  1103   656  \n     Afyonkarahisar   9847   8158  3812   983   485  \n     Aksaray          3707   2632  1527   567   314  \n     Amasya           5633   4356  2146   594   284  \n\n[5 rows x 38 columns]",
      "text/html": "<div>\n<style scoped>\n    .dataframe tbody tr th:only-of-type {\n        vertical-align: middle;\n    }\n\n    .dataframe tbody tr th {\n        vertical-align: top;\n    }\n\n    .dataframe thead tr th {\n        text-align: left;\n    }\n\n    .dataframe thead tr:last-of-type th {\n        text-align: right;\n    }\n</style>\n<table border=\"1\" class=\"dataframe\">\n  <thead>\n    <tr>\n      <th></th>\n      <th>sex</th>\n      <th colspan=\"10\" halign=\"left\">male</th>\n      <th>...</th>\n      <th colspan=\"10\" halign=\"left\">female</th>\n    </tr>\n    <tr>\n      <th></th>\n      <th>age_group</th>\n      <th>0-4</th>\n      <th>10-14</th>\n      <th>15-19</th>\n      <th>20-24</th>\n      <th>25-29</th>\n      <th>30-34</th>\n      <th>35-39</th>\n      <th>40-44</th>\n      <th>45-49</th>\n      <th>50-54</th>\n      <th>...</th>\n      <th>50-54</th>\n      <th>55-59</th>\n      <th>5-9</th>\n      <th>60-64</th>\n      <th>65-69</th>\n      <th>70-74</th>\n      <th>75-79</th>\n      <th>80-84</th>\n      <th>85-89</th>\n      <th>90+</th>\n    </tr>\n    <tr>\n      <th>year</th>\n      <th>province</th>\n      <th></th>\n      <th></th>\n      <th></th>\n      <th></th>\n      <th></th>\n      <th></th>\n      <th></th>\n      <th></th>\n      <th></th>\n      <th></th>\n      <th></th>\n      <th></th>\n      <th></th>\n      <th></th>\n      <th></th>\n      <th></th>\n      <th></th>\n      <th></th>\n      <th></th>\n      <th></th>\n      <th></th>\n    </tr>\n  </thead>\n  <tbody>\n    <tr>\n      <th rowspan=\"5\" valign=\"top\">2007</th>\n      <th>Adana</th>\n      <td>87875</td>\n      <td>100851</td>\n      <td>96648</td>\n      <td>78022</td>\n      <td>90764</td>\n      <td>80670</td>\n      <td>70980</td>\n      <td>68068</td>\n      <td>58558</td>\n      <td>52112</td>\n      <td>...</td>\n      <td>51402</td>\n      <td>39610</td>\n      <td>93870</td>\n      <td>27931</td>\n      <td>22227</td>\n      <td>16919</td>\n      <td>13775</td>\n      <td>7869</td>\n      <td>2810</td>\n      <td>1761</td>\n    </tr>\n    <tr>\n      <th>Adıyaman</th>\n      <td>31114</td>\n      <td>35241</td>\n      <td>32872</td>\n      <td>24563</td>\n      <td>25786</td>\n      <td>20867</td>\n      <td>17573</td>\n      <td>15887</td>\n      <td>11527</td>\n      <td>10253</td>\n      <td>...</td>\n      <td>10555</td>\n      <td>9782</td>\n      <td>32072</td>\n      <td>7440</td>\n      <td>6242</td>\n      <td>4572</td>\n      <td>3973</td>\n      <td>2497</td>\n      <td>1103</td>\n      <td>656</td>\n    </tr>\n    <tr>\n      <th>Afyonkarahisar</th>\n      <td>28518</td>\n      <td>31309</td>\n      <td>30986</td>\n      <td>32886</td>\n      <td>29935</td>\n      <td>25038</td>\n      <td>23980</td>\n      <td>22329</td>\n      <td>21158</td>\n      <td>18181</td>\n      <td>...</td>\n      <td>18780</td>\n      <td>15373</td>\n      <td>30085</td>\n      <td>12226</td>\n      <td>11654</td>\n      <td>9847</td>\n      <td>8158</td>\n      <td>3812</td>\n      <td>983</td>\n      <td>485</td>\n    </tr>\n    <tr>\n      <th>Aksaray</th>\n      <td>16675</td>\n      <td>18777</td>\n      <td>17846</td>\n      <td>14831</td>\n      <td>16510</td>\n      <td>14419</td>\n      <td>12434</td>\n      <td>11318</td>\n      <td>8711</td>\n      <td>7629</td>\n      <td>...</td>\n      <td>8186</td>\n      <td>7656</td>\n      <td>18367</td>\n      <td>5753</td>\n      <td>4778</td>\n      <td>3707</td>\n      <td>2632</td>\n      <td>1527</td>\n      <td>567</td>\n      <td>314</td>\n    </tr>\n    <tr>\n      <th>Amasya</th>\n      <td>10933</td>\n      <td>13796</td>\n      <td>13929</td>\n      <td>18042</td>\n      <td>13775</td>\n      <td>11303</td>\n      <td>10811</td>\n      <td>11107</td>\n      <td>10029</td>\n      <td>9128</td>\n      <td>...</td>\n      <td>9265</td>\n      <td>8309</td>\n      <td>12400</td>\n      <td>7230</td>\n      <td>6423</td>\n      <td>5633</td>\n      <td>4356</td>\n      <td>2146</td>\n      <td>594</td>\n      <td>284</td>\n    </tr>\n  </tbody>\n</table>\n<p>5 rows × 38 columns</p>\n</div>"
     },
     "execution_count": 15,
     "metadata": {},
     "output_type": "execute_result"
    }
   ],
   "source": [
    "df_data = pd.read_csv(\"data/preprocessed/population/population-age-sex-2007-2023-ibbs3.csv\", index_col=[0, 1], header=[0, 1])\n",
    "df_data.head()"
   ],
   "metadata": {
    "collapsed": false,
    "ExecuteTime": {
     "end_time": "2024-09-09T09:40:52.023725600Z",
     "start_time": "2024-09-09T09:40:51.720104600Z"
    }
   },
   "id": "cb393cdf1b7119d9",
   "execution_count": 15
  },
  {
   "cell_type": "code",
   "execution_count": 33,
   "outputs": [
    {
     "data": {
      "text/plain": "    province                                           geometry ibbs1 code  \\\n0  Çanakkale  MULTIPOLYGON (((26.05347 39.84736, 26.05347 39...        TR2   \n1    Çankırı  POLYGON ((33.78607 40.96249, 33.78677 40.95684...        TR8   \n2      Çorum  POLYGON ((34.81906 41.20172, 34.84486 41.19581...        TR8   \n3      Adana  MULTIPOLYGON (((35.27903 36.64069, 35.27903 36...        TR6   \n4   Adıyaman  POLYGON ((38.65534 38.09172, 38.66739 38.09160...        TRC   \n\n              region ibbs2 code             sub-region ibbs3 code      0  \n0       Batı Marmara       TR22  Balıkesir alt bölgesi      TR222  12601  \n1     Batı Karadeniz       TR82  Kastamonu alt bölgesi      TR822   6038  \n2     Batı Karadeniz       TR83     Samsun alt bölgesi      TR833  20091  \n3            Akdeniz       TR62      Adana alt bölgesi      TR621  87875  \n4  Güneydoğu Anadolu       TRC1  Gaziantep alt bölgesi      TRC12  31114  ",
      "text/html": "<div>\n<style scoped>\n    .dataframe tbody tr th:only-of-type {\n        vertical-align: middle;\n    }\n\n    .dataframe tbody tr th {\n        vertical-align: top;\n    }\n\n    .dataframe thead th {\n        text-align: right;\n    }\n</style>\n<table border=\"1\" class=\"dataframe\">\n  <thead>\n    <tr style=\"text-align: right;\">\n      <th></th>\n      <th>province</th>\n      <th>geometry</th>\n      <th>ibbs1 code</th>\n      <th>region</th>\n      <th>ibbs2 code</th>\n      <th>sub-region</th>\n      <th>ibbs3 code</th>\n      <th>0</th>\n    </tr>\n  </thead>\n  <tbody>\n    <tr>\n      <th>0</th>\n      <td>Çanakkale</td>\n      <td>MULTIPOLYGON (((26.05347 39.84736, 26.05347 39...</td>\n      <td>TR2</td>\n      <td>Batı Marmara</td>\n      <td>TR22</td>\n      <td>Balıkesir alt bölgesi</td>\n      <td>TR222</td>\n      <td>12601</td>\n    </tr>\n    <tr>\n      <th>1</th>\n      <td>Çankırı</td>\n      <td>POLYGON ((33.78607 40.96249, 33.78677 40.95684...</td>\n      <td>TR8</td>\n      <td>Batı Karadeniz</td>\n      <td>TR82</td>\n      <td>Kastamonu alt bölgesi</td>\n      <td>TR822</td>\n      <td>6038</td>\n    </tr>\n    <tr>\n      <th>2</th>\n      <td>Çorum</td>\n      <td>POLYGON ((34.81906 41.20172, 34.84486 41.19581...</td>\n      <td>TR8</td>\n      <td>Batı Karadeniz</td>\n      <td>TR83</td>\n      <td>Samsun alt bölgesi</td>\n      <td>TR833</td>\n      <td>20091</td>\n    </tr>\n    <tr>\n      <th>3</th>\n      <td>Adana</td>\n      <td>MULTIPOLYGON (((35.27903 36.64069, 35.27903 36...</td>\n      <td>TR6</td>\n      <td>Akdeniz</td>\n      <td>TR62</td>\n      <td>Adana alt bölgesi</td>\n      <td>TR621</td>\n      <td>87875</td>\n    </tr>\n    <tr>\n      <th>4</th>\n      <td>Adıyaman</td>\n      <td>POLYGON ((38.65534 38.09172, 38.66739 38.09160...</td>\n      <td>TRC</td>\n      <td>Güneydoğu Anadolu</td>\n      <td>TRC1</td>\n      <td>Gaziantep alt bölgesi</td>\n      <td>TRC12</td>\n      <td>31114</td>\n    </tr>\n  </tbody>\n</table>\n</div>"
     },
     "execution_count": 33,
     "metadata": {},
     "output_type": "execute_result"
    }
   ],
   "source": [
    "res=gdf_borders.merge(tt, left_on=\"province\", right_on=\"province\")\n",
    "res.head()"
   ],
   "metadata": {
    "collapsed": false,
    "ExecuteTime": {
     "end_time": "2024-09-09T09:47:53.779167600Z",
     "start_time": "2024-09-09T09:47:53.622485300Z"
    }
   },
   "id": "1e4506eeff9d5249"
  },
  {
   "cell_type": "code",
   "execution_count": 22,
   "outputs": [],
   "source": [
    "tt=df_data.loc[2007,[(\"male\",\"0-4\")]].droplevel(1, axis=1).sum(axis=1).reset_index()"
   ],
   "metadata": {
    "collapsed": false,
    "ExecuteTime": {
     "end_time": "2024-09-09T09:44:29.823952Z",
     "start_time": "2024-09-09T09:44:29.782311900Z"
    }
   },
   "id": "a324a64967040975"
  },
  {
   "cell_type": "code",
   "execution_count": 32,
   "outputs": [
    {
     "data": {
      "text/plain": "         province      0\n0           Adana  87875\n1        Adıyaman  31114\n2  Afyonkarahisar  28518\n3         Aksaray  16675\n4          Amasya  10933",
      "text/html": "<div>\n<style scoped>\n    .dataframe tbody tr th:only-of-type {\n        vertical-align: middle;\n    }\n\n    .dataframe tbody tr th {\n        vertical-align: top;\n    }\n\n    .dataframe thead th {\n        text-align: right;\n    }\n</style>\n<table border=\"1\" class=\"dataframe\">\n  <thead>\n    <tr style=\"text-align: right;\">\n      <th></th>\n      <th>province</th>\n      <th>0</th>\n    </tr>\n  </thead>\n  <tbody>\n    <tr>\n      <th>0</th>\n      <td>Adana</td>\n      <td>87875</td>\n    </tr>\n    <tr>\n      <th>1</th>\n      <td>Adıyaman</td>\n      <td>31114</td>\n    </tr>\n    <tr>\n      <th>2</th>\n      <td>Afyonkarahisar</td>\n      <td>28518</td>\n    </tr>\n    <tr>\n      <th>3</th>\n      <td>Aksaray</td>\n      <td>16675</td>\n    </tr>\n    <tr>\n      <th>4</th>\n      <td>Amasya</td>\n      <td>10933</td>\n    </tr>\n  </tbody>\n</table>\n</div>"
     },
     "execution_count": 32,
     "metadata": {},
     "output_type": "execute_result"
    }
   ],
   "source": [
    "tt.head()"
   ],
   "metadata": {
    "collapsed": false,
    "ExecuteTime": {
     "end_time": "2024-09-09T09:47:31.446560600Z",
     "start_time": "2024-09-09T09:47:31.384060500Z"
    }
   },
   "id": "1733c5133fa8aa58"
  },
  {
   "cell_type": "code",
   "execution_count": 29,
   "outputs": [],
   "source": [
    "f=res.dissolve(by='sub-region')"
   ],
   "metadata": {
    "collapsed": false,
    "ExecuteTime": {
     "end_time": "2024-09-09T09:46:09.987711100Z",
     "start_time": "2024-09-09T09:46:07.541523200Z"
    }
   },
   "id": "e741849df8dcadb8"
  },
  {
   "cell_type": "code",
   "execution_count": 30,
   "outputs": [
    {
     "data": {
      "text/plain": "                                                                geometry  \\\nsub-region                                                                 \nAdana alt bölgesi      MULTIPOLYGON (((33.53125 36.12847, 33.53125 36...   \nAnkara alt bölgesi     POLYGON ((33.18796 40.41365, 33.19410 40.40469...   \nAntalya alt bölgesi    MULTIPOLYGON (((29.64097 36.12069, 29.64097 36...   \nAydın alt bölgesi      MULTIPOLYGON (((27.40681 36.74208, 27.40681 36...   \nAğrı alt bölgesi       POLYGON ((44.48705 39.68656, 44.48495 39.67772...   \nBalıkesir alt bölgesi  MULTIPOLYGON (((26.60014 39.30208, 26.60042 39...   \nBursa alt bölgesi      MULTIPOLYGON (((31.01101 40.01844, 31.02343 40...   \nErzurum alt bölgesi    POLYGON ((40.60795 39.53184, 40.58783 39.53662...   \nGaziantep alt bölgesi  POLYGON ((37.50204 36.64929, 37.48498 36.64109...   \nHatay alt bölgesi      MULTIPOLYGON (((36.45086 36.94467, 36.45514 36...   \nKastamonu alt bölgesi  POLYGON ((34.03936 40.84503, 34.04519 40.83231...   \nKayseri alt bölgesi    POLYGON ((36.72846 38.59086, 36.72274 38.58961...   \nKocaeli alt bölgesi    MULTIPOLYGON (((29.39514 40.70181, 29.39514 40...   \nKonya alt bölgesi      POLYGON ((34.19005 37.16993, 34.18338 37.16432...   \nKırıkkale alt bölgesi  POLYGON ((34.95848 38.43279, 34.96624 38.43250...   \nMalatya alt bölgesi    POLYGON ((38.50481 39.11664, 38.51613 39.11599...   \nManisa alt bölgesi     POLYGON ((31.36813 39.14605, 31.38088 39.12517...   \nMardin alt bölgesi     POLYGON ((40.83895 37.71747, 40.85100 37.71807...   \nSamsun alt bölgesi     MULTIPOLYGON (((36.69170 40.84308, 36.68827 40...   \nTekirdağ alt bölgesi   MULTIPOLYGON (((26.73931 40.61875, 26.73931 40...   \nTrabzon alt bölgesi    MULTIPOLYGON (((40.09166 40.50697, 40.08973 40...   \nVan alt bölgesi        POLYGON ((44.59711 37.76376, 44.60109 37.76268...   \nZonguldak alt bölgesi  MULTIPOLYGON (((32.98940 41.49467, 32.99475 41...   \nİstanbul alt bölgesi   MULTIPOLYGON (((28.99597 40.86597, 28.99625 40...   \nİzmir alt bölgesi      MULTIPOLYGON (((26.43903 38.18764, 26.43931 38...   \nŞanlıurfa alt bölgesi  POLYGON ((39.88011 37.54991, 39.87976 37.54391...   \n\n                             province ibbs1 code             region  \\\nsub-region                                                            \nAdana alt bölgesi               Adana        TR6            Akdeniz   \nAnkara alt bölgesi             Ankara        TR5       Batı Anadolu   \nAntalya alt bölgesi           Antalya        TR6            Akdeniz   \nAydın alt bölgesi               Aydın        TR3                Ege   \nAğrı alt bölgesi                 Ağrı        TRA  Kuzeydoğu Anadolu   \nBalıkesir alt bölgesi       Çanakkale        TR2       Batı Marmara   \nBursa alt bölgesi             Bilecik        TR4       Doğu Marmara   \nErzurum alt bölgesi           Bayburt        TRA  Kuzeydoğu Anadolu   \nGaziantep alt bölgesi        Adıyaman        TRC  Güneydoğu Anadolu   \nHatay alt bölgesi               Hatay        TR6            Akdeniz   \nKastamonu alt bölgesi         Çankırı        TR8     Batı Karadeniz   \nKayseri alt bölgesi           Kayseri        TR7       Orta Anadolu   \nKocaeli alt bölgesi              Bolu        TR4       Doğu Marmara   \nKonya alt bölgesi             Karaman        TR5       Batı Anadolu   \nKırıkkale alt bölgesi         Aksaray        TR7       Orta Anadolu   \nMalatya alt bölgesi            Bingöl        TRB   Ortadoğu Anadolu   \nManisa alt bölgesi     Afyonkarahisar        TR3                Ege   \nMardin alt bölgesi             Batman        TRC  Güneydoğu Anadolu   \nSamsun alt bölgesi              Çorum        TR8     Batı Karadeniz   \nTekirdağ alt bölgesi           Edirne        TR2       Batı Marmara   \nTrabzon alt bölgesi            Artvin        TR9     Doğu Karadeniz   \nVan alt bölgesi                Bitlis        TRB   Ortadoğu Anadolu   \nZonguldak alt bölgesi          Bartın        TR8     Batı Karadeniz   \nİstanbul alt bölgesi         İstanbul        TR1           İstanbul   \nİzmir alt bölgesi               İzmir        TR3                Ege   \nŞanlıurfa alt bölgesi      Diyarbakır        TRC  Güneydoğu Anadolu   \n\n                      ibbs2 code ibbs3 code       0  \nsub-region                                           \nAdana alt bölgesi           TR62      TR621   87875  \nAnkara alt bölgesi          TR51      TR511  161281  \nAntalya alt bölgesi         TR61      TR611   71077  \nAydın alt bölgesi           TR32      TR321   31432  \nAğrı alt bölgesi            TRA2      TRA21   34639  \nBalıkesir alt bölgesi       TR22      TR222   12601  \nBursa alt bölgesi           TR41      TR413    6715  \nErzurum alt bölgesi         TRA1      TRA13    3252  \nGaziantep alt bölgesi       TRC1      TRC12   31114  \nHatay alt bölgesi           TR63      TR631   69739  \nKastamonu alt bölgesi       TR82      TR822    6038  \nKayseri alt bölgesi         TR72      TR721   53423  \nKocaeli alt bölgesi         TR42      TR424    8840  \nKonya alt bölgesi           TR52      TR522    9364  \nKırıkkale alt bölgesi       TR71      TR712   16675  \nMalatya alt bölgesi         TRB1      TRB13   13073  \nManisa alt bölgesi          TR33      TR332   28518  \nMardin alt bölgesi          TRC3      TRC32   31982  \nSamsun alt bölgesi          TR83      TR833   20091  \nTekirdağ alt bölgesi        TR21      TR212   10369  \nTrabzon alt bölgesi         TR90      TR905    5231  \nVan alt bölgesi             TRB2      TRB23   22085  \nZonguldak alt bölgesi       TR81      TR813    5698  \nİstanbul alt bölgesi        TR10      TR100  497651  \nİzmir alt bölgesi           TR31      TR310  119661  \nŞanlıurfa alt bölgesi       TRC2      TRC22   88833  ",
      "text/html": "<div>\n<style scoped>\n    .dataframe tbody tr th:only-of-type {\n        vertical-align: middle;\n    }\n\n    .dataframe tbody tr th {\n        vertical-align: top;\n    }\n\n    .dataframe thead th {\n        text-align: right;\n    }\n</style>\n<table border=\"1\" class=\"dataframe\">\n  <thead>\n    <tr style=\"text-align: right;\">\n      <th></th>\n      <th>geometry</th>\n      <th>province</th>\n      <th>ibbs1 code</th>\n      <th>region</th>\n      <th>ibbs2 code</th>\n      <th>ibbs3 code</th>\n      <th>0</th>\n    </tr>\n    <tr>\n      <th>sub-region</th>\n      <th></th>\n      <th></th>\n      <th></th>\n      <th></th>\n      <th></th>\n      <th></th>\n      <th></th>\n    </tr>\n  </thead>\n  <tbody>\n    <tr>\n      <th>Adana alt bölgesi</th>\n      <td>MULTIPOLYGON (((33.53125 36.12847, 33.53125 36...</td>\n      <td>Adana</td>\n      <td>TR6</td>\n      <td>Akdeniz</td>\n      <td>TR62</td>\n      <td>TR621</td>\n      <td>87875</td>\n    </tr>\n    <tr>\n      <th>Ankara alt bölgesi</th>\n      <td>POLYGON ((33.18796 40.41365, 33.19410 40.40469...</td>\n      <td>Ankara</td>\n      <td>TR5</td>\n      <td>Batı Anadolu</td>\n      <td>TR51</td>\n      <td>TR511</td>\n      <td>161281</td>\n    </tr>\n    <tr>\n      <th>Antalya alt bölgesi</th>\n      <td>MULTIPOLYGON (((29.64097 36.12069, 29.64097 36...</td>\n      <td>Antalya</td>\n      <td>TR6</td>\n      <td>Akdeniz</td>\n      <td>TR61</td>\n      <td>TR611</td>\n      <td>71077</td>\n    </tr>\n    <tr>\n      <th>Aydın alt bölgesi</th>\n      <td>MULTIPOLYGON (((27.40681 36.74208, 27.40681 36...</td>\n      <td>Aydın</td>\n      <td>TR3</td>\n      <td>Ege</td>\n      <td>TR32</td>\n      <td>TR321</td>\n      <td>31432</td>\n    </tr>\n    <tr>\n      <th>Ağrı alt bölgesi</th>\n      <td>POLYGON ((44.48705 39.68656, 44.48495 39.67772...</td>\n      <td>Ağrı</td>\n      <td>TRA</td>\n      <td>Kuzeydoğu Anadolu</td>\n      <td>TRA2</td>\n      <td>TRA21</td>\n      <td>34639</td>\n    </tr>\n    <tr>\n      <th>Balıkesir alt bölgesi</th>\n      <td>MULTIPOLYGON (((26.60014 39.30208, 26.60042 39...</td>\n      <td>Çanakkale</td>\n      <td>TR2</td>\n      <td>Batı Marmara</td>\n      <td>TR22</td>\n      <td>TR222</td>\n      <td>12601</td>\n    </tr>\n    <tr>\n      <th>Bursa alt bölgesi</th>\n      <td>MULTIPOLYGON (((31.01101 40.01844, 31.02343 40...</td>\n      <td>Bilecik</td>\n      <td>TR4</td>\n      <td>Doğu Marmara</td>\n      <td>TR41</td>\n      <td>TR413</td>\n      <td>6715</td>\n    </tr>\n    <tr>\n      <th>Erzurum alt bölgesi</th>\n      <td>POLYGON ((40.60795 39.53184, 40.58783 39.53662...</td>\n      <td>Bayburt</td>\n      <td>TRA</td>\n      <td>Kuzeydoğu Anadolu</td>\n      <td>TRA1</td>\n      <td>TRA13</td>\n      <td>3252</td>\n    </tr>\n    <tr>\n      <th>Gaziantep alt bölgesi</th>\n      <td>POLYGON ((37.50204 36.64929, 37.48498 36.64109...</td>\n      <td>Adıyaman</td>\n      <td>TRC</td>\n      <td>Güneydoğu Anadolu</td>\n      <td>TRC1</td>\n      <td>TRC12</td>\n      <td>31114</td>\n    </tr>\n    <tr>\n      <th>Hatay alt bölgesi</th>\n      <td>MULTIPOLYGON (((36.45086 36.94467, 36.45514 36...</td>\n      <td>Hatay</td>\n      <td>TR6</td>\n      <td>Akdeniz</td>\n      <td>TR63</td>\n      <td>TR631</td>\n      <td>69739</td>\n    </tr>\n    <tr>\n      <th>Kastamonu alt bölgesi</th>\n      <td>POLYGON ((34.03936 40.84503, 34.04519 40.83231...</td>\n      <td>Çankırı</td>\n      <td>TR8</td>\n      <td>Batı Karadeniz</td>\n      <td>TR82</td>\n      <td>TR822</td>\n      <td>6038</td>\n    </tr>\n    <tr>\n      <th>Kayseri alt bölgesi</th>\n      <td>POLYGON ((36.72846 38.59086, 36.72274 38.58961...</td>\n      <td>Kayseri</td>\n      <td>TR7</td>\n      <td>Orta Anadolu</td>\n      <td>TR72</td>\n      <td>TR721</td>\n      <td>53423</td>\n    </tr>\n    <tr>\n      <th>Kocaeli alt bölgesi</th>\n      <td>MULTIPOLYGON (((29.39514 40.70181, 29.39514 40...</td>\n      <td>Bolu</td>\n      <td>TR4</td>\n      <td>Doğu Marmara</td>\n      <td>TR42</td>\n      <td>TR424</td>\n      <td>8840</td>\n    </tr>\n    <tr>\n      <th>Konya alt bölgesi</th>\n      <td>POLYGON ((34.19005 37.16993, 34.18338 37.16432...</td>\n      <td>Karaman</td>\n      <td>TR5</td>\n      <td>Batı Anadolu</td>\n      <td>TR52</td>\n      <td>TR522</td>\n      <td>9364</td>\n    </tr>\n    <tr>\n      <th>Kırıkkale alt bölgesi</th>\n      <td>POLYGON ((34.95848 38.43279, 34.96624 38.43250...</td>\n      <td>Aksaray</td>\n      <td>TR7</td>\n      <td>Orta Anadolu</td>\n      <td>TR71</td>\n      <td>TR712</td>\n      <td>16675</td>\n    </tr>\n    <tr>\n      <th>Malatya alt bölgesi</th>\n      <td>POLYGON ((38.50481 39.11664, 38.51613 39.11599...</td>\n      <td>Bingöl</td>\n      <td>TRB</td>\n      <td>Ortadoğu Anadolu</td>\n      <td>TRB1</td>\n      <td>TRB13</td>\n      <td>13073</td>\n    </tr>\n    <tr>\n      <th>Manisa alt bölgesi</th>\n      <td>POLYGON ((31.36813 39.14605, 31.38088 39.12517...</td>\n      <td>Afyonkarahisar</td>\n      <td>TR3</td>\n      <td>Ege</td>\n      <td>TR33</td>\n      <td>TR332</td>\n      <td>28518</td>\n    </tr>\n    <tr>\n      <th>Mardin alt bölgesi</th>\n      <td>POLYGON ((40.83895 37.71747, 40.85100 37.71807...</td>\n      <td>Batman</td>\n      <td>TRC</td>\n      <td>Güneydoğu Anadolu</td>\n      <td>TRC3</td>\n      <td>TRC32</td>\n      <td>31982</td>\n    </tr>\n    <tr>\n      <th>Samsun alt bölgesi</th>\n      <td>MULTIPOLYGON (((36.69170 40.84308, 36.68827 40...</td>\n      <td>Çorum</td>\n      <td>TR8</td>\n      <td>Batı Karadeniz</td>\n      <td>TR83</td>\n      <td>TR833</td>\n      <td>20091</td>\n    </tr>\n    <tr>\n      <th>Tekirdağ alt bölgesi</th>\n      <td>MULTIPOLYGON (((26.73931 40.61875, 26.73931 40...</td>\n      <td>Edirne</td>\n      <td>TR2</td>\n      <td>Batı Marmara</td>\n      <td>TR21</td>\n      <td>TR212</td>\n      <td>10369</td>\n    </tr>\n    <tr>\n      <th>Trabzon alt bölgesi</th>\n      <td>MULTIPOLYGON (((40.09166 40.50697, 40.08973 40...</td>\n      <td>Artvin</td>\n      <td>TR9</td>\n      <td>Doğu Karadeniz</td>\n      <td>TR90</td>\n      <td>TR905</td>\n      <td>5231</td>\n    </tr>\n    <tr>\n      <th>Van alt bölgesi</th>\n      <td>POLYGON ((44.59711 37.76376, 44.60109 37.76268...</td>\n      <td>Bitlis</td>\n      <td>TRB</td>\n      <td>Ortadoğu Anadolu</td>\n      <td>TRB2</td>\n      <td>TRB23</td>\n      <td>22085</td>\n    </tr>\n    <tr>\n      <th>Zonguldak alt bölgesi</th>\n      <td>MULTIPOLYGON (((32.98940 41.49467, 32.99475 41...</td>\n      <td>Bartın</td>\n      <td>TR8</td>\n      <td>Batı Karadeniz</td>\n      <td>TR81</td>\n      <td>TR813</td>\n      <td>5698</td>\n    </tr>\n    <tr>\n      <th>İstanbul alt bölgesi</th>\n      <td>MULTIPOLYGON (((28.99597 40.86597, 28.99625 40...</td>\n      <td>İstanbul</td>\n      <td>TR1</td>\n      <td>İstanbul</td>\n      <td>TR10</td>\n      <td>TR100</td>\n      <td>497651</td>\n    </tr>\n    <tr>\n      <th>İzmir alt bölgesi</th>\n      <td>MULTIPOLYGON (((26.43903 38.18764, 26.43931 38...</td>\n      <td>İzmir</td>\n      <td>TR3</td>\n      <td>Ege</td>\n      <td>TR31</td>\n      <td>TR310</td>\n      <td>119661</td>\n    </tr>\n    <tr>\n      <th>Şanlıurfa alt bölgesi</th>\n      <td>POLYGON ((39.88011 37.54991, 39.87976 37.54391...</td>\n      <td>Diyarbakır</td>\n      <td>TRC</td>\n      <td>Güneydoğu Anadolu</td>\n      <td>TRC2</td>\n      <td>TRC22</td>\n      <td>88833</td>\n    </tr>\n  </tbody>\n</table>\n</div>"
     },
     "execution_count": 30,
     "metadata": {},
     "output_type": "execute_result"
    }
   ],
   "source": [
    "f"
   ],
   "metadata": {
    "collapsed": false,
    "ExecuteTime": {
     "end_time": "2024-09-09T09:46:11.759172300Z",
     "start_time": "2024-09-09T09:46:10.976800600Z"
    }
   },
   "id": "9804674f6ab7639"
  },
  {
   "cell_type": "code",
   "execution_count": 31,
   "outputs": [
    {
     "data": {
      "text/plain": "(26, 7)"
     },
     "execution_count": 31,
     "metadata": {},
     "output_type": "execute_result"
    }
   ],
   "source": [
    "f.shape"
   ],
   "metadata": {
    "collapsed": false,
    "ExecuteTime": {
     "end_time": "2024-09-09T09:46:17.885629800Z",
     "start_time": "2024-09-09T09:46:17.854323900Z"
    }
   },
   "id": "d0811448d902d06f"
  },
  {
   "cell_type": "code",
   "execution_count": null,
   "outputs": [],
   "source": [],
   "metadata": {
    "collapsed": false
   },
   "id": "48e7b98772d63680"
  }
 ],
 "metadata": {
  "kernelspec": {
   "display_name": "Python 3",
   "language": "python",
   "name": "python3"
  },
  "language_info": {
   "codemirror_mode": {
    "name": "ipython",
    "version": 2
   },
   "file_extension": ".py",
   "mimetype": "text/x-python",
   "name": "python",
   "nbconvert_exporter": "python",
   "pygments_lexer": "ipython2",
   "version": "2.7.6"
  }
 },
 "nbformat": 4,
 "nbformat_minor": 5
}

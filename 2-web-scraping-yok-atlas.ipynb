{
 "cells": [
  {
   "cell_type": "code",
   "execution_count": 3,
   "outputs": [
    {
     "data": {
      "text/plain": "          province        lat        lon                   geometry\n0            Adana  36.984514  35.333683  POINT (35.33368 36.98451)\n1         Adıyaman  37.766009  38.276762  POINT (38.27676 37.76601)\n2   Afyonkarahisar  38.758118  30.536848  POINT (30.53685 38.75812)\n3             Ağrı  39.719443  43.050362  POINT (43.05036 39.71944)\n4          Aksaray  38.371343  34.027098   POINT (34.0271 38.37134)\n..             ...        ...        ...                        ...\n76            Uşak  38.670293  29.402251  POINT (29.40225 38.67029)\n77             Van  38.501637  43.395409  POINT (43.39541 38.50164)\n78          Yalova  40.655542  29.271081  POINT (29.27108 40.65554)\n79          Yozgat  39.823222  34.807623  POINT (34.80762 39.82322)\n80       Zonguldak  41.452032  31.781915  POINT (31.78192 41.45203)\n\n[81 rows x 4 columns]",
      "text/html": "<div>\n<style scoped>\n    .dataframe tbody tr th:only-of-type {\n        vertical-align: middle;\n    }\n\n    .dataframe tbody tr th {\n        vertical-align: top;\n    }\n\n    .dataframe thead th {\n        text-align: right;\n    }\n</style>\n<table border=\"1\" class=\"dataframe\">\n  <thead>\n    <tr style=\"text-align: right;\">\n      <th></th>\n      <th>province</th>\n      <th>lat</th>\n      <th>lon</th>\n      <th>geometry</th>\n    </tr>\n  </thead>\n  <tbody>\n    <tr>\n      <th>0</th>\n      <td>Adana</td>\n      <td>36.984514</td>\n      <td>35.333683</td>\n      <td>POINT (35.33368 36.98451)</td>\n    </tr>\n    <tr>\n      <th>1</th>\n      <td>Adıyaman</td>\n      <td>37.766009</td>\n      <td>38.276762</td>\n      <td>POINT (38.27676 37.76601)</td>\n    </tr>\n    <tr>\n      <th>2</th>\n      <td>Afyonkarahisar</td>\n      <td>38.758118</td>\n      <td>30.536848</td>\n      <td>POINT (30.53685 38.75812)</td>\n    </tr>\n    <tr>\n      <th>3</th>\n      <td>Ağrı</td>\n      <td>39.719443</td>\n      <td>43.050362</td>\n      <td>POINT (43.05036 39.71944)</td>\n    </tr>\n    <tr>\n      <th>4</th>\n      <td>Aksaray</td>\n      <td>38.371343</td>\n      <td>34.027098</td>\n      <td>POINT (34.0271 38.37134)</td>\n    </tr>\n    <tr>\n      <th>...</th>\n      <td>...</td>\n      <td>...</td>\n      <td>...</td>\n      <td>...</td>\n    </tr>\n    <tr>\n      <th>76</th>\n      <td>Uşak</td>\n      <td>38.670293</td>\n      <td>29.402251</td>\n      <td>POINT (29.40225 38.67029)</td>\n    </tr>\n    <tr>\n      <th>77</th>\n      <td>Van</td>\n      <td>38.501637</td>\n      <td>43.395409</td>\n      <td>POINT (43.39541 38.50164)</td>\n    </tr>\n    <tr>\n      <th>78</th>\n      <td>Yalova</td>\n      <td>40.655542</td>\n      <td>29.271081</td>\n      <td>POINT (29.27108 40.65554)</td>\n    </tr>\n    <tr>\n      <th>79</th>\n      <td>Yozgat</td>\n      <td>39.823222</td>\n      <td>34.807623</td>\n      <td>POINT (34.80762 39.82322)</td>\n    </tr>\n    <tr>\n      <th>80</th>\n      <td>Zonguldak</td>\n      <td>41.452032</td>\n      <td>31.781915</td>\n      <td>POINT (31.78192 41.45203)</td>\n    </tr>\n  </tbody>\n</table>\n<p>81 rows × 4 columns</p>\n</div>"
     },
     "execution_count": 3,
     "metadata": {},
     "output_type": "execute_result"
    }
   ],
   "source": [
    "import geopandas as gpd\n",
    "shapefile_path = \"data/turkey_province_centers.geojson\"\n",
    "gdf = gpd.read_file(shapefile_path, encoding='utf-8')\n",
    "gdf"
   ],
   "metadata": {
    "collapsed": false,
    "ExecuteTime": {
     "end_time": "2025-09-27T14:58:47.460537Z",
     "start_time": "2025-09-27T14:58:47.428849100Z"
    }
   },
   "id": "b47513f0dfe49273"
  },
  {
   "cell_type": "code",
   "execution_count": null,
   "id": "e65428a0-2f03-4887-b4f1-9fd524b0b995",
   "metadata": {
    "tags": []
   },
   "outputs": [],
   "source": [
    "from selenium import webdriver\n",
    "from selenium.webdriver.chrome.service import Service\n",
    "from selenium.webdriver.common.by import By\n",
    "from selenium.webdriver.support.ui import WebDriverWait\n",
    "from selenium.webdriver.support import expected_conditions as EC\n",
    "import pandas as pd\n",
    "import time\n",
    "import numpy as np\n",
    "from tqdm import tqdm\n",
    "import locale\n",
    "import re\n",
    "from PIL import Image \n",
    "\n",
    "locale.setlocale(locale.LC_ALL, 'tr_TR.utf8')\n",
    "driver = webdriver.Chrome(service=Service('chromedriver.exe'), options= webdriver.ChromeOptions())\n",
    "base_url = \"https://yokatlas.yok.gov.tr/lisans-univ.php?u=\""
   ]
  },
  {
   "cell_type": "markdown",
   "id": "f43588d1-03ef-4198-909c-de80d4946af8",
   "metadata": {},
   "source": [
    " In the previous notebook we have prepared a template df including university **uni_type**, **city**, **uni_name** and **uni_code**.<br>\n",
    "Firstly, we read this df which is ready to extend and sort index. In reading process we use columns as index."
   ]
  },
  {
   "cell_type": "code",
   "execution_count": null,
   "id": "1aecf422-4fa6-42aa-86f5-d232bcc7e63d",
   "metadata": {
    "scrolled": true,
    "tags": []
   },
   "outputs": [],
   "source": [
    "df = pd.read_csv(\"df_template.csv\",index_col=[0,1,2,3])\n",
    "df = df.sort_index(level=[0,1,2],key=lambda x: pd.Index([locale.strxfrm(e) for e in x] ))\n",
    "df.head(10)"
   ]
  },
  {
   "cell_type": "markdown",
   "id": "ca799719-a5fa-4761-b033-fed9062328ae",
   "metadata": {},
   "source": [
    "In this notebook we are going to:\n",
    "* extend df to include departments and their features.\n",
    "* fill the df with feature values."
   ]
  },
  {
   "cell_type": "markdown",
   "id": "c2fc6e9c-9374-4814-9a44-e939798d0a40",
   "metadata": {},
   "source": [
    "## 1- Add department names"
   ]
  },
  {
   "cell_type": "code",
   "execution_count": null,
   "id": "b4a74703-0099-48e3-9b68-09c30d9d4766",
   "metadata": {
    "tags": []
   },
   "outputs": [],
   "source": [
    "import time\n",
    "def get_department_names_codes(driver,base_url, city,uni_code):\n",
    "    uni_code_department_names_codes = set()  \n",
    "    driver.get(base_url + str(uni_code) )  \n",
    "   # time.sleep(.1)\n",
    "    while True:\n",
    "        try:\n",
    "            anchor_departments = WebDriverWait(driver, 10).until( EC.presence_of_all_elements_located((By.XPATH, \"//a[@data-parent='#']\")))\n",
    "            break\n",
    "        except:\n",
    "            driver.refresh()\n",
    "            pass\n",
    "   # anchor_departments =  driver.find_elements(by=By.XPATH, value=\"//a[@data-parent='#']\")\n",
    "    for anchor_department  in anchor_departments:\n",
    "        department_code = anchor_department.get_attribute(\"href\")[anchor_department.get_attribute(\"href\").index(\"=\")+1:]  \n",
    "        department_name = anchor_department.find_element(by=By.XPATH, value=\"div\").get_attribute(\"innerText\")\n",
    "        place_name = anchor_department.find_element(by=By.XPATH, value=\"small\").get_attribute(\"innerText\")[1:-1]# exclude parenthesis ( )      \n",
    "\n",
    "        # Exclude abroad programs \n",
    "        excluded_strings = [\"KKTC\", \"UOLP\"]\n",
    "        if all(exclude_str not in department_name for exclude_str in excluded_strings)  and \"KKTC\" not in place_name:\n",
    "            \n",
    "            if uni_code==1110: # We deal with Sağlık Bilimleri Üniversitesi seperately\n",
    "                other_cities = {\"Adana\",\"Erzurum\",\"Bursa\",\"Trabzon\",\"İzmir\",\"Kayseri\"}\n",
    "                # skip department name for İstanbul (do not add department for İstanbul, it belongs to another city)\n",
    "                if (city==\"Ankara\" and \"Ankara\" not in department_name) or (city!=\"Ankara\" and \"Ankara\" in department_name) or\\\n",
    "                    (city in other_cities and city not in place_name) or\\\n",
    "                   (city==\"İstanbul\" and (\"Ankara\" in department_name or other_cities.intersection( place_name.split() ) )  ):\n",
    "                    department_name = None \n",
    "                if department_name!=None and \"(\" in department_name:\n",
    "                        department_name = department_name[:department_name.index(\"(\")].strip()    \n",
    "            \n",
    "            if department_name!=None: \n",
    "                uni_code_department_names_codes.add((uni_code,department_name,department_code)) \n",
    "                \n",
    "    return uni_code_department_names_codes"
   ]
  },
  {
   "cell_type": "code",
   "execution_count": null,
   "id": "5245c407-60d7-44a2-aadc-22d11cddc1c7",
   "metadata": {},
   "outputs": [],
   "source": [
    "option = int(input(\"1-Use previously saved file\\n2-Scrape and save to df_template2.csv\\nSelect an option:\"))\n",
    "if option==1:\n",
    "    df=pd.read_csv(\"df_template2.csv\")\n",
    "    df.head(2)\n",
    "    df=df.set_index([\"city\",\"uni_name\",\"uni_code\",\"uni_type\",\"dep_name\",\"dep_code\"])\n",
    "else:\n",
    "    df_new = pd.DataFrame() \n",
    "    for _,city,_,uni_code in tqdm(df.index):\n",
    "        uni_code_department_names_codes = get_department_names_codes(driver,base_url,city, uni_code) \n",
    "        midx = pd.MultiIndex.from_tuples(uni_code_department_names_codes,names=[\"uni_code\",\"dep_name\",\"dep_code\"])\n",
    "       # midx = pd.MultiIndex.from_product([[uni_code],department_names,department_codes] ,names=[\"uni_code\",\"dep_name\",\"dep_code\"]) \n",
    "        df_temp = pd.DataFrame(index = midx)\n",
    "        df_new = pd.concat( (df_new,df.loc[pd.IndexSlice[:,city,:,uni_code],:].join(df_temp)) ) #.loc[pd.IndexSlice[:, :,uni_code,:],:]#data.loc[:, pd.IndexSlice[:, [\"a\", \"b\"]]]\n",
    "    \n",
    "    # rename df_new as df again and shift city to first index(first level will be city)\n",
    "    df = df_new.reorder_levels([1,2,3,0,4,5]) \n",
    "    df.reset_index().to_csv(\"df_template2.csv\",index = False)  \n",
    "    "
   ]
  },
  {
   "cell_type": "code",
   "execution_count": null,
   "id": "9221db95-e171-4a43-bb5b-452a06361764",
   "metadata": {},
   "outputs": [],
   "source": [
    "df.head(12)"
   ]
  },
  {
   "cell_type": "markdown",
   "id": "14a64b6f-f880-4b63-9563-42aaf490682a",
   "metadata": {},
   "source": [
    "* Sort according to city, uni_name and type"
   ]
  },
  {
   "cell_type": "code",
   "execution_count": null,
   "id": "238ff060-9acb-47a4-b0e0-3a9c5ad36404",
   "metadata": {},
   "outputs": [],
   "source": [
    "df = df.sort_index(level=[0,1,3],key=lambda x: pd.Index([locale.strxfrm(e)  for e in x] ))  # locale.strxfrm is to sort strings with Turkish chars\n",
    "df.head()"
   ]
  },
  {
   "cell_type": "markdown",
   "id": "5b78919c-2957-4912-935e-f7d88358cda1",
   "metadata": {},
   "source": [
    "## 2- Add features of departments (columns)"
   ]
  },
  {
   "cell_type": "markdown",
   "id": "04f6e92b-66fd-4456-b5e2-c78a29cc18c2",
   "metadata": {},
   "source": [
    "#### In this step we add  new columns for the features to be extracted"
   ]
  },
  {
   "cell_type": "code",
   "execution_count": null,
   "id": "060cb119-899e-4f77-ad75-4536bcf5af9b",
   "metadata": {},
   "outputs": [],
   "source": [
    "# We will add province names as new columns to represent number of students coming from other provinces\n",
    "provinces = sorted(df.index.get_level_values(0).unique().tolist(), key=lambda x:locale.strxfrm(x)  ) \n",
    "len(provinces)"
   ]
  },
  {
   "cell_type": "markdown",
   "id": "13c4b254-6723-4212-b8cf-463bee3e3911",
   "metadata": {},
   "source": [
    "## 2.1 Prepare *General* top level"
   ]
  },
  {
   "cell_type": "code",
   "execution_count": null,
   "id": "52fe6137-3cc4-44e1-9dd4-839e7449534b",
   "metadata": {},
   "outputs": [],
   "source": [
    "department_features = [\"quota\",\"placements\",\"not_registered\",\"registered\",\"top_order\",\"bottom_order\",\"min_score\",\"max_score\",\"faculty\",\"entrance_score_type\",\"scholarship\",\"language\"]\n",
    "df[department_features[:6]] = 0         # the first 6 columns are numeric(integers)\n",
    "df[department_features[6:8]] = 0.0       \n",
    "df[department_features[8:-1]] = None  # other columns are categorical\n",
    "df[department_features[-1]] = \"Türkçe\" # default education language is Turkish\n",
    "df.head()"
   ]
  },
  {
   "cell_type": "markdown",
   "id": "d7acbebc-0385-44de-b9d1-339fa9bd85e3",
   "metadata": {},
   "source": [
    "### Extract the language if  exists in department name\n",
    "In this step we :\n",
    "* remove some expressions like 'Açıköğretim' (open education) ,  'Uzaktan Öğretim' (distant education), 'İÖ' (evening education)\n",
    "      which will be extracted seperately and saved as features.\n",
    "* extract language feature if it exists inside parentheses and save it in the corresponding language column.\n",
    "\n",
    "As a result a department name  such as Psikoloji (İngilizce)  will be Psikoloji while language column will be \"İngilizce\"."
   ]
  },
  {
   "cell_type": "code",
   "execution_count": null,
   "id": "ea76d7e7-eff5-402e-bff6-6b1976fdf710",
   "metadata": {},
   "outputs": [],
   "source": [
    "print(\"Number of deparment names before extracting language and removing expressions in parantheses\",len(df.index.get_level_values(4).unique()))"
   ]
  },
  {
   "cell_type": "code",
   "execution_count": null,
   "id": "53cae7c4-2cc7-4fed-9e0b-dcdfd4a3d9a8",
   "metadata": {},
   "outputs": [],
   "source": [
    "pd.set_option('display.max_rows',None)\n",
    "pd.set_option('display.max_columns',None)\n",
    "\n",
    "languages_set= {'Almanca', 'Arapça', 'Bulgarca', 'Ermenice', 'Fransızca', 'Korece', 'Lehçe', 'Rusça',  'Çince', 'İngilizce','İspanyolca', 'İtalyanca'}\n",
    "pattern = r'\\((.*?)\\)'  # Matches text inside parentheses\n",
    "new_department_dict = {}\n",
    "\n",
    "df = df.reset_index().set_index(\"dep_code\") # temporarily reset index (only in the for below.We use unique dep_code for iteration for extracting languages)\n",
    "for dep_code in df.index: # for city, uni_name, uni_code, uni_type, dep_name, dep_code in df.index:\n",
    "    dep_name = df.loc[dep_code,\"dep_name\"]\n",
    " \n",
    "    parentheses_content = set(re.findall(pattern, dep_name ))\n",
    "    if parentheses_content:\n",
    "        if parentheses_content & languages_set:             # if the parantheses content is a language name\n",
    "            language, = parentheses_content & languages_set   # get language name from the resulting set with one element(language name)\n",
    "            df.loc[dep_code,\"language\"] = language # set the language value \n",
    "            #df.loc[pd.IndexSlice[:,:,:,:,:,dep_code],\"language\"] = language # set the language value \n",
    "            # remove  parentheses \n",
    "            df.loc[dep_code,\"dep_name\"] =  dep_name[:dep_name.index(\"(\")].strip()  #new_dep_name\n",
    "\n",
    "print(\"Number of deparment names after extracting parentheses_content(language education type):\",len(df[\"dep_name\"].unique()))"
   ]
  },
  {
   "cell_type": "markdown",
   "id": "af2580f1-13ac-4f1c-ac0d-90e218d25e68",
   "metadata": {},
   "source": [
    "Now we can see that department names do not contain education language. For instance \"Bilgisayar Mühendisliği (İngilizce)\" has become \"Bilgisayar Mühendisliği\"\n",
    "and its language feature is changed as \"İngilizce\"."
   ]
  },
  {
   "cell_type": "code",
   "execution_count": null,
   "id": "7f534a2e-d4d3-434e-a2af-dfd17a3b7d2b",
   "metadata": {},
   "outputs": [],
   "source": [
    "# Get the existing column names\n",
    "existing_columns = df.columns.tolist()\n",
    "#  Create the new MultiIndex dynamically\n",
    "#    Each existing column name will become a lower level under 'Bilgiler'\n",
    "new_multiindex_tuples = [('General', col) for col in existing_columns]\n",
    "\n",
    "new_columns = pd.MultiIndex.from_tuples(\n",
    "    new_multiindex_tuples,\n",
    "    #names=['lev1', 'lev2'] # Optionally name the levels\n",
    ")\n",
    "df.columns = new_columns\n",
    "df.head()"
   ]
  },
  {
   "cell_type": "markdown",
   "id": "9770db6a-6413-4790-81f3-7877eb64b45e",
   "metadata": {},
   "source": [
    "# 3- Helper Functions for Parsing Sections"
   ]
  },
  {
   "cell_type": "code",
   "execution_count": null,
   "id": "23c28e36-0b91-4481-b9a9-8eb97bc4d623",
   "metadata": {},
   "outputs": [],
   "source": [
    "def get_row_content(driver,searched_text,imp_wait_time = 1, add_strong=False):\n",
    "    # Find the td element within the row_element \n",
    "    strong=\"\"\n",
    "    if add_strong:\n",
    "        strong =\"/strong\"\n",
    "    x_path = f\"//tr[td{strong}[contains(text(),'{searched_text}')]]/td[last()]\" # Selecting the last td element  \n",
    "    td = WebDriverWait(driver, imp_wait_time).until( EC.presence_of_element_located((By.XPATH, x_path)) )  \n",
    "    return td.get_attribute(\"innerText\")"
   ]
  },
  {
   "cell_type": "code",
   "execution_count": null,
   "id": "518a9fa4-7fad-431a-8d2b-eb31958d2b98",
   "metadata": {},
   "outputs": [],
   "source": [
    "def close_pop_ups_js(driver,imp_wait_time):\n",
    "        driver.execute_script(\"\"\"\n",
    "            // Find all featherlight close buttons\n",
    "            const closeButtons = document.querySelectorAll('span.featherlight-close');\n",
    "            \n",
    "            // Close all popups from top to bottom\n",
    "            for (let i = closeButtons.length - 1; i >= 0; i--) {\n",
    "                // Click using native DOM method\n",
    "                closeButtons[i].click();\n",
    "            }\n",
    "            \n",
    "            // Alternative: Remove entire popup containers\n",
    "            document.querySelectorAll('.featherlight').forEach(popup => {\n",
    "                popup.style.display = 'none';\n",
    "                popup.remove();\n",
    "            });\n",
    "        \"\"\")\n",
    "        print(\"Executed JavaScript popup closure\")\n",
    "        \n",
    "        # Verify closure\n",
    "        WebDriverWait(driver, 5).until(\n",
    "            EC.invisibility_of_element_located((By.CSS_SELECTOR, \".featherlight\"))\n",
    "        )\n",
    "        print(\"Verified popup disappearance\")"
   ]
  },
  {
   "cell_type": "code",
   "execution_count": null,
   "id": "346c3ce2-bb29-4ab4-8ee6-03204b868009",
   "metadata": {
    "tags": []
   },
   "outputs": [],
   "source": [
    "def close_pop_ups(driver,imp_wait_time):\n",
    "    try:\n",
    "        print(\"imp_wait_time:\",imp_wait_time)\n",
    "       \n",
    "\n",
    "        pop_up_element_xpath = \"//span[@class='featherlight-close-icon featherlight-close']\"\n",
    "        WebDriverWait(driver,imp_wait_time).until( EC.presence_of_element_located((By.XPATH,pop_up_element_xpath) )  )\n",
    "        print(\"FOUND pop_up_element_xpath\") \n",
    "        close_pop_ups_js(driver,imp_wait_time)        \n",
    "\n",
    "        #pop_ups = driver.find_elements(by=By.XPATH, value=pop_up_element_xpath)        \n",
    "     #   print(\"LEN pop_ups:\",len(pop_ups))\n",
    "     #   for i in range(len(pop_ups)-1,-1,-1): \n",
    "            \n",
    "     #       driver.execute_script(\"arguments[0].click();\", pop_up)#pop_ups[i].click() \n",
    "\n",
    "     #       if pop_ups[i].is_displayed():\n",
    "     #               close_buttons[i].click()\n",
    "     #               time.sleep(0.5)  # Small delay to allow DOM to update\n",
    "    #        print(\"SLEEPING after clikc\")\n",
    "    #        time.sleep(3) \n",
    "             # Wait for either page refresh or pop-up disappearance\n",
    "    #        WebDriverWait(driver, imp_wait_time).until(\n",
    "     #           EC.any_of(\n",
    "     #               EC.staleness_of(pop_ups[i]),  # Page refreshed\n",
    "    #                EC.invisibility_of_element(pop_ups[i])  # Pop-up closed\n",
    "     #           )\n",
    "   #         )\n",
    "   #     print(\"Pop-up closed successfully\")\n",
    "\n",
    "         \n",
    "    except:\n",
    "        print(\"Pop-up close error\")\n",
    "        print(\"Refreshing page\")\n",
    "        driver.refresh()"
   ]
  },
  {
   "cell_type": "code",
   "execution_count": null,
   "id": "eae3078e-ab02-442f-9a41-fd4383d82248",
   "metadata": {},
   "outputs": [],
   "source": [
    "class elements_to_be_number_of: # class to set custom conditions for waiting (used in WebDriverWait(driver,imp_wait_time).until(...)   )\n",
    "    def __init__(self, locator, number):\n",
    "        self.locator = locator\n",
    "        self.number = number\n",
    "    def __call__(self, driver):\n",
    "        elements = driver.find_elements(*self.locator)\n",
    "        if len(elements) == self.number:\n",
    "            return elements\n",
    "        else:\n",
    "            return False"
   ]
  },
  {
   "cell_type": "markdown",
   "id": "fbf0dd09-21c8-4eef-a819-caadb396123a",
   "metadata": {},
   "source": [
    "**Decorator for scraping functions of tab contents.**"
   ]
  },
  {
   "cell_type": "code",
   "execution_count": null,
   "id": "5b22b6d5-131b-426b-8f53-9f28a63f0f3b",
   "metadata": {},
   "outputs": [],
   "source": [
    "def parse_number(s, int_type=False):\n",
    "    if s=='---'or s==\"--\" or s==\"-\":\n",
    "        return 0\n",
    "    # Replace comma with dot to standardize decimal point\n",
    "    s = s.strip()\n",
    "    s = s.replace(',',\".\")\n",
    "    if int_type:\n",
    "        s = s.replace('.',\"\")   \n",
    "    # Try converting to float first\n",
    "    try:\n",
    "        float_value = float(s)\n",
    "        \n",
    "        # If the float value is equivalent to an integer, return as int\n",
    "        if float_value.is_integer():\n",
    "            return int(float_value)\n",
    "        return float_value\n",
    "    except: # if s is not a number like(unknown) remain it\n",
    "        return s \n",
    "  #  except ValueError:\n",
    "  #      raise ValueError(f\"Cannot parse '{s}' as a number.\")"
   ]
  },
  {
   "cell_type": "code",
   "execution_count": null,
   "id": "e8832c97-eb2c-4449-b8c6-7db1bb2a9563",
   "metadata": {},
   "outputs": [],
   "source": [
    "from functools import wraps\n",
    "import time\n",
    "def get_section_content_decorator(func):\n",
    "        @wraps(func) \n",
    "        def wrapper(driver,dep_code,div_id,imp_wait_time,table_index=0,start_row=1,x_path_table=None,tr_eng_dict={}):#dep_code is used just for debugging in the except block\n",
    "            result=False\n",
    "    \n",
    "            while not result:\n",
    "                x_path_tab = f\"//a[@href='#c{div_id}']\" # find the tab  \n",
    "                x_path_table = f\"//div[@id='icerik_{div_id}']/table/tbody\" # find the table(s) \n",
    "                x_path_table = f\"//div[@id='icerik_{div_id}']//table[@class='table table-bordered']/tbody\"\n",
    "                try:                    \n",
    "                  #  panel_div = WebDriverWait(driver, imp_wait_time).until( EC.presence_of_element_located((By.XPATH, x_path_tab) )  )  \n",
    "                    #if  not panel_div or panel_div.get_attribute(\"aria-expanded\")!=\"true\":\n",
    "                   #     print(\"TRYING TO CLICK\")\n",
    "                    #    WebDriverWait(driver, imp_wait_time).until( EC.presence_of_element_located((By.XPATH, x_path_tab) )  ).click() #click the tab                       \n",
    "                   #     driver.implicitly_wait(5)\n",
    "                    # 4. Check if tab is already open using ARIA attribute\n",
    "                    x_path_tab = f\"//a[@href='#c{div_id}']\"                \n",
    "                    # 3. Wait for tab to be clickable\n",
    "                    tab_element = WebDriverWait(driver, imp_wait_time).until( EC.element_to_be_clickable((By.XPATH, x_path_tab)))\n",
    "                    if tab_element.get_attribute(\"aria-expanded\") != \"true\":\n",
    "                        print(\"Tab not open - clicking...\")\n",
    "                        \n",
    "                        # Scroll to element before clicking\n",
    "                        driver.execute_script(\"arguments[0].scrollIntoView({block: 'center'});\", tab_element)\n",
    "                        \n",
    "                        # Click using JavaScript to avoid interception\n",
    "                        driver.execute_script(\"arguments[0].click();\", tab_element)\n",
    "                        \n",
    "                        # Wait for content to appear\n",
    "                        content_div_id = f\"icerik_{div_id}\"\n",
    "                        WebDriverWait(driver, imp_wait_time).until(\n",
    "                            EC.visibility_of_element_located((By.ID, content_div_id))\n",
    "                        )\n",
    "                        print(\"Tab opened successfully\")\n",
    "                    extracted_data = func(driver,dep_code,div_id,imp_wait_time,table_index,start_row,x_path_table,tr_eng_dict)  \n",
    "                    result = True# len(extracted_data)>0 #if the dict is not empty, data has been parsed     \n",
    "    \n",
    "                except:            \n",
    "                    close_pop_ups(driver,imp_wait_time)            \n",
    "                if not result:\n",
    "                    print(f\"Failed to get content of the department {dep_code} in {func.__name__}\")\n",
    "                    driver.refresh()\n",
    "                    WebDriverWait(driver, 10).until(\n",
    "                        EC.presence_of_element_located((By.TAG_NAME, \"body\"))\n",
    "                    )                \n",
    "                    #result=True  # it is put temporarily to run 1 time only when error encountered\n",
    "               \n",
    "            return extracted_data\n",
    "        return wrapper"
   ]
  },
  {
   "cell_type": "code",
   "execution_count": null,
   "id": "9c192610-ed3c-465c-84fe-0f38f1ed1163",
   "metadata": {},
   "outputs": [],
   "source": [
    "@get_section_content_decorator\n",
    "def get_content_generic(driver,dep_code,div_id,imp_wait_time,table_index,start_row,x_path_table, tr_eng_dict={}):\n",
    "    WebDriverWait(driver, imp_wait_time).until( EC.presence_of_element_located((By.XPATH,x_path_table ) )  )\n",
    "    table = driver.find_elements(By.XPATH, x_path_table)[table_index]\n",
    "     # Get all td elements in the table\n",
    "    rows = table.find_elements(By.TAG_NAME, \"tr\")    # rows = table.find_elements(By.XPATH, './/tr')\n",
    "    extracted_data = {}\n",
    "    for row in (rows[start_row:]):# Skip until start row(e.g. first row gives toplam which means total)                 \n",
    "       # WebDriverWait(row, imp_wait_time).until(elements_to_be_number_of((By.XPATH, './td'), 3)) # wait until 3 cells located  \n",
    "        cells = row.find_elements(By.TAG_NAME,  'td')\n",
    "        try:\n",
    "            row_label = cells[0].text.strip()\n",
    "            if row_label !=\"YDT Yabancı Dil (80 soruda)\": #there are several foreign languages scores \n",
    "                if row_label==\"\":\n",
    "                    extracted_data[\"unknown\"]= parse_number(cells[1].text)     \n",
    "                else:\n",
    "                    extracted_data[tr_eng_dict.get(row_label,row_label)]= parse_number(cells[1].text)           \n",
    "        except:\n",
    "             extracted_data[tr_eng_dict.get(row_label,row_label)]= 0\n",
    "        \n",
    "    return extracted_data"
   ]
  },
  {
   "cell_type": "markdown",
   "id": "ec0acb45-e3bc-419a-8b2a-ad8222f0a299",
   "metadata": {},
   "source": [
    "### 3.1 General Information Section"
   ]
  },
  {
   "cell_type": "code",
   "execution_count": null,
   "id": "7ffc64bd-467f-4234-a11b-98c8b0e0f8c1",
   "metadata": {
    "tags": []
   },
   "outputs": [],
   "source": [
    "imp_wait_time= 10"
   ]
  },
  {
   "cell_type": "code",
   "execution_count": null,
   "id": "c802407a-f988-4596-978c-826cd861c043",
   "metadata": {},
   "outputs": [],
   "source": [
    "@get_section_content_decorator\n",
    "def get_general_info(driver,dep_code,div_id,imp_wait_time,table_index,start_row,x_path_table,tr_eng_dict):\n",
    "\n",
    "    extracted_data = {}\n",
    "    table= WebDriverWait(driver, imp_wait_time).until(elements_to_be_number_of((By.XPATH, x_path_table), 3)) # wait until 2 tables located  \n",
    "\n",
    "    extracted_data[\"quota\"] = int(get_row_content(driver,searched_text= \"Toplam Kontenjan\",add_strong = True) )   \n",
    "   \n",
    "    try:\n",
    "        extracted_data[\"placements\"] = parse_number( get_row_content(driver,searched_text= \"Toplam Yerleşen\",add_strong = True),int_type=True   )\n",
    "    except:\n",
    "        extracted_data[\"placements\"]  = 0 \n",
    "        return extracted_data\n",
    "    try:\n",
    "        extracted_data[\"not_registered\"] = int(get_row_content(driver,searched_text= \"Yerleşip Kayıt Yaptırmayan\")  )\n",
    "    except:\n",
    "        extracted_data[\"not_registered\"]  = 0\n",
    "        \n",
    "    try:\n",
    "        extracted_data[\"min_score\"] = parse_number( get_row_content(driver,searched_text=\"0,12 Katsayı ile Yerleşen Son Kişinin Puanı\"))\n",
    "    except:\n",
    "        extracted_data[\"min_score\"] = -1 # no one placed\n",
    "    \n",
    "    try:     \n",
    "        extracted_data[\"max_score\"] =parse_number(get_row_content(driver,searched_text=\"Tavan Puan(0,12)\"))\n",
    "    except:\n",
    "        extracted_data[\"max_score\"] = -1 # no one placed\n",
    "\n",
    "    try:\n",
    "        extracted_data[\"top_order\"] = parse_number(get_row_content(driver,searched_text=\"Tavan Başarı Sırası(0,12)\"),int_type=True)\n",
    "    except:\n",
    "        extracted_data[\"top_order\"] = 10**7  # no one placed\n",
    "    try:\n",
    "        extracted_data[\"bottom_order\"] = parse_number(get_row_content(driver,searched_text=\"0,12 Katsayı ile Yerleşen Son Kişinin Başarı Sırası\"),int_type=True)\n",
    "    except:\n",
    "        extracted_data[\"bottom_order\"] = 10**7  # no one placed\n",
    "        \n",
    "       \n",
    "    extracted_data[\"scholarship\"] = get_row_content(driver,searched_text= \"Burs Türü\") \n",
    "    extracted_data[\"faculty\"] = get_row_content(driver,searched_text= \"Fakülte\")\n",
    "    extracted_data[\"entrance_score_type\"] = get_row_content(driver,searched_text= \"Puan Türü\")\n",
    "    return extracted_data"
   ]
  },
  {
   "cell_type": "code",
   "execution_count": null,
   "id": "524c8b9e-809b-4e3c-8c2a-a7e0c410a10e",
   "metadata": {},
   "outputs": [],
   "source": [
    "# Test cell for get_gender_distribution\n",
    "driver.get(\"https://yokatlas.yok.gov.tr/lisans.php?y=101110227\")\n",
    "get_general_info(driver,101110227 , \"1000_1\",imp_wait_time)"
   ]
  },
  {
   "cell_type": "markdown",
   "id": "494deb9b-8f6d-4d8d-ab49-e4b58b4b4531",
   "metadata": {},
   "source": [
    "### 3.2 Gender Distribution"
   ]
  },
  {
   "cell_type": "code",
   "execution_count": null,
   "id": "e5359446-566b-498e-bcf6-8e56092bc6ee",
   "metadata": {},
   "outputs": [],
   "source": [
    "Image.open(\"images/gender_distribution.jpg\")"
   ]
  },
  {
   "cell_type": "code",
   "execution_count": null,
   "id": "8256f085-f34b-41a8-ab65-eb415fef22f0",
   "metadata": {},
   "outputs": [],
   "source": [
    "tr_eng_dict_3_2={'Kız': \"num_female\", 'Erkek': \"num_male\",\"Belli değil\":\"unknown\"}"
   ]
  },
  {
   "cell_type": "code",
   "execution_count": null,
   "id": "0a06e43d-e729-4db6-a3e7-e3c12c7982d0",
   "metadata": {},
   "outputs": [],
   "source": [
    "new_multiindex_tuples = [('Gender', col) for col in tr_eng_dict_3_2.values()]\n",
    "new_data = pd.DataFrame(\n",
    "    np.zeros((len(df), len(tr_eng_dict_3_2)) ),  # Fill with zeros (or your desired values)\n",
    "    columns=new_multiindex_tuples,\n",
    "    index=df.index,\n",
    "    dtype=int  # Force integer data type\n",
    ")\n",
    "df = pd.concat([df, new_data], axis=1)\n",
    "df.head(3)"
   ]
  },
  {
   "cell_type": "code",
   "execution_count": null,
   "id": "d92da93c-2f69-465c-90fa-33e32ef12724",
   "metadata": {},
   "outputs": [],
   "source": [
    "# Test cell for get_gender_distribution\n",
    "driver.get(\"https://yokatlas.yok.gov.tr/lisans.php?y=101110227\")\n",
    "get_content_generic(driver,101110227 ,div_id= \"1010\",imp_wait_time=imp_wait_time,start_row=0,tr_eng_dict=tr_eng_dict_3_2)"
   ]
  },
  {
   "cell_type": "markdown",
   "id": "6396ba15-0394-4956-a003-f5ee3d93c6a7",
   "metadata": {},
   "source": [
    "### 3.3 Get Geographical Regions"
   ]
  },
  {
   "cell_type": "code",
   "execution_count": null,
   "id": "c92f1d6e-a98b-4e79-a612-bfd660b5f454",
   "metadata": {},
   "outputs": [],
   "source": [
    "@get_section_content_decorator\n",
    "def get_geographical_regions(driver,dep_code,div_id,imp_wait_time,table_index,start_row,x_path_table,tr_eng_dict={}):\n",
    "    extracted_data = {}\n",
    "    tur2eng_city={\"Aynı Şehir\":\"Same province\",\"Farklı Şehir\":\"Different province\",\"Belli Değil\":\"Unknown province\"}\n",
    "    tur2eng_region = {\"Akdeniz\":\"Mediterrenian\",\"Doğu Anadolu\":\"Eastern Anatolia\",\"Ege\":\"Aegean\",\"Güneydoğu Anadolu\":\"Southeastern Anatolia\",\"İç Anadolu\":\"Central Anatolia\",\n",
    "                     \"Karadeniz\":\"Black Sea\",\"Marmara\":\"Marmara\",\"Belirsiz\":\"Unknown region\"}\n",
    "    \n",
    "    tables= WebDriverWait(driver, imp_wait_time).until(elements_to_be_number_of((By.XPATH, x_path_table), 2)) # wait until 2 tables located  \n",
    "    rows = tables[0].find_elements(By.TAG_NAME, \"tr\")\n",
    "\n",
    "    # parsing first table contents \n",
    "    for row in rows[0:]:\n",
    "        WebDriverWait(row, imp_wait_time).until(elements_to_be_number_of((By.XPATH, './td'), 4)) # wait until 2 cells located  \n",
    "        cells = row.find_elements(By.XPATH,  './td')\n",
    "        # Use regular expression to find all sequences of digits like \"60 Erkek/17 Kız\"\n",
    "        numbers = re.findall(r'(\\d[\\d.]*\\d|\\d)', cells[-1].text)   \n",
    "        numbers = list(map(lambda x: parse_number(x,int_type=True) , numbers))\n",
    "        # Convert the list of strings to a list of integers\n",
    "        num_male, num_female  = list(map(int, numbers))\n",
    "        print(\"NUMS:\",numbers)\n",
    "\n",
    "        text_in_the_cell = cells[0].text.strip()\n",
    "        extracted_data[tur2eng_city.get(text_in_the_cell,text_in_the_cell)+\"-male\" ] = num_male\n",
    "        extracted_data[tur2eng_city.get(text_in_the_cell,text_in_the_cell)+\"-female\"] = num_female\n",
    "        extracted_data[tur2eng_city.get(text_in_the_cell,text_in_the_cell)] = num_male+num_female \n",
    "\n",
    "    # parsing second table contents\n",
    "    rows = tables[1].find_elements(By.TAG_NAME, \"tr\")\n",
    "    for row in rows[1:]:# Skip first row(toplam which means total)\n",
    "          WebDriverWait(row, imp_wait_time).until(elements_to_be_number_of((By.XPATH, './td'), 3)) # wait until 3 cells located  \n",
    "          cells = row.find_elements(By.XPATH,  './td')  \n",
    "          text_in_the_cell = cells[0].text.strip()\n",
    "          extracted_data[tur2eng_region.get(text_in_the_cell,text_in_the_cell)] = int(cells[1].text)\n",
    "    \n",
    "    return extracted_data"
   ]
  },
  {
   "cell_type": "markdown",
   "id": "533dfa6e-4401-4807-8756-77868572d358",
   "metadata": {},
   "source": [
    "### Prepare *Regions* top level"
   ]
  },
  {
   "cell_type": "code",
   "execution_count": null,
   "id": "b59351a2-ee16-49e5-a7e6-86bb79f2dd39",
   "metadata": {},
   "outputs": [],
   "source": [
    "tur2eng_city={\"Aynı Şehir\":\"Same province\",\"Farklı Şehir\":\"Different province\",\"Belli Değil\":\"Unknown province\"}\n",
    "tur2eng_region = {\"Akdeniz\":\"Mediterrenian\",\"Doğu Anadolu\":\"Eastern Anatolia\",\"Ege\":\"Aegean\",\"Güneydoğu Anadolu\":\"Southeastern Anatolia\",\"İç Anadolu\":\"Central Anatolia\",\n",
    "                     \"Karadeniz\":\"Black Sea\",\"Marmara\":\"Marmara\",\"Belirsiz\":\"Unknown region\"}\n",
    "new_multiindex_tuples = [('Regions', col) for col in list(tur2eng_city.values())+list(tur2eng_region.values())]\n",
    "new_data = pd.DataFrame(\n",
    "    np.zeros((len(df), len(tur2eng_city) + len(tur2eng_region)) ),  # Fill with zeros (or your desired values)\n",
    "    columns=new_multiindex_tuples,\n",
    "    index=df.index,\n",
    "    dtype=int  # Force integer data type\n",
    ")\n",
    "df = pd.concat([df, new_data], axis=1)\n",
    "df.head(3)"
   ]
  },
  {
   "cell_type": "code",
   "execution_count": null,
   "id": "e1982a2b-6e3e-4d38-ba27-e8cd58217981",
   "metadata": {},
   "outputs": [],
   "source": [
    "# Test cell for get_cell_geographical_regions\n",
    "driver.get(\"https://yokatlas.yok.gov.tr/lisans.php?y=101490621\")\n",
    "get_geographical_regions(driver,101110227 ,div_id= \"1020ab\",imp_wait_time=15)"
   ]
  },
  {
   "cell_type": "markdown",
   "id": "4572f519-6122-49a9-baa5-ef3d2546d4a8",
   "metadata": {},
   "source": [
    "### 3.4 Get Provinces Where Students Come From (Yerleşenlerin Geldikleri İller)"
   ]
  },
  {
   "cell_type": "code",
   "execution_count": null,
   "id": "b0be708f-971e-4f02-ab50-6065194abb27",
   "metadata": {},
   "outputs": [],
   "source": [
    "Image.open(\"images/cities.jpg\")"
   ]
  },
  {
   "cell_type": "markdown",
   "id": "e9b38d4b-bb43-4172-a916-1cd953785a5e",
   "metadata": {},
   "source": [
    "### Prepare *Provinces* top level"
   ]
  },
  {
   "cell_type": "code",
   "execution_count": null,
   "id": "a4097751-69a5-496d-b907-2acc8c172a1c",
   "metadata": {},
   "outputs": [],
   "source": [
    "new_multiindex_tuples = [('Provinces', col) for col in provinces]+[('Provinces',\"Unknown\"),('Provinces',\"Total\")]\n",
    "new_data = pd.DataFrame(\n",
    "    np.zeros((len(df), len(new_multiindex_tuples))),  # Fill with zeros (or your desired values)\n",
    "    columns=new_multiindex_tuples,\n",
    "    index=df.index,\n",
    "    dtype=int  # Force integer data type\n",
    ")\n",
    "df = pd.concat([df, new_data], axis=1)\n",
    "df.head(3)"
   ]
  },
  {
   "cell_type": "code",
   "execution_count": null,
   "id": "a74aff93-ccf5-4223-9ade-3d333f3d30e6",
   "metadata": {},
   "outputs": [],
   "source": [
    "df[\"Provinces\"].head()"
   ]
  },
  {
   "cell_type": "markdown",
   "id": "79bf8399-fb88-45db-9a5a-2c2aefc90f9e",
   "metadata": {},
   "source": [
    "We have single table and we obtain the first column. Therefore we can use **get_content_generic** function."
   ]
  },
  {
   "cell_type": "code",
   "execution_count": null,
   "id": "620ac65d-f4b9-47dc-9ced-d3add5dd4daa",
   "metadata": {},
   "outputs": [],
   "source": [
    "# Test cell for cities\n",
    "driver.get(\"https://yokatlas.yok.gov.tr/lisans.php?y=101110227\")\n",
    "get_content_generic(driver,106510077 ,\"1020c\",imp_wait_time=imp_wait_time,tr_eng_dict={\"Belirsiz\":\"Unknown\",\"Toplam\":\"Total\"})"
   ]
  },
  {
   "cell_type": "markdown",
   "id": "8366685b-df93-4edf-ac68-17c724ee7602",
   "metadata": {},
   "source": [
    "## 3.5 Educational Status"
   ]
  },
  {
   "cell_type": "code",
   "execution_count": null,
   "id": "b24d0510-e937-4dac-acc3-e78218f3bf61",
   "metadata": {
    "scrolled": true
   },
   "outputs": [],
   "source": [
    "Image.open(\"images/educational_status.jpg\")"
   ]
  },
  {
   "cell_type": "code",
   "execution_count": null,
   "id": "8f7d27bd-3383-4cd5-a110-20b8e55821d5",
   "metadata": {},
   "outputs": [],
   "source": [
    "tr_eng_dict_3_5={'Liseden yeni mezun, YKS ye ilk defa girdi': \"New Graduate-First Entrance\",\n",
    " 'Liseden mezun, daha önce hiç üniversiteye yerleşmemişti': \"Graduate-Not Placed Previously\",\n",
    " 'Üniversitede öğrenci iken sınava girip buraya yerleşti':\"Uni. Student\",\n",
    " 'Bir üniversiteden daha önce mezun olmuş': \"University Graduate\",\n",
    " 'Diğer': \"Other\"}"
   ]
  },
  {
   "cell_type": "markdown",
   "id": "584af501-e835-466e-bdd2-28b0dfd6794b",
   "metadata": {},
   "source": [
    "### Prepare *Education Status* top level"
   ]
  },
  {
   "cell_type": "code",
   "execution_count": null,
   "id": "565a3b6b-f5ce-4066-a439-deb267165e23",
   "metadata": {},
   "outputs": [],
   "source": [
    "new_multiindex_tuples = [('Education Status', col) for col in tr_eng_dict_3_5.values()]\n",
    "new_data = pd.DataFrame(\n",
    "    np.zeros((len(df), len(new_multiindex_tuples))),  # Fill with zeros (or your desired values)\n",
    "    columns=new_multiindex_tuples,\n",
    "    index=df.index,\n",
    "    dtype=int  # Force integer data type\n",
    ")\n",
    "df = pd.concat([df, new_data], axis=1)\n",
    "df.head(3)"
   ]
  },
  {
   "cell_type": "markdown",
   "id": "6ea54245-80ed-41ae-a426-5f04f7b644da",
   "metadata": {},
   "source": [
    "We have single table and we obtain the first column. Therefore we can use **get_content_generic** function."
   ]
  },
  {
   "cell_type": "code",
   "execution_count": null,
   "id": "3599170a-36e2-4101-b156-532560470edd",
   "metadata": {},
   "outputs": [],
   "source": [
    "# Test cell for educational status\n",
    "driver.get(\"https://yokatlas.yok.gov.tr/lisans.php?y=101110227\")\n",
    "get_content_generic(driver,106510077 ,\"1030a\",imp_wait_time=10,tr_eng_dict=tr_eng_dict_3_5)"
   ]
  },
  {
   "cell_type": "markdown",
   "id": "aca54c4a-af83-4b45-9d51-94a4d035273a",
   "metadata": {},
   "source": [
    "### 3.6 Graduation Years"
   ]
  },
  {
   "cell_type": "code",
   "execution_count": null,
   "id": "480e847e-0327-4252-9d85-cfa1f4899174",
   "metadata": {},
   "outputs": [],
   "source": [
    "Image.open(\"images/graduation_years.jpg\")"
   ]
  },
  {
   "cell_type": "markdown",
   "id": "1b019373-b1bd-4ad0-89f6-8ab5f5ac67b2",
   "metadata": {},
   "source": [
    "### Prepare *Graduation Years* top level"
   ]
  },
  {
   "cell_type": "code",
   "execution_count": null,
   "id": "2fff1082-f17e-452f-b717-d05663b36187",
   "metadata": {},
   "outputs": [],
   "source": [
    "tr_eng_dict_3_6 = { str(i):i for i in range(1960,2027)}\n",
    "tr_eng_dict_3_6[\"Bilinmiyor\"]=\"unknown\""
   ]
  },
  {
   "cell_type": "code",
   "execution_count": null,
   "id": "fe24e062-c36b-4e07-9cad-e32e425aaafc",
   "metadata": {},
   "outputs": [],
   "source": [
    "new_multiindex_tuples = [('Graduation Years', year) for year in tr_eng_dict_3_6.values()]+ [('Graduation Years', \"unknown\") ]\n",
    "new_data = pd.DataFrame(\n",
    "    np.zeros((len(df), len(new_multiindex_tuples))),  # Fill with zeros (or your desired values)\n",
    "    columns=new_multiindex_tuples,\n",
    "    index=df.index,\n",
    "    dtype=int  # Force integer data type\n",
    ")\n",
    "df = pd.concat([df, new_data], axis=1)\n",
    "df.head(3)"
   ]
  },
  {
   "cell_type": "markdown",
   "id": "8a759056-ba07-4e5c-890b-5c0f8e46f445",
   "metadata": {},
   "source": [
    "We have single table and we obtain the first column. Therefore we can use **get_content_generic** function."
   ]
  },
  {
   "cell_type": "code",
   "execution_count": null,
   "id": "dadc0cdd-5252-4e68-9b83-693a91053e94",
   "metadata": {
    "scrolled": true
   },
   "outputs": [],
   "source": [
    "# Test cell for graduation years\n",
    "driver.get(\"https://yokatlas.yok.gov.tr/lisans.php?y=101110227\")\n",
    "get_content_generic(driver,106510077 ,\"1030b\",imp_wait_time=10,tr_eng_dict= tr_eng_dict_3_6)# dictionary converts strings to integers (except unknown)"
   ]
  },
  {
   "cell_type": "markdown",
   "id": "3107084e-a509-4582-9fce-a4954813beff",
   "metadata": {},
   "source": [
    "### 3.7 Average scores per course"
   ]
  },
  {
   "cell_type": "code",
   "execution_count": null,
   "id": "a8039afb-1bf7-4a42-81ab-52b0952cab1b",
   "metadata": {},
   "outputs": [],
   "source": [
    "# Test cell for average scores per course\n",
    "tr_eng_dict_3_7={\"TYT Temel Matematik (40 soruda)\":\"TYT Math (out of 40)\",\n",
    "             'TYT Fen Bilimleri (20 soruda)':\"TYT Science (out of 20)\",\n",
    "             'TYT Türkçe (40 soruda)':\"TYT Turkish (out of 40)\",\n",
    "             'TYT Sosyal Bilimler (20 soruda)':\"TYT Social Sciences (out of 20)\",\n",
    "             'YDT Yabancı Dil (80 soruda)':\"Foreign Language (out of 80)\",\n",
    "             'AYT Matematik (40 soruda)': \"AYT Math (out of 40)\", \n",
    "             'AYT Fizik (14 soruda)': \"AYT Physics (out of 14)\",\n",
    "             'AYT Kimya (13 soruda)': \"AYT Chemistry (out of 13)\", \n",
    "             'AYT Biyoloji (13 soruda)': \"AYT Biology (out of 13)\"\n",
    "              }"
   ]
  },
  {
   "cell_type": "markdown",
   "id": "00287e13-311f-4e11-86d0-f90f8379c8df",
   "metadata": {},
   "source": [
    "### Prepare *Average Scores* top level"
   ]
  },
  {
   "cell_type": "code",
   "execution_count": null,
   "id": "a9b65a12-f9d8-4003-9a6b-7f88321ce782",
   "metadata": {},
   "outputs": [],
   "source": [
    "new_multiindex_tuples = [('Average Scores', col_name) for col_name in tr_eng_dict_3_7.values()]\n",
    "new_data = pd.DataFrame(\n",
    "    np.zeros((len(df), len(tr_eng_dict_3_7))),  # Fill with zeros (or your desired values)\n",
    "    columns=new_multiindex_tuples,\n",
    "    index=df.index,\n",
    "    dtype=int  # Force integer data type\n",
    ")\n",
    "df = pd.concat([df, new_data], axis=1)\n",
    "df.head(3)"
   ]
  },
  {
   "cell_type": "code",
   "execution_count": null,
   "id": "70be8115-1108-4be1-9ce0-d91fd2a59e53",
   "metadata": {},
   "outputs": [],
   "source": [
    "# Test\n",
    "driver.get(\"https://yokatlas.yok.gov.tr/lisans.php?y=101110227\")\n",
    "get_content_generic(driver,106510077 ,\"1210a\",imp_wait_time=10,start_row = 2,tr_eng_dict=tr_eng_dict_3_7)"
   ]
  },
  {
   "cell_type": "markdown",
   "id": "4e3d617a-6ed1-4095-811c-6158c1656f94",
   "metadata": {},
   "source": [
    "### 3.8 Countrywide number of preferences according to preference order (Ülke Genelinde Tercih Edilme istatistikleri)"
   ]
  },
  {
   "cell_type": "code",
   "execution_count": null,
   "id": "b8a2d24e-b950-4d5a-b922-d15c9742d82f",
   "metadata": {},
   "outputs": [],
   "source": [
    "# Test cell for countrywide number of preferences (which has 2 tables)\n",
    "driver.get(\"https://yokatlas.yok.gov.tr/lisans.php?y=101110227\")\n",
    "tr_eng_dict_3_8_1={'Toplamda Tercih Eden Aday Sayısı':\"Total Number of Preferred Candidates\",  'Bir Kontenjana Talip Olan Aday Sayısı':\"Number of Candidates Applying for a Quota\",\n",
    "                   'Ortalama Tercih Edilme Sırası':'Average Preference Rank','Birinci Sırada Tercih Eden Sayısı':\"Number of First-Rank Preferences\",\n",
    "                   'İlk Üç Sırada Tercih Eden Sayısı':'Number of Candidates Preferred in the First Three Ranks',\n",
    "                   'İlk Dokuz Sırada Tercih Eden Sayısı':'Number of Candidates Preferred in the First Nine Ranks'}\n",
    "tr_eng_dict_3_8_2={'10 ve Sonrası':'10 and After'}"
   ]
  },
  {
   "cell_type": "markdown",
   "id": "ad880a1d-6a35-4fbf-a6c4-49e6be71f64f",
   "metadata": {},
   "source": [
    "### Prepare *Average Scores* top level"
   ]
  },
  {
   "cell_type": "code",
   "execution_count": null,
   "id": "aafd23a1-6673-4e9b-971a-4213319cefc9",
   "metadata": {},
   "outputs": [],
   "source": [
    "new_multiindex_tuples = [('Preferences', col_name) for col_name in list(tr_eng_dict_3_8_1.values())  +  list(tr_eng_dict_3_8_2.values())  ]\n",
    "new_data = pd.DataFrame(\n",
    "    np.zeros((len(df), len(new_multiindex_tuples))  ),  # Fill with zeros (or your desired values)\n",
    "    columns=new_multiindex_tuples,\n",
    "    index=df.index,\n",
    "    dtype=int  # Force integer data type\n",
    ")\n",
    "df = pd.concat([df, new_data], axis=1)\n",
    "df.head(3)"
   ]
  },
  {
   "cell_type": "code",
   "execution_count": null,
   "id": "03189195-9c5b-42f9-a03a-f1d6a101a9a1",
   "metadata": {},
   "outputs": [],
   "source": [
    "#Test\n",
    "print(\"Table 1 content:\",get_content_generic(driver,106510077 ,\"1080\",imp_wait_time=10,table_index=0,start_row=0,tr_eng_dict=tr_eng_dict_3_8_1))\n",
    "print(\"Table 2 content\",get_content_generic(driver,106510077 ,\"1080\",imp_wait_time=10,table_index=1,start_row=0,tr_eng_dict=tr_eng_dict_3_8_2))"
   ]
  },
  {
   "cell_type": "markdown",
   "id": "7e2758f4-ef88-4ae2-8333-ebac13224c2d",
   "metadata": {},
   "source": [
    "### 3.9 Number of preference order of the placed students (Yerleşenler Ortalama Kaçıncı Tercihlerine Yerleşti?)"
   ]
  },
  {
   "cell_type": "code",
   "execution_count": null,
   "id": "1a8e941c-66e4-4df8-a54e-850db012349a",
   "metadata": {},
   "outputs": [],
   "source": [
    "# Test cell for countrywide number of preferences (which has 3 tables)\n",
    "driver.get(\"https://yokatlas.yok.gov.tr/lisans.php?y=101110227\")\n",
    "tr_eng_dict_3_9={'Birinci Tercih Olarak Yerleşen Sayısı': \"Number of Placed in First Preference\", 'İlk Üç Tercih Olarak Yerleşen Sayısı': \"Number of Placed in First Three Preferences\", \n",
    "                 'İlk On Tercih Olarak Yerleşen Sayısı': \"Number of Placed in First Ten Preferences\",  'Yerleşenler Ortalama Kaçıncı Tercihinde Yerleşti': \"Average Preference Order\"}"
   ]
  },
  {
   "cell_type": "markdown",
   "id": "fd5686c2-51b9-4590-980c-4659b56703eb",
   "metadata": {},
   "source": [
    "### Prepare *Preferences of Placed Students* top level"
   ]
  },
  {
   "cell_type": "code",
   "execution_count": null,
   "id": "be60652a-3fd1-4489-885c-a6c2338b113f",
   "metadata": {},
   "outputs": [],
   "source": [
    "col_names =  list(tr_eng_dict_3_9.values())+list(range(1,25))\n",
    "new_multiindex_tuples = [('Preferences of Placed Students', col_name) for col_name in col_names ]\n",
    "new_data = pd.DataFrame(\n",
    "    np.zeros((len(df), len(col_names)) ),  # Fill with zeros (or your desired values)\n",
    "    columns=new_multiindex_tuples,\n",
    "    index=df.index,\n",
    "    dtype=int  # Force integer data type\n",
    ")\n",
    "df = pd.concat([df, new_data], axis=1)\n",
    "df.head(3)"
   ]
  },
  {
   "cell_type": "code",
   "execution_count": null,
   "id": "4c98a547-fa88-4a3d-af17-20b5b78f4872",
   "metadata": {},
   "outputs": [],
   "source": [
    "#Test\n",
    "print(\"Table 1 content:\",get_content_generic(driver,106510077 ,\"1040\",imp_wait_time=10,table_index=0,tr_eng_dict=tr_eng_dict_3_9 ))\n",
    "print(\"Table 2 content:\",get_content_generic(driver,106510077 ,\"1040\",imp_wait_time=10,table_index=1,start_row=0 ))\n",
    "print(\"Table 3 content:\",get_content_generic(driver,106510077 ,\"1040\",imp_wait_time=10,table_index=2,start_row=0 ))"
   ]
  },
  {
   "cell_type": "markdown",
   "id": "7511b6bf-45e4-46b2-8921-74d96267185a",
   "metadata": {},
   "source": [
    "### 3.10 Preference Tendencies of the Places Students - Universities  # Yerleşenlerin Tercih Eğilimleri - Üniversiteler"
   ]
  },
  {
   "cell_type": "code",
   "execution_count": null,
   "id": "ea7619dc-dad2-43bc-88e6-854f88b61c3b",
   "metadata": {},
   "outputs": [],
   "source": [
    "# Test cell for Preference Tendencies of The Places Students (which has 2 tables)\n",
    "driver.get(\"https://yokatlas.yok.gov.tr/lisans.php?y=106510077\")\n",
    "print(\"Table 1 content:\",get_content_generic(driver,106510077 ,\"1320\",imp_wait_time=10,table_index=0 ))\n",
    "print(\"Table 2 content:\",get_content_generic(driver,106510077 ,\"1320\",imp_wait_time=10,table_index=1,start_row=0 ))"
   ]
  },
  {
   "cell_type": "code",
   "execution_count": null,
   "id": "2f5d2d1e-c4f8-4d81-a075-70c4c270b23f",
   "metadata": {},
   "outputs": [],
   "source": [
    "### Prepare *Preferences of Placed Students* top level"
   ]
  },
  {
   "cell_type": "markdown",
   "id": "e3a730af-b685-4ff4-bf25-3b604625857f",
   "metadata": {},
   "source": [
    "### 3.11 Preference Tendencies of The Places Students - Provinces (Yerleşenlerin Tercih Eğilimleri - İller)"
   ]
  },
  {
   "cell_type": "code",
   "execution_count": null,
   "id": "eb83b713-69bc-483c-8f72-7869885f5f49",
   "metadata": {},
   "outputs": [],
   "source": [
    "df.head()"
   ]
  },
  {
   "cell_type": "markdown",
   "id": "77153b39-69d1-4d79-bb20-f533676d7b64",
   "metadata": {},
   "source": [
    "# 4-COMBINE ALL STEPS USING HELPER FUNCTIONS"
   ]
  },
  {
   "cell_type": "code",
   "execution_count": null,
   "id": "250e7048-f53a-4161-8707-3227d6e22d9f",
   "metadata": {},
   "outputs": [],
   "source": [
    "def add_values_to_df(df,dep_code, level_1_column,extracted_data):\n",
    "    print(extracted_data)\n",
    "    for col, val in extracted_data.items():\n",
    "        #if col in df.columns:\n",
    "            df.loc[dep_code,(level_1_column,col)] = val\n",
    "def fill_features(driver, df, dep_code, sleep_time=2, base_dep_url=\"https://yokatlas.yok.gov.tr/lisans.php?y=\"):    \n",
    "    driver.implicitly_wait(imp_wait_time)\n",
    "    driver.get(base_dep_url + str(dep_code) )\n",
    "    #  time.sleep(sleep_time)  \n",
    "    driver.implicitly_wait(imp_wait_time)\n",
    "    close_pop_ups(driver,imp_wait_time)   # close pop-ups\n",
    "    #extracted_data = get_general_info(driver,dep_code) \n",
    "   # print(extracted_data)\n",
    "    general_info = get_general_info(driver,dep_code,\"1000_1\",imp_wait_time)\n",
    "\n",
    "    if general_info[\"placements\"] != 0 :\n",
    "        add_values_to_df(df,dep_code, \"General\",  general_info)                                                                # section 3.1 \n",
    "        add_values_to_df(df,dep_code, \"Gender\", get_content_generic(driver,dep_code ,div_id= \"1010\",imp_wait_time=imp_wait_time,start_row=0,tr_eng_dict=tr_eng_dict_3_2) ) # section 3.2 Gender\n",
    "        add_values_to_df(df,dep_code, \"Regions\", get_geographical_regions(driver,dep_code ,div_id= \"1020ab\",imp_wait_time=15)   )                                           # section 3.3 Regions\n",
    "        add_values_to_df(df,dep_code, \"Provinces\", get_content_generic(driver,dep_code ,\"1020c\",imp_wait_time=imp_wait_time))                                               # section 3.4 Provinces\n",
    "        add_values_to_df(df,dep_code, \"Education Status\", get_content_generic(driver,dep_code ,\"1030a\",imp_wait_time=10,tr_eng_dict=tr_eng_dict_3_5) )                      # section 3.5 Education Status\n",
    "        add_values_to_df(df,dep_code, \"Graduation Years\",get_content_generic(driver,dep_code ,\"1030b\",imp_wait_time=10,tr_eng_dict=tr_eng_dict_3_6) )                                                   # section 3.6 Graduation Years\n",
    "        add_values_to_df(df,dep_code, \"Average Scores\",get_content_generic(driver,dep_code ,\"1210a\",imp_wait_time=10,start_row = 2,tr_eng_dict=tr_eng_dict_3_7) )           # section 3.7    Average scores per course\n",
    "        add_values_to_df(df,dep_code, \"Preferences\",get_content_generic(driver,dep_code ,\"1080\",imp_wait_time=10,table_index=0,start_row=0,tr_eng_dict=tr_eng_dict_3_8_1))  # section 3.8.1\n",
    "        add_values_to_df(df,dep_code, \"Preferences\",get_content_generic(driver,dep_code ,\"1080\",imp_wait_time=10,table_index=1,start_row=0,tr_eng_dict=tr_eng_dict_3_8_2))  # section 3.8.2\n",
    "        add_values_to_df(df,dep_code, \"Preferences of Placed Students\",  get_content_generic(driver,dep_code ,\"1040\",imp_wait_time=10,table_index=0,tr_eng_dict=tr_eng_dict_3_9 )) # section 3.9.1 preferences  of the placed students      \n",
    "        add_values_to_df(df,dep_code, \"Preferences of Placed Students\",get_content_generic(driver,dep_code ,\"1040\",imp_wait_time=10,table_index=1,start_row=0 ) )   # section 3.9.2 preferences  of the placed students \n",
    "        add_values_to_df(df,dep_code, \"Preferences of Placed Students\",get_content_generic(driver,dep_code ,\"1040\",imp_wait_time=10,table_index=2,start_row=0 ) )   # section 3.9.3 preferences  of the placed students \n",
    "\n",
    "\n",
    "    driver.implicitly_wait(imp_wait_time)"
   ]
  },
  {
   "cell_type": "code",
   "execution_count": null,
   "id": "d8a49cae-59dd-418c-ac14-5a9d8fb11a51",
   "metadata": {},
   "outputs": [],
   "source": [
    "df = df.sort_index(axis=1, level=[0,1], ascending=True)"
   ]
  },
  {
   "cell_type": "code",
   "execution_count": null,
   "id": "520c7619-b947-4433-af05-1b9d53a5eb71",
   "metadata": {},
   "outputs": [],
   "source": [
    "df.head(12)"
   ]
  },
  {
   "cell_type": "code",
   "execution_count": null,
   "id": "dd10cfa1-5806-4f40-b443-68d9460ea465",
   "metadata": {},
   "outputs": [],
   "source": [
    "from IPython.display import clear_output\n",
    "#c=1\n",
    "for dep_code in tqdm(df.index):  \n",
    "    if dep_code not in [102910313 ]:\n",
    "        print(f\"Processing department code: {dep_code}\")\n",
    "        fill_features(driver, df, dep_code)\n",
    "        clear_output(wait=True)  # clears previous cell output\n",
    "     \n",
    "    #    if c==1:\n",
    "     #       break\n"
   ]
  },
  {
   "cell_type": "code",
   "execution_count": null,
   "id": "8dc66b53-cd70-4555-ae55-cc7d14f87110",
   "metadata": {},
   "outputs": [],
   "source": [
    "df.head()"
   ]
  },
  {
   "cell_type": "code",
   "execution_count": null,
   "id": "21135303-7f35-4237-96d4-e7c2bab4cf17",
   "metadata": {},
   "outputs": [],
   "source": [
    "1+df.loc[101090550,\"Preferences\"][0]"
   ]
  },
  {
   "cell_type": "code",
   "execution_count": null,
   "id": "71ace0e2-bc84-4c20-a66a-7227e9abcab7",
   "metadata": {},
   "outputs": [],
   "source": [
    "len(df.columns.unique())"
   ]
  },
  {
   "cell_type": "code",
   "execution_count": 2,
   "id": "46e7e2a3-f3bc-4def-987d-ed79820ff206",
   "metadata": {
    "ExecuteTime": {
     "end_time": "2025-08-04T17:31:01.052092100Z",
     "start_time": "2025-08-04T17:30:58.790669Z"
    }
   },
   "outputs": [
    {
     "data": {
      "text/plain": "            General                                                     \\\n               city                         uni_name uni_code uni_type   \ndep_code                                                                 \n210402803  İstanbul  İSTANBUL NİŞANTAŞI ÜNİVERSİTESİ     2104    Vakıf   \n210402810  İstanbul  İSTANBUL NİŞANTAŞI ÜNİVERSİTESİ     2104    Vakıf   \n210402817  İstanbul  İSTANBUL NİŞANTAŞI ÜNİVERSİTESİ     2104    Vakıf   \n210402824  İstanbul  İSTANBUL NİŞANTAŞI ÜNİVERSİTESİ     2104    Vakıf   \n210402831  İstanbul  İSTANBUL NİŞANTAŞI ÜNİVERSİTESİ     2104    Vakıf   \n\n                                                                    \\\n                                         dep_name quota placements   \ndep_code                                                             \n210402803    Turizm İşletmeciliği (%50 İndirimli)    24         24   \n210402810         Uluslararası İlişkiler (Burslu)     6          5   \n210402817        Uluslararası İlişkiler (Ücretli)     1          1   \n210402824  Uluslararası İlişkiler (%50 İndirimli)    24         24   \n210402831                             İç Mimarlık     1          1   \n\n                                               ... Graduation Years            \\\n          not_registered registered top_order  ...             1977 1972 1978   \ndep_code                                       ...                              \n210402803              5          0    596166  ...              NaN  NaN  NaN   \n210402810              1          0    196246  ...              NaN  NaN  NaN   \n210402817              0          0   1000582  ...              NaN  NaN  NaN   \n210402824              0          0    450899  ...              NaN  NaN  NaN   \n210402831              1          0    567377  ...              NaN  NaN  NaN   \n\n                                              \n          1976 1973 1971 2027 1969 1970 2026  \ndep_code                                      \n210402803  NaN  NaN  NaN  NaN  NaN  NaN  NaN  \n210402810  NaN  NaN  NaN  NaN  NaN  NaN  NaN  \n210402817  NaN  NaN  NaN  NaN  NaN  NaN  NaN  \n210402824  NaN  NaN  NaN  NaN  NaN  NaN  NaN  \n210402831  NaN  NaN  NaN  NaN  NaN  NaN  NaN  \n\n[5 rows x 261 columns]",
      "text/html": "<div>\n<style scoped>\n    .dataframe tbody tr th:only-of-type {\n        vertical-align: middle;\n    }\n\n    .dataframe tbody tr th {\n        vertical-align: top;\n    }\n\n    .dataframe thead tr th {\n        text-align: left;\n    }\n\n    .dataframe thead tr:last-of-type th {\n        text-align: right;\n    }\n</style>\n<table border=\"1\" class=\"dataframe\">\n  <thead>\n    <tr>\n      <th></th>\n      <th colspan=\"10\" halign=\"left\">General</th>\n      <th>...</th>\n      <th colspan=\"10\" halign=\"left\">Graduation Years</th>\n    </tr>\n    <tr>\n      <th></th>\n      <th>city</th>\n      <th>uni_name</th>\n      <th>uni_code</th>\n      <th>uni_type</th>\n      <th>dep_name</th>\n      <th>quota</th>\n      <th>placements</th>\n      <th>not_registered</th>\n      <th>registered</th>\n      <th>top_order</th>\n      <th>...</th>\n      <th>1977</th>\n      <th>1972</th>\n      <th>1978</th>\n      <th>1976</th>\n      <th>1973</th>\n      <th>1971</th>\n      <th>2027</th>\n      <th>1969</th>\n      <th>1970</th>\n      <th>2026</th>\n    </tr>\n    <tr>\n      <th>dep_code</th>\n      <th></th>\n      <th></th>\n      <th></th>\n      <th></th>\n      <th></th>\n      <th></th>\n      <th></th>\n      <th></th>\n      <th></th>\n      <th></th>\n      <th></th>\n      <th></th>\n      <th></th>\n      <th></th>\n      <th></th>\n      <th></th>\n      <th></th>\n      <th></th>\n      <th></th>\n      <th></th>\n      <th></th>\n    </tr>\n  </thead>\n  <tbody>\n    <tr>\n      <th>210402803</th>\n      <td>İstanbul</td>\n      <td>İSTANBUL NİŞANTAŞI ÜNİVERSİTESİ</td>\n      <td>2104</td>\n      <td>Vakıf</td>\n      <td>Turizm İşletmeciliği (%50 İndirimli)</td>\n      <td>24</td>\n      <td>24</td>\n      <td>5</td>\n      <td>0</td>\n      <td>596166</td>\n      <td>...</td>\n      <td>NaN</td>\n      <td>NaN</td>\n      <td>NaN</td>\n      <td>NaN</td>\n      <td>NaN</td>\n      <td>NaN</td>\n      <td>NaN</td>\n      <td>NaN</td>\n      <td>NaN</td>\n      <td>NaN</td>\n    </tr>\n    <tr>\n      <th>210402810</th>\n      <td>İstanbul</td>\n      <td>İSTANBUL NİŞANTAŞI ÜNİVERSİTESİ</td>\n      <td>2104</td>\n      <td>Vakıf</td>\n      <td>Uluslararası İlişkiler (Burslu)</td>\n      <td>6</td>\n      <td>5</td>\n      <td>1</td>\n      <td>0</td>\n      <td>196246</td>\n      <td>...</td>\n      <td>NaN</td>\n      <td>NaN</td>\n      <td>NaN</td>\n      <td>NaN</td>\n      <td>NaN</td>\n      <td>NaN</td>\n      <td>NaN</td>\n      <td>NaN</td>\n      <td>NaN</td>\n      <td>NaN</td>\n    </tr>\n    <tr>\n      <th>210402817</th>\n      <td>İstanbul</td>\n      <td>İSTANBUL NİŞANTAŞI ÜNİVERSİTESİ</td>\n      <td>2104</td>\n      <td>Vakıf</td>\n      <td>Uluslararası İlişkiler (Ücretli)</td>\n      <td>1</td>\n      <td>1</td>\n      <td>0</td>\n      <td>0</td>\n      <td>1000582</td>\n      <td>...</td>\n      <td>NaN</td>\n      <td>NaN</td>\n      <td>NaN</td>\n      <td>NaN</td>\n      <td>NaN</td>\n      <td>NaN</td>\n      <td>NaN</td>\n      <td>NaN</td>\n      <td>NaN</td>\n      <td>NaN</td>\n    </tr>\n    <tr>\n      <th>210402824</th>\n      <td>İstanbul</td>\n      <td>İSTANBUL NİŞANTAŞI ÜNİVERSİTESİ</td>\n      <td>2104</td>\n      <td>Vakıf</td>\n      <td>Uluslararası İlişkiler (%50 İndirimli)</td>\n      <td>24</td>\n      <td>24</td>\n      <td>0</td>\n      <td>0</td>\n      <td>450899</td>\n      <td>...</td>\n      <td>NaN</td>\n      <td>NaN</td>\n      <td>NaN</td>\n      <td>NaN</td>\n      <td>NaN</td>\n      <td>NaN</td>\n      <td>NaN</td>\n      <td>NaN</td>\n      <td>NaN</td>\n      <td>NaN</td>\n    </tr>\n    <tr>\n      <th>210402831</th>\n      <td>İstanbul</td>\n      <td>İSTANBUL NİŞANTAŞI ÜNİVERSİTESİ</td>\n      <td>2104</td>\n      <td>Vakıf</td>\n      <td>İç Mimarlık</td>\n      <td>1</td>\n      <td>1</td>\n      <td>1</td>\n      <td>0</td>\n      <td>567377</td>\n      <td>...</td>\n      <td>NaN</td>\n      <td>NaN</td>\n      <td>NaN</td>\n      <td>NaN</td>\n      <td>NaN</td>\n      <td>NaN</td>\n      <td>NaN</td>\n      <td>NaN</td>\n      <td>NaN</td>\n      <td>NaN</td>\n    </tr>\n  </tbody>\n</table>\n<p>5 rows × 261 columns</p>\n</div>"
     },
     "execution_count": 2,
     "metadata": {},
     "output_type": "execute_result"
    }
   ],
   "source": [
    "import pandas as pd\n",
    "df=pd.read_csv(\"migration.csv\",header=[0,1],index_col=[0])\n",
    "df.tail()"
   ]
  },
  {
   "cell_type": "code",
   "execution_count": 3,
   "id": "23697f9b-3712-4a24-84f0-fac198af1a09",
   "metadata": {
    "ExecuteTime": {
     "end_time": "2025-08-04T17:31:07.908585900Z",
     "start_time": "2025-08-04T17:31:07.835592700Z"
    }
   },
   "outputs": [
    {
     "data": {
      "text/plain": "            General Provinces                                              \\\n               city     Adana Adıyaman Afyonkarahisar Ağrı Aksaray Amasya   \ndep_code                                                                    \n210402803  İstanbul         0        0              0    0       0      0   \n210402810  İstanbul         0        0              0    0       0      0   \n210402817  İstanbul         0        0              0    0       0      0   \n210402824  İstanbul         0        0              0    0       0      0   \n210402831  İstanbul         0        0              0    0       0      0   \n\n                                  ...                                        \\\n          Ankara Antalya Ardahan  ... Şırnak Tekirdağ Tokat Trabzon Tunceli   \ndep_code                          ...                                         \n210402803      0       0       0  ...      0        0     0       0       0   \n210402810      0       1       0  ...      0        0     0       0       0   \n210402817      0       0       0  ...      0        0     0       0       0   \n210402824      0       0       0  ...      0        0     0       0       0   \n210402831      0       0       0  ...      0        0     0       0       0   \n\n                                            \n          Uşak Van Yalova Yozgat Zonguldak  \ndep_code                                    \n210402803    0   0      0      0         0  \n210402810    0   0      0      0         0  \n210402817    0   0      0      0         0  \n210402824    0   0      0      0         0  \n210402831    0   0      0      0         0  \n\n[5 rows x 82 columns]",
      "text/html": "<div>\n<style scoped>\n    .dataframe tbody tr th:only-of-type {\n        vertical-align: middle;\n    }\n\n    .dataframe tbody tr th {\n        vertical-align: top;\n    }\n\n    .dataframe thead tr th {\n        text-align: left;\n    }\n\n    .dataframe thead tr:last-of-type th {\n        text-align: right;\n    }\n</style>\n<table border=\"1\" class=\"dataframe\">\n  <thead>\n    <tr>\n      <th></th>\n      <th>General</th>\n      <th colspan=\"20\" halign=\"left\">Provinces</th>\n    </tr>\n    <tr>\n      <th></th>\n      <th>city</th>\n      <th>Adana</th>\n      <th>Adıyaman</th>\n      <th>Afyonkarahisar</th>\n      <th>Ağrı</th>\n      <th>Aksaray</th>\n      <th>Amasya</th>\n      <th>Ankara</th>\n      <th>Antalya</th>\n      <th>Ardahan</th>\n      <th>...</th>\n      <th>Şırnak</th>\n      <th>Tekirdağ</th>\n      <th>Tokat</th>\n      <th>Trabzon</th>\n      <th>Tunceli</th>\n      <th>Uşak</th>\n      <th>Van</th>\n      <th>Yalova</th>\n      <th>Yozgat</th>\n      <th>Zonguldak</th>\n    </tr>\n    <tr>\n      <th>dep_code</th>\n      <th></th>\n      <th></th>\n      <th></th>\n      <th></th>\n      <th></th>\n      <th></th>\n      <th></th>\n      <th></th>\n      <th></th>\n      <th></th>\n      <th></th>\n      <th></th>\n      <th></th>\n      <th></th>\n      <th></th>\n      <th></th>\n      <th></th>\n      <th></th>\n      <th></th>\n      <th></th>\n      <th></th>\n    </tr>\n  </thead>\n  <tbody>\n    <tr>\n      <th>210402803</th>\n      <td>İstanbul</td>\n      <td>0</td>\n      <td>0</td>\n      <td>0</td>\n      <td>0</td>\n      <td>0</td>\n      <td>0</td>\n      <td>0</td>\n      <td>0</td>\n      <td>0</td>\n      <td>...</td>\n      <td>0</td>\n      <td>0</td>\n      <td>0</td>\n      <td>0</td>\n      <td>0</td>\n      <td>0</td>\n      <td>0</td>\n      <td>0</td>\n      <td>0</td>\n      <td>0</td>\n    </tr>\n    <tr>\n      <th>210402810</th>\n      <td>İstanbul</td>\n      <td>0</td>\n      <td>0</td>\n      <td>0</td>\n      <td>0</td>\n      <td>0</td>\n      <td>0</td>\n      <td>0</td>\n      <td>1</td>\n      <td>0</td>\n      <td>...</td>\n      <td>0</td>\n      <td>0</td>\n      <td>0</td>\n      <td>0</td>\n      <td>0</td>\n      <td>0</td>\n      <td>0</td>\n      <td>0</td>\n      <td>0</td>\n      <td>0</td>\n    </tr>\n    <tr>\n      <th>210402817</th>\n      <td>İstanbul</td>\n      <td>0</td>\n      <td>0</td>\n      <td>0</td>\n      <td>0</td>\n      <td>0</td>\n      <td>0</td>\n      <td>0</td>\n      <td>0</td>\n      <td>0</td>\n      <td>...</td>\n      <td>0</td>\n      <td>0</td>\n      <td>0</td>\n      <td>0</td>\n      <td>0</td>\n      <td>0</td>\n      <td>0</td>\n      <td>0</td>\n      <td>0</td>\n      <td>0</td>\n    </tr>\n    <tr>\n      <th>210402824</th>\n      <td>İstanbul</td>\n      <td>0</td>\n      <td>0</td>\n      <td>0</td>\n      <td>0</td>\n      <td>0</td>\n      <td>0</td>\n      <td>0</td>\n      <td>0</td>\n      <td>0</td>\n      <td>...</td>\n      <td>0</td>\n      <td>0</td>\n      <td>0</td>\n      <td>0</td>\n      <td>0</td>\n      <td>0</td>\n      <td>0</td>\n      <td>0</td>\n      <td>0</td>\n      <td>0</td>\n    </tr>\n    <tr>\n      <th>210402831</th>\n      <td>İstanbul</td>\n      <td>0</td>\n      <td>0</td>\n      <td>0</td>\n      <td>0</td>\n      <td>0</td>\n      <td>0</td>\n      <td>0</td>\n      <td>0</td>\n      <td>0</td>\n      <td>...</td>\n      <td>0</td>\n      <td>0</td>\n      <td>0</td>\n      <td>0</td>\n      <td>0</td>\n      <td>0</td>\n      <td>0</td>\n      <td>0</td>\n      <td>0</td>\n      <td>0</td>\n    </tr>\n  </tbody>\n</table>\n<p>5 rows × 82 columns</p>\n</div>"
     },
     "execution_count": 3,
     "metadata": {},
     "output_type": "execute_result"
    }
   ],
   "source": [
    "mapping = {'General': ['city'], 'Provinces': df[\"Provinces\"].columns[:-2]}\n",
    "\n",
    "# Generate column list\n",
    "selected_columns = [\n",
    "    (top, sub) \n",
    "    for top, subs in mapping.items() \n",
    "    for sub in subs\n",
    "]\n",
    "res = df[selected_columns]\n",
    "res.tail()"
   ]
  },
  {
   "cell_type": "code",
   "execution_count": 4,
   "id": "c6fa4741-ad8b-431e-b7cc-7d39f5e251e1",
   "metadata": {
    "ExecuteTime": {
     "end_time": "2025-08-04T17:31:10.410466200Z",
     "start_time": "2025-08-04T17:31:10.404930800Z"
    }
   },
   "outputs": [],
   "source": [
    "res.columns=res.columns.droplevel()\n",
    "res.shape"
   ]
  },
  {
   "cell_type": "code",
   "execution_count": 6,
   "id": "44485016-b595-40d6-8071-cd8172238e04",
   "metadata": {
    "ExecuteTime": {
     "end_time": "2025-08-04T17:31:13.436707700Z",
     "start_time": "2025-08-04T17:31:13.405321200Z"
    }
   },
   "outputs": [
    {
     "data": {
      "text/plain": "               city  Adana  Adıyaman  Afyonkarahisar  Ağrı  Aksaray  Amasya  \\\ndep_code                                                                      \n210402803  İstanbul      0         0               0     0        0       0   \n210402810  İstanbul      0         0               0     0        0       0   \n210402817  İstanbul      0         0               0     0        0       0   \n210402824  İstanbul      0         0               0     0        0       0   \n210402831  İstanbul      0         0               0     0        0       0   \n\n           Ankara  Antalya  Ardahan  ...  Şırnak  Tekirdağ  Tokat  Trabzon  \\\ndep_code                             ...                                     \n210402803       0        0        0  ...       0         0      0        0   \n210402810       0        1        0  ...       0         0      0        0   \n210402817       0        0        0  ...       0         0      0        0   \n210402824       0        0        0  ...       0         0      0        0   \n210402831       0        0        0  ...       0         0      0        0   \n\n           Tunceli  Uşak  Van  Yalova  Yozgat  Zonguldak  \ndep_code                                                  \n210402803        0     0    0       0       0          0  \n210402810        0     0    0       0       0          0  \n210402817        0     0    0       0       0          0  \n210402824        0     0    0       0       0          0  \n210402831        0     0    0       0       0          0  \n\n[5 rows x 82 columns]",
      "text/html": "<div>\n<style scoped>\n    .dataframe tbody tr th:only-of-type {\n        vertical-align: middle;\n    }\n\n    .dataframe tbody tr th {\n        vertical-align: top;\n    }\n\n    .dataframe thead th {\n        text-align: right;\n    }\n</style>\n<table border=\"1\" class=\"dataframe\">\n  <thead>\n    <tr style=\"text-align: right;\">\n      <th></th>\n      <th>city</th>\n      <th>Adana</th>\n      <th>Adıyaman</th>\n      <th>Afyonkarahisar</th>\n      <th>Ağrı</th>\n      <th>Aksaray</th>\n      <th>Amasya</th>\n      <th>Ankara</th>\n      <th>Antalya</th>\n      <th>Ardahan</th>\n      <th>...</th>\n      <th>Şırnak</th>\n      <th>Tekirdağ</th>\n      <th>Tokat</th>\n      <th>Trabzon</th>\n      <th>Tunceli</th>\n      <th>Uşak</th>\n      <th>Van</th>\n      <th>Yalova</th>\n      <th>Yozgat</th>\n      <th>Zonguldak</th>\n    </tr>\n    <tr>\n      <th>dep_code</th>\n      <th></th>\n      <th></th>\n      <th></th>\n      <th></th>\n      <th></th>\n      <th></th>\n      <th></th>\n      <th></th>\n      <th></th>\n      <th></th>\n      <th></th>\n      <th></th>\n      <th></th>\n      <th></th>\n      <th></th>\n      <th></th>\n      <th></th>\n      <th></th>\n      <th></th>\n      <th></th>\n      <th></th>\n    </tr>\n  </thead>\n  <tbody>\n    <tr>\n      <th>210402803</th>\n      <td>İstanbul</td>\n      <td>0</td>\n      <td>0</td>\n      <td>0</td>\n      <td>0</td>\n      <td>0</td>\n      <td>0</td>\n      <td>0</td>\n      <td>0</td>\n      <td>0</td>\n      <td>...</td>\n      <td>0</td>\n      <td>0</td>\n      <td>0</td>\n      <td>0</td>\n      <td>0</td>\n      <td>0</td>\n      <td>0</td>\n      <td>0</td>\n      <td>0</td>\n      <td>0</td>\n    </tr>\n    <tr>\n      <th>210402810</th>\n      <td>İstanbul</td>\n      <td>0</td>\n      <td>0</td>\n      <td>0</td>\n      <td>0</td>\n      <td>0</td>\n      <td>0</td>\n      <td>0</td>\n      <td>1</td>\n      <td>0</td>\n      <td>...</td>\n      <td>0</td>\n      <td>0</td>\n      <td>0</td>\n      <td>0</td>\n      <td>0</td>\n      <td>0</td>\n      <td>0</td>\n      <td>0</td>\n      <td>0</td>\n      <td>0</td>\n    </tr>\n    <tr>\n      <th>210402817</th>\n      <td>İstanbul</td>\n      <td>0</td>\n      <td>0</td>\n      <td>0</td>\n      <td>0</td>\n      <td>0</td>\n      <td>0</td>\n      <td>0</td>\n      <td>0</td>\n      <td>0</td>\n      <td>...</td>\n      <td>0</td>\n      <td>0</td>\n      <td>0</td>\n      <td>0</td>\n      <td>0</td>\n      <td>0</td>\n      <td>0</td>\n      <td>0</td>\n      <td>0</td>\n      <td>0</td>\n    </tr>\n    <tr>\n      <th>210402824</th>\n      <td>İstanbul</td>\n      <td>0</td>\n      <td>0</td>\n      <td>0</td>\n      <td>0</td>\n      <td>0</td>\n      <td>0</td>\n      <td>0</td>\n      <td>0</td>\n      <td>0</td>\n      <td>...</td>\n      <td>0</td>\n      <td>0</td>\n      <td>0</td>\n      <td>0</td>\n      <td>0</td>\n      <td>0</td>\n      <td>0</td>\n      <td>0</td>\n      <td>0</td>\n      <td>0</td>\n    </tr>\n    <tr>\n      <th>210402831</th>\n      <td>İstanbul</td>\n      <td>0</td>\n      <td>0</td>\n      <td>0</td>\n      <td>0</td>\n      <td>0</td>\n      <td>0</td>\n      <td>0</td>\n      <td>0</td>\n      <td>0</td>\n      <td>...</td>\n      <td>0</td>\n      <td>0</td>\n      <td>0</td>\n      <td>0</td>\n      <td>0</td>\n      <td>0</td>\n      <td>0</td>\n      <td>0</td>\n      <td>0</td>\n      <td>0</td>\n    </tr>\n  </tbody>\n</table>\n<p>5 rows × 82 columns</p>\n</div>"
     },
     "execution_count": 6,
     "metadata": {},
     "output_type": "execute_result"
    }
   ],
   "source": [
    "res.tail()"
   ]
  },
  {
   "cell_type": "code",
   "execution_count": 9,
   "id": "616120ac-da6a-4d0e-b082-a83dd64450fb",
   "metadata": {
    "ExecuteTime": {
     "end_time": "2025-08-04T17:34:49.005230900Z",
     "start_time": "2025-08-04T17:34:48.957985100Z"
    }
   },
   "outputs": [
    {
     "data": {
      "text/plain": "                Adana  Adıyaman  Afyonkarahisar  Ağrı  Aksaray  Amasya  \\\ncity                                                                     \nAdana            2814        69               3     2       33       2   \nAdıyaman           57       670               4     7        3       0   \nAfyonkarahisar     44        10             768     6       24       6   \nAksaray            78        11              25    12      486       3   \nAmasya             23        11               3    10        5     225   \n...               ...       ...             ...   ...      ...     ...   \nÇorum              16         1               6     5        2      41   \nİstanbul         1027       315             232   150      119     164   \nİzmir             330        64             148    61       39      42   \nŞanlıurfa          55        39               5     9        3       4   \nŞırnak              3         2               0     3        0       0   \n\n                Ankara  Antalya  Ardahan  Artvin  ...  Şırnak  Tekirdağ  \\\ncity                                              ...                     \nAdana              113       49        1       0  ...      24        11   \nAdıyaman            12       17        1       0  ...      17         2   \nAfyonkarahisar     231      213        1       2  ...       9        22   \nAksaray            168       47        3       3  ...       4        11   \nAmasya              90       17        3       6  ...       4        10   \n...                ...      ...      ...     ...  ...     ...       ...   \nÇorum              152       15        2       1  ...       3         9   \nİstanbul          1584     1765       26      60  ...     143      1278   \nİzmir              536      543       16      26  ...      80       341   \nŞanlıurfa           22        9        0       0  ...      20         2   \nŞırnak               7        4        0       1  ...     210         1   \n\n                Tokat  Trabzon  Tunceli  Uşak  Van  Yalova  Yozgat  Zonguldak  \ncity                                                                           \nAdana               4        7        2     2   21       5       4          8  \nAdıyaman            1        2        0     1   22       0       1          0  \nAfyonkarahisar      6        7        3    63   25       8      14         13  \nAksaray             6        1        2     5   15       4       7          4  \nAmasya             38       15        2     3   30       1      27          3  \n...               ...      ...      ...   ...  ...     ...     ...        ...  \nÇorum              32       14        0     2    8       2      24          6  \nİstanbul          275      536       36   162  436     445     120        408  \nİzmir              42       88       22   149  164      57      27        106  \nŞanlıurfa           1        3        0     0   32       1       0          2  \nŞırnak              0        0        1     0   19       0       1          0  \n\n[81 rows x 81 columns]",
      "text/html": "<div>\n<style scoped>\n    .dataframe tbody tr th:only-of-type {\n        vertical-align: middle;\n    }\n\n    .dataframe tbody tr th {\n        vertical-align: top;\n    }\n\n    .dataframe thead th {\n        text-align: right;\n    }\n</style>\n<table border=\"1\" class=\"dataframe\">\n  <thead>\n    <tr style=\"text-align: right;\">\n      <th></th>\n      <th>Adana</th>\n      <th>Adıyaman</th>\n      <th>Afyonkarahisar</th>\n      <th>Ağrı</th>\n      <th>Aksaray</th>\n      <th>Amasya</th>\n      <th>Ankara</th>\n      <th>Antalya</th>\n      <th>Ardahan</th>\n      <th>Artvin</th>\n      <th>...</th>\n      <th>Şırnak</th>\n      <th>Tekirdağ</th>\n      <th>Tokat</th>\n      <th>Trabzon</th>\n      <th>Tunceli</th>\n      <th>Uşak</th>\n      <th>Van</th>\n      <th>Yalova</th>\n      <th>Yozgat</th>\n      <th>Zonguldak</th>\n    </tr>\n    <tr>\n      <th>city</th>\n      <th></th>\n      <th></th>\n      <th></th>\n      <th></th>\n      <th></th>\n      <th></th>\n      <th></th>\n      <th></th>\n      <th></th>\n      <th></th>\n      <th></th>\n      <th></th>\n      <th></th>\n      <th></th>\n      <th></th>\n      <th></th>\n      <th></th>\n      <th></th>\n      <th></th>\n      <th></th>\n      <th></th>\n    </tr>\n  </thead>\n  <tbody>\n    <tr>\n      <th>Adana</th>\n      <td>2814</td>\n      <td>69</td>\n      <td>3</td>\n      <td>2</td>\n      <td>33</td>\n      <td>2</td>\n      <td>113</td>\n      <td>49</td>\n      <td>1</td>\n      <td>0</td>\n      <td>...</td>\n      <td>24</td>\n      <td>11</td>\n      <td>4</td>\n      <td>7</td>\n      <td>2</td>\n      <td>2</td>\n      <td>21</td>\n      <td>5</td>\n      <td>4</td>\n      <td>8</td>\n    </tr>\n    <tr>\n      <th>Adıyaman</th>\n      <td>57</td>\n      <td>670</td>\n      <td>4</td>\n      <td>7</td>\n      <td>3</td>\n      <td>0</td>\n      <td>12</td>\n      <td>17</td>\n      <td>1</td>\n      <td>0</td>\n      <td>...</td>\n      <td>17</td>\n      <td>2</td>\n      <td>1</td>\n      <td>2</td>\n      <td>0</td>\n      <td>1</td>\n      <td>22</td>\n      <td>0</td>\n      <td>1</td>\n      <td>0</td>\n    </tr>\n    <tr>\n      <th>Afyonkarahisar</th>\n      <td>44</td>\n      <td>10</td>\n      <td>768</td>\n      <td>6</td>\n      <td>24</td>\n      <td>6</td>\n      <td>231</td>\n      <td>213</td>\n      <td>1</td>\n      <td>2</td>\n      <td>...</td>\n      <td>9</td>\n      <td>22</td>\n      <td>6</td>\n      <td>7</td>\n      <td>3</td>\n      <td>63</td>\n      <td>25</td>\n      <td>8</td>\n      <td>14</td>\n      <td>13</td>\n    </tr>\n    <tr>\n      <th>Aksaray</th>\n      <td>78</td>\n      <td>11</td>\n      <td>25</td>\n      <td>12</td>\n      <td>486</td>\n      <td>3</td>\n      <td>168</td>\n      <td>47</td>\n      <td>3</td>\n      <td>3</td>\n      <td>...</td>\n      <td>4</td>\n      <td>11</td>\n      <td>6</td>\n      <td>1</td>\n      <td>2</td>\n      <td>5</td>\n      <td>15</td>\n      <td>4</td>\n      <td>7</td>\n      <td>4</td>\n    </tr>\n    <tr>\n      <th>Amasya</th>\n      <td>23</td>\n      <td>11</td>\n      <td>3</td>\n      <td>10</td>\n      <td>5</td>\n      <td>225</td>\n      <td>90</td>\n      <td>17</td>\n      <td>3</td>\n      <td>6</td>\n      <td>...</td>\n      <td>4</td>\n      <td>10</td>\n      <td>38</td>\n      <td>15</td>\n      <td>2</td>\n      <td>3</td>\n      <td>30</td>\n      <td>1</td>\n      <td>27</td>\n      <td>3</td>\n    </tr>\n    <tr>\n      <th>...</th>\n      <td>...</td>\n      <td>...</td>\n      <td>...</td>\n      <td>...</td>\n      <td>...</td>\n      <td>...</td>\n      <td>...</td>\n      <td>...</td>\n      <td>...</td>\n      <td>...</td>\n      <td>...</td>\n      <td>...</td>\n      <td>...</td>\n      <td>...</td>\n      <td>...</td>\n      <td>...</td>\n      <td>...</td>\n      <td>...</td>\n      <td>...</td>\n      <td>...</td>\n      <td>...</td>\n    </tr>\n    <tr>\n      <th>Çorum</th>\n      <td>16</td>\n      <td>1</td>\n      <td>6</td>\n      <td>5</td>\n      <td>2</td>\n      <td>41</td>\n      <td>152</td>\n      <td>15</td>\n      <td>2</td>\n      <td>1</td>\n      <td>...</td>\n      <td>3</td>\n      <td>9</td>\n      <td>32</td>\n      <td>14</td>\n      <td>0</td>\n      <td>2</td>\n      <td>8</td>\n      <td>2</td>\n      <td>24</td>\n      <td>6</td>\n    </tr>\n    <tr>\n      <th>İstanbul</th>\n      <td>1027</td>\n      <td>315</td>\n      <td>232</td>\n      <td>150</td>\n      <td>119</td>\n      <td>164</td>\n      <td>1584</td>\n      <td>1765</td>\n      <td>26</td>\n      <td>60</td>\n      <td>...</td>\n      <td>143</td>\n      <td>1278</td>\n      <td>275</td>\n      <td>536</td>\n      <td>36</td>\n      <td>162</td>\n      <td>436</td>\n      <td>445</td>\n      <td>120</td>\n      <td>408</td>\n    </tr>\n    <tr>\n      <th>İzmir</th>\n      <td>330</td>\n      <td>64</td>\n      <td>148</td>\n      <td>61</td>\n      <td>39</td>\n      <td>42</td>\n      <td>536</td>\n      <td>543</td>\n      <td>16</td>\n      <td>26</td>\n      <td>...</td>\n      <td>80</td>\n      <td>341</td>\n      <td>42</td>\n      <td>88</td>\n      <td>22</td>\n      <td>149</td>\n      <td>164</td>\n      <td>57</td>\n      <td>27</td>\n      <td>106</td>\n    </tr>\n    <tr>\n      <th>Şanlıurfa</th>\n      <td>55</td>\n      <td>39</td>\n      <td>5</td>\n      <td>9</td>\n      <td>3</td>\n      <td>4</td>\n      <td>22</td>\n      <td>9</td>\n      <td>0</td>\n      <td>0</td>\n      <td>...</td>\n      <td>20</td>\n      <td>2</td>\n      <td>1</td>\n      <td>3</td>\n      <td>0</td>\n      <td>0</td>\n      <td>32</td>\n      <td>1</td>\n      <td>0</td>\n      <td>2</td>\n    </tr>\n    <tr>\n      <th>Şırnak</th>\n      <td>3</td>\n      <td>2</td>\n      <td>0</td>\n      <td>3</td>\n      <td>0</td>\n      <td>0</td>\n      <td>7</td>\n      <td>4</td>\n      <td>0</td>\n      <td>1</td>\n      <td>...</td>\n      <td>210</td>\n      <td>1</td>\n      <td>0</td>\n      <td>0</td>\n      <td>1</td>\n      <td>0</td>\n      <td>19</td>\n      <td>0</td>\n      <td>1</td>\n      <td>0</td>\n    </tr>\n  </tbody>\n</table>\n<p>81 rows × 81 columns</p>\n</div>"
     },
     "execution_count": 9,
     "metadata": {},
     "output_type": "execute_result"
    }
   ],
   "source": [
    "res.groupby(\"city\").sum()"
   ]
  },
  {
   "cell_type": "code",
   "execution_count": 166,
   "outputs": [
    {
     "name": "stderr",
     "output_type": "stream",
     "text": [
      "C:\\Users\\User\\AppData\\Local\\Temp\\ipykernel_33172\\2281751452.py:21: FutureWarning: DataFrame.groupby with axis=1 is deprecated. Do `frame.T.groupby(...)` without axis instead.\n",
      "  total = df_migration.groupby(level=0, axis=1).sum()  # collapses 2nd level\n"
     ]
    },
    {
     "data": {
      "text/plain": "city               Adana                                          \\\n                Combined State Only Foundation Only State vs All   \nAdana           0.264201   0.301349             0.0     0.264201   \nAdıyaman        0.022623   0.024838             0.0     0.022623   \nAfyonkarahisar  0.000964   0.001039             0.0     0.000964   \nAksaray         0.015965   0.017350             0.0     0.015965   \nAmasya          0.001159   0.001268             0.0     0.001159   \n\ncity                              Adıyaman                             \\\n               Foundation vs All  Combined State Only Foundation Only   \nAdana                        0.0  0.005352   0.006104             0.0   \nAdıyaman                     0.0  0.219672   0.241181             0.0   \nAfyonkarahisar               0.0  0.001286   0.001385             0.0   \nAksaray                      0.0  0.001451   0.001577             0.0   \nAmasya                       0.0  0.000000   0.000000             0.0   \n\ncity                                           ... Şanlıurfa             \\\n               State vs All Foundation vs All  ...  Combined State Only   \nAdana              0.005352               0.0  ...  0.005164   0.005890   \nAdıyaman           0.219672               0.0  ...  0.012787   0.014039   \nAfyonkarahisar     0.001286               0.0  ...  0.001607   0.001731   \nAksaray            0.001451               0.0  ...  0.001451   0.001577   \nAmasya             0.000000               0.0  ...  0.002317   0.002536   \n\ncity                                                             Şırnak  \\\n               Foundation Only State vs All Foundation vs All  Combined   \nAdana                      0.0     0.005164               0.0  0.000282   \nAdıyaman                   0.0     0.012787               0.0  0.000656   \nAfyonkarahisar             0.0     0.001607               0.0  0.000000   \nAksaray                    0.0     0.001451               0.0  0.000000   \nAmasya                     0.0     0.002317               0.0  0.000000   \n\ncity                                                                      \n               State Only Foundation Only State vs All Foundation vs All  \nAdana            0.000321             0.0     0.000282               0.0  \nAdıyaman         0.000720             0.0     0.000656               0.0  \nAfyonkarahisar   0.000000             0.0     0.000000               0.0  \nAksaray          0.000000             0.0     0.000000               0.0  \nAmasya           0.000000             0.0     0.000000               0.0  \n\n[5 rows x 405 columns]",
      "text/html": "<div>\n<style scoped>\n    .dataframe tbody tr th:only-of-type {\n        vertical-align: middle;\n    }\n\n    .dataframe tbody tr th {\n        vertical-align: top;\n    }\n\n    .dataframe thead tr th {\n        text-align: left;\n    }\n</style>\n<table border=\"1\" class=\"dataframe\">\n  <thead>\n    <tr>\n      <th>city</th>\n      <th colspan=\"5\" halign=\"left\">Adana</th>\n      <th colspan=\"5\" halign=\"left\">Adıyaman</th>\n      <th>...</th>\n      <th colspan=\"5\" halign=\"left\">Şanlıurfa</th>\n      <th colspan=\"5\" halign=\"left\">Şırnak</th>\n    </tr>\n    <tr>\n      <th></th>\n      <th>Combined</th>\n      <th>State Only</th>\n      <th>Foundation Only</th>\n      <th>State vs All</th>\n      <th>Foundation vs All</th>\n      <th>Combined</th>\n      <th>State Only</th>\n      <th>Foundation Only</th>\n      <th>State vs All</th>\n      <th>Foundation vs All</th>\n      <th>...</th>\n      <th>Combined</th>\n      <th>State Only</th>\n      <th>Foundation Only</th>\n      <th>State vs All</th>\n      <th>Foundation vs All</th>\n      <th>Combined</th>\n      <th>State Only</th>\n      <th>Foundation Only</th>\n      <th>State vs All</th>\n      <th>Foundation vs All</th>\n    </tr>\n  </thead>\n  <tbody>\n    <tr>\n      <th>Adana</th>\n      <td>0.264201</td>\n      <td>0.301349</td>\n      <td>0.0</td>\n      <td>0.264201</td>\n      <td>0.0</td>\n      <td>0.005352</td>\n      <td>0.006104</td>\n      <td>0.0</td>\n      <td>0.005352</td>\n      <td>0.0</td>\n      <td>...</td>\n      <td>0.005164</td>\n      <td>0.005890</td>\n      <td>0.0</td>\n      <td>0.005164</td>\n      <td>0.0</td>\n      <td>0.000282</td>\n      <td>0.000321</td>\n      <td>0.0</td>\n      <td>0.000282</td>\n      <td>0.0</td>\n    </tr>\n    <tr>\n      <th>Adıyaman</th>\n      <td>0.022623</td>\n      <td>0.024838</td>\n      <td>0.0</td>\n      <td>0.022623</td>\n      <td>0.0</td>\n      <td>0.219672</td>\n      <td>0.241181</td>\n      <td>0.0</td>\n      <td>0.219672</td>\n      <td>0.0</td>\n      <td>...</td>\n      <td>0.012787</td>\n      <td>0.014039</td>\n      <td>0.0</td>\n      <td>0.012787</td>\n      <td>0.0</td>\n      <td>0.000656</td>\n      <td>0.000720</td>\n      <td>0.0</td>\n      <td>0.000656</td>\n      <td>0.0</td>\n    </tr>\n    <tr>\n      <th>Afyonkarahisar</th>\n      <td>0.000964</td>\n      <td>0.001039</td>\n      <td>0.0</td>\n      <td>0.000964</td>\n      <td>0.0</td>\n      <td>0.001286</td>\n      <td>0.001385</td>\n      <td>0.0</td>\n      <td>0.001286</td>\n      <td>0.0</td>\n      <td>...</td>\n      <td>0.001607</td>\n      <td>0.001731</td>\n      <td>0.0</td>\n      <td>0.001607</td>\n      <td>0.0</td>\n      <td>0.000000</td>\n      <td>0.000000</td>\n      <td>0.0</td>\n      <td>0.000000</td>\n      <td>0.0</td>\n    </tr>\n    <tr>\n      <th>Aksaray</th>\n      <td>0.015965</td>\n      <td>0.017350</td>\n      <td>0.0</td>\n      <td>0.015965</td>\n      <td>0.0</td>\n      <td>0.001451</td>\n      <td>0.001577</td>\n      <td>0.0</td>\n      <td>0.001451</td>\n      <td>0.0</td>\n      <td>...</td>\n      <td>0.001451</td>\n      <td>0.001577</td>\n      <td>0.0</td>\n      <td>0.001451</td>\n      <td>0.0</td>\n      <td>0.000000</td>\n      <td>0.000000</td>\n      <td>0.0</td>\n      <td>0.000000</td>\n      <td>0.0</td>\n    </tr>\n    <tr>\n      <th>Amasya</th>\n      <td>0.001159</td>\n      <td>0.001268</td>\n      <td>0.0</td>\n      <td>0.001159</td>\n      <td>0.0</td>\n      <td>0.000000</td>\n      <td>0.000000</td>\n      <td>0.0</td>\n      <td>0.000000</td>\n      <td>0.0</td>\n      <td>...</td>\n      <td>0.002317</td>\n      <td>0.002536</td>\n      <td>0.0</td>\n      <td>0.002317</td>\n      <td>0.0</td>\n      <td>0.000000</td>\n      <td>0.000000</td>\n      <td>0.0</td>\n      <td>0.000000</td>\n      <td>0.0</td>\n    </tr>\n  </tbody>\n</table>\n<p>5 rows × 405 columns</p>\n</div>"
     },
     "execution_count": 166,
     "metadata": {},
     "output_type": "execute_result"
    }
   ],
   "source": [
    "df = pd.read_pickle('data/preprocessed/high_edu.pkl')\n",
    "# SELECTING PROVINCES\n",
    "df = df[df[\"General\"][\"scholarship\"] != \"AÖ-Ücretli\"]  # exclude distant education\n",
    "mapping = {'General': ['city', \"uni_type\"],\n",
    "   'Provinces': list(set(df[\"Provinces\"].columns) - {\"Total\", \"Unknown\", \"Belirsiz\", \"Toplam\"})}\n",
    "# Generate column list\n",
    "selected_columns = [(top, sub) for top, subs in mapping.items() for sub in subs]\n",
    "df_migration = df[selected_columns]\n",
    "df_migration.columns = df_migration.columns.droplevel()\n",
    "df_migration = df_migration.groupby([\"city\", \"uni_type\"]).sum()\n",
    "df_migration = df_migration.sort_index(key=lambda x: pd.Index([locale.strxfrm(e) for e in x]))\n",
    "df_migration = df_migration.T\n",
    "df_migration.columns = df_migration.columns.set_levels(df_migration.columns.levels[1].str.replace('Devlet', 'State').str.replace('Vakıf', 'Foundation'),level=1)\n",
    "all_provinces, foundation_provinces = df_migration.loc[ :,(slice(None), \"State\")].columns.get_level_values(0),df_migration.loc[ :,(slice(None), \"Foundation\")].columns.get_level_values(0)\n",
    "# 2. ensure *all* provinces have both Devlet & Vakıf ----------------\n",
    "#    missing ones are created with 0\n",
    "provinces = df_migration.columns.get_level_values(0).unique()\n",
    "mux = pd.MultiIndex.from_product([provinces, [\"State\", \"Foundation\"]])\n",
    "df_migration = df_migration.reindex(columns=mux, fill_value=0)\n",
    "# 3. add “Total” sub-column (level-1) for every province ------------\n",
    "total = df_migration.groupby(level=0, axis=1).sum()  # collapses 2nd level\n",
    "total.columns = pd.MultiIndex.from_product([total.columns, [\"All\"]])\n",
    "df_migration = pd.concat([df_migration, total], axis=1).sort_index(axis=1, level=0)\n",
    "df_migration.head(3)\n",
    "option_dict = {\"Combined\": [\"all\", \"all\"], \"State Only\": [\"state\", \"state\"], \"Foundation Only\": [\"foundation\", \"foundation\"], \"State vs All\": [\"state\", \"all\"], \"Foundation vs All\": [\"foundation\", \"all\"]}\n",
    "mux = pd.MultiIndex.from_product([provinces, [\"Combined\", \"State Only\",\"Foundation Only\",\"State vs All\",\"Foundation vs All\"]])\n",
    "df_migration_ratio = pd.DataFrame( np.nan, index=df_migration.index, columns=mux,  dtype='float64' )\n",
    "\n",
    "df_migration = df_migration.sort_index(key=lambda x: pd.Index([locale.strxfrm(e) for e in x]))\n",
    "df_migration_ratio =df_migration_ratio.sort_index(key=lambda x: pd.Index([locale.strxfrm(e) for e in x]))\n",
    "df_migration_ratio.loc[:, (slice(None), \"Combined\")] = df_migration.loc[:, (slice(None), \"All\")].div(df_migration.loc[:, (slice(None), \"All\")].sum(axis=1), axis=0).values\n",
    "df_migration_ratio.loc[:, (slice(None), \"State Only\")] = df_migration.loc[:, (slice(None), \"State\")].div(df_migration.loc[:, (slice(None), \"State\")].sum(axis=1), axis=0).values\n",
    "df_migration_ratio.loc[:, (slice(None), \"Foundation Only\")] = df_migration.loc[:, (slice(None), \"Foundation\")].div(df_migration.loc[:, (slice(None), \"Foundation\")].sum(axis=1), axis=0).values\n",
    "df_migration_ratio.loc[:, (slice(None), \"State vs All\")] = df_migration.loc[:, (slice(None), \"State\")].div(df_migration.loc[:, (slice(None), \"All\")].sum(axis=1), axis=0).values\n",
    "df_migration_ratio.loc[:, (slice(None), \"Foundation vs All\")] = df_migration.loc[:, (slice(None), \"Foundation\")].div(df_migration.loc[:, (slice(None), \"All\")].sum(axis=1), axis=0).values\n",
    "\n",
    "df_migration_ratio.head()"
   ],
   "metadata": {
    "collapsed": false,
    "ExecuteTime": {
     "end_time": "2025-09-20T16:10:23.933578300Z",
     "start_time": "2025-09-20T16:10:23.706682400Z"
    }
   },
   "id": "f5faaee70879a8f7"
  },
  {
   "cell_type": "code",
   "execution_count": 169,
   "outputs": [
    {
     "data": {
      "text/plain": "city               Adana                                          \\\n                Combined State Only Foundation Only State vs All   \nAdana           0.264201   0.301349             0.0     0.264201   \nAdıyaman        0.022623   0.024838             0.0     0.022623   \nAfyonkarahisar  0.000964   0.001039             0.0     0.000964   \nAksaray         0.015965   0.017350             0.0     0.015965   \nAmasya          0.001159   0.001268             0.0     0.001159   \n\ncity                              Adıyaman                             \\\n               Foundation vs All  Combined State Only Foundation Only   \nAdana                        0.0  0.005352   0.006104             0.0   \nAdıyaman                     0.0  0.219672   0.241181             0.0   \nAfyonkarahisar               0.0  0.001286   0.001385             0.0   \nAksaray                      0.0  0.001451   0.001577             0.0   \nAmasya                       0.0  0.000000   0.000000             0.0   \n\ncity                                           ... Şanlıurfa             \\\n               State vs All Foundation vs All  ...  Combined State Only   \nAdana              0.005352               0.0  ...  0.005164   0.005890   \nAdıyaman           0.219672               0.0  ...  0.012787   0.014039   \nAfyonkarahisar     0.001286               0.0  ...  0.001607   0.001731   \nAksaray            0.001451               0.0  ...  0.001451   0.001577   \nAmasya             0.000000               0.0  ...  0.002317   0.002536   \n\ncity                                                             Şırnak  \\\n               Foundation Only State vs All Foundation vs All  Combined   \nAdana                      0.0     0.005164               0.0  0.000282   \nAdıyaman                   0.0     0.012787               0.0  0.000656   \nAfyonkarahisar             0.0     0.001607               0.0  0.000000   \nAksaray                    0.0     0.001451               0.0  0.000000   \nAmasya                     0.0     0.002317               0.0  0.000000   \n\ncity                                                                      \n               State Only Foundation Only State vs All Foundation vs All  \nAdana            0.000321             0.0     0.000282               0.0  \nAdıyaman         0.000720             0.0     0.000656               0.0  \nAfyonkarahisar   0.000000             0.0     0.000000               0.0  \nAksaray          0.000000             0.0     0.000000               0.0  \nAmasya           0.000000             0.0     0.000000               0.0  \n\n[5 rows x 405 columns]",
      "text/html": "<div>\n<style scoped>\n    .dataframe tbody tr th:only-of-type {\n        vertical-align: middle;\n    }\n\n    .dataframe tbody tr th {\n        vertical-align: top;\n    }\n\n    .dataframe thead tr th {\n        text-align: left;\n    }\n</style>\n<table border=\"1\" class=\"dataframe\">\n  <thead>\n    <tr>\n      <th>city</th>\n      <th colspan=\"5\" halign=\"left\">Adana</th>\n      <th colspan=\"5\" halign=\"left\">Adıyaman</th>\n      <th>...</th>\n      <th colspan=\"5\" halign=\"left\">Şanlıurfa</th>\n      <th colspan=\"5\" halign=\"left\">Şırnak</th>\n    </tr>\n    <tr>\n      <th></th>\n      <th>Combined</th>\n      <th>State Only</th>\n      <th>Foundation Only</th>\n      <th>State vs All</th>\n      <th>Foundation vs All</th>\n      <th>Combined</th>\n      <th>State Only</th>\n      <th>Foundation Only</th>\n      <th>State vs All</th>\n      <th>Foundation vs All</th>\n      <th>...</th>\n      <th>Combined</th>\n      <th>State Only</th>\n      <th>Foundation Only</th>\n      <th>State vs All</th>\n      <th>Foundation vs All</th>\n      <th>Combined</th>\n      <th>State Only</th>\n      <th>Foundation Only</th>\n      <th>State vs All</th>\n      <th>Foundation vs All</th>\n    </tr>\n  </thead>\n  <tbody>\n    <tr>\n      <th>Adana</th>\n      <td>0.264201</td>\n      <td>0.301349</td>\n      <td>0.0</td>\n      <td>0.264201</td>\n      <td>0.0</td>\n      <td>0.005352</td>\n      <td>0.006104</td>\n      <td>0.0</td>\n      <td>0.005352</td>\n      <td>0.0</td>\n      <td>...</td>\n      <td>0.005164</td>\n      <td>0.005890</td>\n      <td>0.0</td>\n      <td>0.005164</td>\n      <td>0.0</td>\n      <td>0.000282</td>\n      <td>0.000321</td>\n      <td>0.0</td>\n      <td>0.000282</td>\n      <td>0.0</td>\n    </tr>\n    <tr>\n      <th>Adıyaman</th>\n      <td>0.022623</td>\n      <td>0.024838</td>\n      <td>0.0</td>\n      <td>0.022623</td>\n      <td>0.0</td>\n      <td>0.219672</td>\n      <td>0.241181</td>\n      <td>0.0</td>\n      <td>0.219672</td>\n      <td>0.0</td>\n      <td>...</td>\n      <td>0.012787</td>\n      <td>0.014039</td>\n      <td>0.0</td>\n      <td>0.012787</td>\n      <td>0.0</td>\n      <td>0.000656</td>\n      <td>0.000720</td>\n      <td>0.0</td>\n      <td>0.000656</td>\n      <td>0.0</td>\n    </tr>\n    <tr>\n      <th>Afyonkarahisar</th>\n      <td>0.000964</td>\n      <td>0.001039</td>\n      <td>0.0</td>\n      <td>0.000964</td>\n      <td>0.0</td>\n      <td>0.001286</td>\n      <td>0.001385</td>\n      <td>0.0</td>\n      <td>0.001286</td>\n      <td>0.0</td>\n      <td>...</td>\n      <td>0.001607</td>\n      <td>0.001731</td>\n      <td>0.0</td>\n      <td>0.001607</td>\n      <td>0.0</td>\n      <td>0.000000</td>\n      <td>0.000000</td>\n      <td>0.0</td>\n      <td>0.000000</td>\n      <td>0.0</td>\n    </tr>\n    <tr>\n      <th>Aksaray</th>\n      <td>0.015965</td>\n      <td>0.017350</td>\n      <td>0.0</td>\n      <td>0.015965</td>\n      <td>0.0</td>\n      <td>0.001451</td>\n      <td>0.001577</td>\n      <td>0.0</td>\n      <td>0.001451</td>\n      <td>0.0</td>\n      <td>...</td>\n      <td>0.001451</td>\n      <td>0.001577</td>\n      <td>0.0</td>\n      <td>0.001451</td>\n      <td>0.0</td>\n      <td>0.000000</td>\n      <td>0.000000</td>\n      <td>0.0</td>\n      <td>0.000000</td>\n      <td>0.0</td>\n    </tr>\n    <tr>\n      <th>Amasya</th>\n      <td>0.001159</td>\n      <td>0.001268</td>\n      <td>0.0</td>\n      <td>0.001159</td>\n      <td>0.0</td>\n      <td>0.000000</td>\n      <td>0.000000</td>\n      <td>0.0</td>\n      <td>0.000000</td>\n      <td>0.0</td>\n      <td>...</td>\n      <td>0.002317</td>\n      <td>0.002536</td>\n      <td>0.0</td>\n      <td>0.002317</td>\n      <td>0.0</td>\n      <td>0.000000</td>\n      <td>0.000000</td>\n      <td>0.0</td>\n      <td>0.000000</td>\n      <td>0.0</td>\n    </tr>\n  </tbody>\n</table>\n<p>5 rows × 405 columns</p>\n</div>"
     },
     "execution_count": 169,
     "metadata": {},
     "output_type": "execute_result"
    }
   ],
   "source": [
    "df_migration_ratio.head()"
   ],
   "metadata": {
    "collapsed": false,
    "ExecuteTime": {
     "end_time": "2025-09-20T16:26:49.253954400Z",
     "start_time": "2025-09-20T16:26:48.481956900Z"
    }
   },
   "id": "6b925c3aed2d5edd"
  },
  {
   "cell_type": "code",
   "execution_count": 170,
   "outputs": [
    {
     "data": {
      "text/plain": "city               Adana  Adıyaman Afyonkarahisar   Aksaray    Amasya  \\\n                Combined  Combined       Combined  Combined  Combined   \nAdana           0.264201  0.005352       0.004131  0.007323  0.002159   \nAdıyaman        0.022623  0.219672       0.003279  0.003607  0.003607   \nAfyonkarahisar  0.000964  0.001286       0.246866  0.008036  0.000964   \nAksaray         0.015965  0.001451       0.011611  0.235123  0.002419   \nAmasya          0.001159  0.000000       0.003476  0.001738  0.130359   \n\ncity              Ankara   Antalya   Ardahan    Artvin     Aydın  ...  \\\n                Combined  Combined  Combined  Combined  Combined  ...   \nAdana           0.075861  0.017088  0.002066  0.001972  0.009295  ...   \nAdıyaman        0.042623  0.016721  0.003934  0.003934  0.007213  ...   \nAfyonkarahisar  0.083574  0.026680  0.001929  0.001286  0.017036  ...   \nAksaray         0.127721  0.020803  0.000000  0.000968  0.010160  ...   \nAmasya          0.119351  0.016802  0.001738  0.007532  0.006373  ...   \n\ncity              Yalova    Yozgat Zonguldak Çanakkale   Çankırı     Çorum  \\\n                Combined  Combined  Combined  Combined  Combined  Combined   \nAdana           0.000657  0.005445  0.002347  0.004319  0.003849  0.001502   \nAdıyaman        0.000656  0.003934  0.001967  0.003934  0.003279  0.000328   \nAfyonkarahisar  0.001607  0.008357  0.001929  0.005464  0.006429  0.001929   \nAksaray         0.002419  0.020319  0.002903  0.001451  0.007741  0.000968   \nAmasya          0.003476  0.011008  0.006373  0.007532  0.007532  0.023754   \n\ncity            İstanbul     İzmir Şanlıurfa    Şırnak  \n                Combined  Combined  Combined  Combined  \nAdana           0.090226  0.030983  0.005164  0.000282  \nAdıyaman        0.096066  0.020984  0.012787  0.000656  \nAfyonkarahisar  0.068788  0.047573  0.001607  0.000000  \nAksaray         0.053701  0.018868  0.001451  0.000000  \nAmasya          0.088644  0.024334  0.002317  0.000000  \n\n[5 rows x 81 columns]",
      "text/html": "<div>\n<style scoped>\n    .dataframe tbody tr th:only-of-type {\n        vertical-align: middle;\n    }\n\n    .dataframe tbody tr th {\n        vertical-align: top;\n    }\n\n    .dataframe thead tr th {\n        text-align: left;\n    }\n</style>\n<table border=\"1\" class=\"dataframe\">\n  <thead>\n    <tr>\n      <th>city</th>\n      <th>Adana</th>\n      <th>Adıyaman</th>\n      <th>Afyonkarahisar</th>\n      <th>Aksaray</th>\n      <th>Amasya</th>\n      <th>Ankara</th>\n      <th>Antalya</th>\n      <th>Ardahan</th>\n      <th>Artvin</th>\n      <th>Aydın</th>\n      <th>...</th>\n      <th>Yalova</th>\n      <th>Yozgat</th>\n      <th>Zonguldak</th>\n      <th>Çanakkale</th>\n      <th>Çankırı</th>\n      <th>Çorum</th>\n      <th>İstanbul</th>\n      <th>İzmir</th>\n      <th>Şanlıurfa</th>\n      <th>Şırnak</th>\n    </tr>\n    <tr>\n      <th></th>\n      <th>Combined</th>\n      <th>Combined</th>\n      <th>Combined</th>\n      <th>Combined</th>\n      <th>Combined</th>\n      <th>Combined</th>\n      <th>Combined</th>\n      <th>Combined</th>\n      <th>Combined</th>\n      <th>Combined</th>\n      <th>...</th>\n      <th>Combined</th>\n      <th>Combined</th>\n      <th>Combined</th>\n      <th>Combined</th>\n      <th>Combined</th>\n      <th>Combined</th>\n      <th>Combined</th>\n      <th>Combined</th>\n      <th>Combined</th>\n      <th>Combined</th>\n    </tr>\n  </thead>\n  <tbody>\n    <tr>\n      <th>Adana</th>\n      <td>0.264201</td>\n      <td>0.005352</td>\n      <td>0.004131</td>\n      <td>0.007323</td>\n      <td>0.002159</td>\n      <td>0.075861</td>\n      <td>0.017088</td>\n      <td>0.002066</td>\n      <td>0.001972</td>\n      <td>0.009295</td>\n      <td>...</td>\n      <td>0.000657</td>\n      <td>0.005445</td>\n      <td>0.002347</td>\n      <td>0.004319</td>\n      <td>0.003849</td>\n      <td>0.001502</td>\n      <td>0.090226</td>\n      <td>0.030983</td>\n      <td>0.005164</td>\n      <td>0.000282</td>\n    </tr>\n    <tr>\n      <th>Adıyaman</th>\n      <td>0.022623</td>\n      <td>0.219672</td>\n      <td>0.003279</td>\n      <td>0.003607</td>\n      <td>0.003607</td>\n      <td>0.042623</td>\n      <td>0.016721</td>\n      <td>0.003934</td>\n      <td>0.003934</td>\n      <td>0.007213</td>\n      <td>...</td>\n      <td>0.000656</td>\n      <td>0.003934</td>\n      <td>0.001967</td>\n      <td>0.003934</td>\n      <td>0.003279</td>\n      <td>0.000328</td>\n      <td>0.096066</td>\n      <td>0.020984</td>\n      <td>0.012787</td>\n      <td>0.000656</td>\n    </tr>\n    <tr>\n      <th>Afyonkarahisar</th>\n      <td>0.000964</td>\n      <td>0.001286</td>\n      <td>0.246866</td>\n      <td>0.008036</td>\n      <td>0.000964</td>\n      <td>0.083574</td>\n      <td>0.026680</td>\n      <td>0.001929</td>\n      <td>0.001286</td>\n      <td>0.017036</td>\n      <td>...</td>\n      <td>0.001607</td>\n      <td>0.008357</td>\n      <td>0.001929</td>\n      <td>0.005464</td>\n      <td>0.006429</td>\n      <td>0.001929</td>\n      <td>0.068788</td>\n      <td>0.047573</td>\n      <td>0.001607</td>\n      <td>0.000000</td>\n    </tr>\n    <tr>\n      <th>Aksaray</th>\n      <td>0.015965</td>\n      <td>0.001451</td>\n      <td>0.011611</td>\n      <td>0.235123</td>\n      <td>0.002419</td>\n      <td>0.127721</td>\n      <td>0.020803</td>\n      <td>0.000000</td>\n      <td>0.000968</td>\n      <td>0.010160</td>\n      <td>...</td>\n      <td>0.002419</td>\n      <td>0.020319</td>\n      <td>0.002903</td>\n      <td>0.001451</td>\n      <td>0.007741</td>\n      <td>0.000968</td>\n      <td>0.053701</td>\n      <td>0.018868</td>\n      <td>0.001451</td>\n      <td>0.000000</td>\n    </tr>\n    <tr>\n      <th>Amasya</th>\n      <td>0.001159</td>\n      <td>0.000000</td>\n      <td>0.003476</td>\n      <td>0.001738</td>\n      <td>0.130359</td>\n      <td>0.119351</td>\n      <td>0.016802</td>\n      <td>0.001738</td>\n      <td>0.007532</td>\n      <td>0.006373</td>\n      <td>...</td>\n      <td>0.003476</td>\n      <td>0.011008</td>\n      <td>0.006373</td>\n      <td>0.007532</td>\n      <td>0.007532</td>\n      <td>0.023754</td>\n      <td>0.088644</td>\n      <td>0.024334</td>\n      <td>0.002317</td>\n      <td>0.000000</td>\n    </tr>\n  </tbody>\n</table>\n<p>5 rows × 81 columns</p>\n</div>"
     },
     "execution_count": 170,
     "metadata": {},
     "output_type": "execute_result"
    }
   ],
   "source": [
    "df_migration_ratio.loc[:, (slice(None), \"Combined\")].head()"
   ],
   "metadata": {
    "collapsed": false,
    "ExecuteTime": {
     "end_time": "2025-09-20T16:27:17.788274600Z",
     "start_time": "2025-09-20T16:27:12.812221600Z"
    }
   },
   "id": "273650d902aee2b"
  },
  {
   "cell_type": "code",
   "execution_count": 154,
   "outputs": [
    {
     "data": {
      "text/plain": "Index(['Adana', 'Adana', 'Adana', 'Adıyaman', 'Adıyaman', 'Adıyaman',\n       'Afyonkarahisar', 'Afyonkarahisar', 'Afyonkarahisar', 'Aksaray',\n       ...\n       'İstanbul', 'İzmir', 'İzmir', 'İzmir', 'Şanlıurfa', 'Şanlıurfa',\n       'Şanlıurfa', 'Şırnak', 'Şırnak', 'Şırnak'],\n      dtype='object', name='city', length=243)"
     },
     "execution_count": 154,
     "metadata": {},
     "output_type": "execute_result"
    }
   ],
   "source": [
    "df_migration.columns.get_level_values(0)"
   ],
   "metadata": {
    "collapsed": false,
    "ExecuteTime": {
     "end_time": "2025-09-20T16:00:54.249618200Z",
     "start_time": "2025-09-20T16:00:54.202238Z"
    }
   },
   "id": "21ade05c289f6dc6"
  },
  {
   "cell_type": "code",
   "execution_count": 143,
   "outputs": [
    {
     "name": "stdout",
     "output_type": "stream",
     "text": [
      "identical rows ?  True\n",
      "identical cols ?  False\n"
     ]
    }
   ],
   "source": [
    "lhs = df_migration_ratio.loc[:, (slice(None), \"Combined\")]\n",
    "rhs = df_migration.loc[:, (slice(None), \"Total\")].div(\n",
    "          df_migration.loc[:, (slice(None), \"Total\")].sum(axis=1), axis=0)\n",
    "\n",
    "print(\"identical rows ? \", lhs.index.equals(rhs.index))\n",
    "print(\"identical cols ? \", lhs.columns.equals(rhs.columns))"
   ],
   "metadata": {
    "collapsed": false,
    "ExecuteTime": {
     "end_time": "2025-09-20T15:56:09.228569100Z",
     "start_time": "2025-09-20T15:56:09.200778100Z"
    }
   },
   "id": "11f300cb1431e68c"
  },
  {
   "cell_type": "code",
   "execution_count": 64,
   "outputs": [
    {
     "data": {
      "text/plain": "                   Adana                                          \\\n                Combined State Only Foundation Only State vs All   \nAdana           0.264201   0.301349             0.0     0.264201   \nAdıyaman        0.022623   0.024838             0.0     0.022623   \nAfyonkarahisar  0.000964   0.001039             0.0     0.000964   \nAksaray         0.015965   0.017350             0.0     0.015965   \nAmasya          0.001159   0.001268             0.0     0.001159   \n\n                                  Adıyaman                             \\\n               Foundation vs All  Combined State Only Foundation Only   \nAdana                        0.0  0.005352   0.006104             0.0   \nAdıyaman                     0.0  0.219672   0.241181             0.0   \nAfyonkarahisar               0.0  0.001286   0.001385             0.0   \nAksaray                      0.0  0.001451   0.001577             0.0   \nAmasya                       0.0  0.000000   0.000000             0.0   \n\n                                               ... Şanlıurfa             \\\n               State vs All Foundation vs All  ...  Combined State Only   \nAdana              0.005352               0.0  ...  0.005164   0.005890   \nAdıyaman           0.219672               0.0  ...  0.012787   0.014039   \nAfyonkarahisar     0.001286               0.0  ...  0.001607   0.001731   \nAksaray            0.001451               0.0  ...  0.001451   0.001577   \nAmasya             0.000000               0.0  ...  0.002317   0.002536   \n\n                                                                 Şırnak  \\\n               Foundation Only State vs All Foundation vs All  Combined   \nAdana                      0.0     0.005164               0.0  0.000282   \nAdıyaman                   0.0     0.012787               0.0  0.000656   \nAfyonkarahisar             0.0     0.001607               0.0  0.000000   \nAksaray                    0.0     0.001451               0.0  0.000000   \nAmasya                     0.0     0.002317               0.0  0.000000   \n\n                                                                          \n               State Only Foundation Only State vs All Foundation vs All  \nAdana            0.000321             0.0     0.000282               0.0  \nAdıyaman         0.000720             0.0     0.000656               0.0  \nAfyonkarahisar   0.000000             0.0     0.000000               0.0  \nAksaray          0.000000             0.0     0.000000               0.0  \nAmasya           0.000000             0.0     0.000000               0.0  \n\n[5 rows x 405 columns]",
      "text/html": "<div>\n<style scoped>\n    .dataframe tbody tr th:only-of-type {\n        vertical-align: middle;\n    }\n\n    .dataframe tbody tr th {\n        vertical-align: top;\n    }\n\n    .dataframe thead tr th {\n        text-align: left;\n    }\n</style>\n<table border=\"1\" class=\"dataframe\">\n  <thead>\n    <tr>\n      <th></th>\n      <th colspan=\"5\" halign=\"left\">Adana</th>\n      <th colspan=\"5\" halign=\"left\">Adıyaman</th>\n      <th>...</th>\n      <th colspan=\"5\" halign=\"left\">Şanlıurfa</th>\n      <th colspan=\"5\" halign=\"left\">Şırnak</th>\n    </tr>\n    <tr>\n      <th></th>\n      <th>Combined</th>\n      <th>State Only</th>\n      <th>Foundation Only</th>\n      <th>State vs All</th>\n      <th>Foundation vs All</th>\n      <th>Combined</th>\n      <th>State Only</th>\n      <th>Foundation Only</th>\n      <th>State vs All</th>\n      <th>Foundation vs All</th>\n      <th>...</th>\n      <th>Combined</th>\n      <th>State Only</th>\n      <th>Foundation Only</th>\n      <th>State vs All</th>\n      <th>Foundation vs All</th>\n      <th>Combined</th>\n      <th>State Only</th>\n      <th>Foundation Only</th>\n      <th>State vs All</th>\n      <th>Foundation vs All</th>\n    </tr>\n  </thead>\n  <tbody>\n    <tr>\n      <th>Adana</th>\n      <td>0.264201</td>\n      <td>0.301349</td>\n      <td>0.0</td>\n      <td>0.264201</td>\n      <td>0.0</td>\n      <td>0.005352</td>\n      <td>0.006104</td>\n      <td>0.0</td>\n      <td>0.005352</td>\n      <td>0.0</td>\n      <td>...</td>\n      <td>0.005164</td>\n      <td>0.005890</td>\n      <td>0.0</td>\n      <td>0.005164</td>\n      <td>0.0</td>\n      <td>0.000282</td>\n      <td>0.000321</td>\n      <td>0.0</td>\n      <td>0.000282</td>\n      <td>0.0</td>\n    </tr>\n    <tr>\n      <th>Adıyaman</th>\n      <td>0.022623</td>\n      <td>0.024838</td>\n      <td>0.0</td>\n      <td>0.022623</td>\n      <td>0.0</td>\n      <td>0.219672</td>\n      <td>0.241181</td>\n      <td>0.0</td>\n      <td>0.219672</td>\n      <td>0.0</td>\n      <td>...</td>\n      <td>0.012787</td>\n      <td>0.014039</td>\n      <td>0.0</td>\n      <td>0.012787</td>\n      <td>0.0</td>\n      <td>0.000656</td>\n      <td>0.000720</td>\n      <td>0.0</td>\n      <td>0.000656</td>\n      <td>0.0</td>\n    </tr>\n    <tr>\n      <th>Afyonkarahisar</th>\n      <td>0.000964</td>\n      <td>0.001039</td>\n      <td>0.0</td>\n      <td>0.000964</td>\n      <td>0.0</td>\n      <td>0.001286</td>\n      <td>0.001385</td>\n      <td>0.0</td>\n      <td>0.001286</td>\n      <td>0.0</td>\n      <td>...</td>\n      <td>0.001607</td>\n      <td>0.001731</td>\n      <td>0.0</td>\n      <td>0.001607</td>\n      <td>0.0</td>\n      <td>0.000000</td>\n      <td>0.000000</td>\n      <td>0.0</td>\n      <td>0.000000</td>\n      <td>0.0</td>\n    </tr>\n    <tr>\n      <th>Aksaray</th>\n      <td>0.015965</td>\n      <td>0.017350</td>\n      <td>0.0</td>\n      <td>0.015965</td>\n      <td>0.0</td>\n      <td>0.001451</td>\n      <td>0.001577</td>\n      <td>0.0</td>\n      <td>0.001451</td>\n      <td>0.0</td>\n      <td>...</td>\n      <td>0.001451</td>\n      <td>0.001577</td>\n      <td>0.0</td>\n      <td>0.001451</td>\n      <td>0.0</td>\n      <td>0.000000</td>\n      <td>0.000000</td>\n      <td>0.0</td>\n      <td>0.000000</td>\n      <td>0.0</td>\n    </tr>\n    <tr>\n      <th>Amasya</th>\n      <td>0.001159</td>\n      <td>0.001268</td>\n      <td>0.0</td>\n      <td>0.001159</td>\n      <td>0.0</td>\n      <td>0.000000</td>\n      <td>0.000000</td>\n      <td>0.0</td>\n      <td>0.000000</td>\n      <td>0.0</td>\n      <td>...</td>\n      <td>0.002317</td>\n      <td>0.002536</td>\n      <td>0.0</td>\n      <td>0.002317</td>\n      <td>0.0</td>\n      <td>0.000000</td>\n      <td>0.000000</td>\n      <td>0.0</td>\n      <td>0.000000</td>\n      <td>0.0</td>\n    </tr>\n  </tbody>\n</table>\n<p>5 rows × 405 columns</p>\n</div>"
     },
     "execution_count": 64,
     "metadata": {},
     "output_type": "execute_result"
    }
   ],
   "source": [
    "import pandas as pd\n",
    "import locale\n",
    "import numpy as np\n",
    "df = pd.read_pickle('data/preprocessed/high_edu.pkl')\n",
    "# SELECTING PROVINCES\n",
    "df = df[df[\"General\"][\"scholarship\"] != \"AÖ-Ücretli\"]  # exclude distant education\n",
    "mapping = {'General': ['city', \"uni_type\"],\n",
    "       'Provinces': list(set(df[\"Provinces\"].columns) - {\"Total\", \"Unknown\", \"Belirsiz\", \"Toplam\"})}\n",
    "# Generate column list\n",
    "selected_columns = [(top, sub) for top, subs in mapping.items() for sub in subs]\n",
    "df_migration = df[selected_columns]\n",
    "df_migration.columns = df_migration.columns.droplevel()\n",
    "df_migration = df_migration.groupby([\"city\", \"uni_type\"]).sum()\n",
    "df_migration = df_migration.sort_index(key=lambda x: pd.Index([locale.strxfrm(e) for e in x]))\n",
    "df_migration = df_migration.T\n",
    "df_migration = df_migration.sort_index(key=lambda x: pd.Index([locale.strxfrm(e) for e in x]))\n",
    "all_provinces = df_migration.index.unique()\n",
    "df_migration.columns = df_migration.columns.set_levels(df_migration.columns.levels[1].str.replace('Devlet', 'State').str.replace('Vakıf', 'Foundation'), level=1)\n",
    "# = df_migration.loc[:, (slice(None), \"State\")].columns.get_level_values( 0)\n",
    "foundation_provinces= df_migration.loc[:, (slice(None), \"Foundation\")].columns.get_level_values(0)\n",
    "# Create df_migration\n",
    "mux = pd.MultiIndex.from_product([all_provinces, [\"State\", \"Foundation\",\"All\"]])\n",
    "df_migration = df_migration.reindex(columns=mux, fill_value=0)\n",
    "# add “All” sub-column (level-1) for every province ------------\n",
    "df_migration.loc[:, (slice(None), \"All\")] =   df_migration.loc[:, (slice(None), \"State\")].values +   df_migration.loc[:, (slice(None), \"Foundation\")].values\n",
    "\n",
    "# Create df_migration_ratio\n",
    "mux = pd.MultiIndex.from_product( [provinces, [\"Combined\", \"State Only\", \"Foundation Only\", \"State vs All\", \"Foundation vs All\"]])\n",
    "df_migration_ratio = pd.DataFrame(np.nan, index=df_migration.index, columns=mux, dtype='float64')\n",
    "df_migration_ratio.loc[:, (slice(None), \"Combined\")] = df_migration.loc[:, (slice(None), \"All\")].div(df_migration.loc[:, (slice(None), \"All\")].sum(axis=1), axis=0).values\n",
    "df_migration_ratio.loc[:, (slice(None), \"State Only\")] = df_migration.loc[:, (slice(None), \"State\")].div( df_migration.loc[:, (slice(None), \"State\")].sum(axis=1), axis=0).values\n",
    "df_migration_ratio.loc[:, (slice(None), \"Foundation Only\")] = df_migration.loc[:,(slice(None), \"Foundation\")].div(df_migration.loc[:, (slice(None), \"Foundation\")].sum(axis=1), axis=0).values\n",
    "df_migration_ratio.loc[:, (slice(None), \"State vs All\")] = df_migration.loc[:, (slice(None), \"State\")].div(df_migration.loc[:, (slice(None), \"All\")].sum(axis=1), axis=0).values\n",
    "df_migration_ratio.loc[:, (slice(None), \"Foundation vs All\")] = df_migration.loc[:, (slice(None), \"Foundation\")].div( df_migration.loc[:, (slice(None), \"All\")].sum(axis=1), axis=0).values\n",
    "df_migration_ratio.head()"
   ],
   "metadata": {
    "collapsed": false,
    "ExecuteTime": {
     "end_time": "2025-09-21T13:14:01.204975300Z",
     "start_time": "2025-09-21T13:14:01.060675900Z"
    }
   },
   "id": "f51bab57f9846ef5"
  },
  {
   "cell_type": "code",
   "execution_count": 65,
   "outputs": [
    {
     "data": {
      "text/plain": "          Adana                 Adıyaman                 Afyonkarahisar  \\\n          State Foundation  All    State Foundation  All          State   \nÇorum         6          0    6        0          0    0             10   \nİstanbul    102          0  102       43          0   43            136   \nİzmir        44          0   44       16          0   16            218   \nŞanlıurfa   118          0  118      180          0  180             29   \nŞırnak       24          0   24       17          0   17              9   \n\n                          Aksaray  ... İstanbul İzmir                   \\\n          Foundation  All   State  ...      All State Foundation   All   \nÇorum              0   10       5  ...      199    69          0    69   \nİstanbul           0  136     107  ...    55370  1027         46  1073   \nİzmir              0  218      49  ...     1641  5466       2639  8105   \nŞanlıurfa          0   29      28  ...      785   142          6   148   \nŞırnak             0    9       4  ...      138    74          6    80   \n\n          Şanlıurfa                  Şırnak                  \n              State Foundation   All  State Foundation  All  \nÇorum             2          0     2      0          0    0  \nİstanbul         60          0    60     56          0   56  \nİzmir             9          0     9      8          0    8  \nŞanlıurfa      1713          0  1713     11          0   11  \nŞırnak           20          0    20    210          0  210  \n\n[5 rows x 243 columns]",
      "text/html": "<div>\n<style scoped>\n    .dataframe tbody tr th:only-of-type {\n        vertical-align: middle;\n    }\n\n    .dataframe tbody tr th {\n        vertical-align: top;\n    }\n\n    .dataframe thead tr th {\n        text-align: left;\n    }\n</style>\n<table border=\"1\" class=\"dataframe\">\n  <thead>\n    <tr>\n      <th></th>\n      <th colspan=\"3\" halign=\"left\">Adana</th>\n      <th colspan=\"3\" halign=\"left\">Adıyaman</th>\n      <th colspan=\"3\" halign=\"left\">Afyonkarahisar</th>\n      <th>Aksaray</th>\n      <th>...</th>\n      <th>İstanbul</th>\n      <th colspan=\"3\" halign=\"left\">İzmir</th>\n      <th colspan=\"3\" halign=\"left\">Şanlıurfa</th>\n      <th colspan=\"3\" halign=\"left\">Şırnak</th>\n    </tr>\n    <tr>\n      <th></th>\n      <th>State</th>\n      <th>Foundation</th>\n      <th>All</th>\n      <th>State</th>\n      <th>Foundation</th>\n      <th>All</th>\n      <th>State</th>\n      <th>Foundation</th>\n      <th>All</th>\n      <th>State</th>\n      <th>...</th>\n      <th>All</th>\n      <th>State</th>\n      <th>Foundation</th>\n      <th>All</th>\n      <th>State</th>\n      <th>Foundation</th>\n      <th>All</th>\n      <th>State</th>\n      <th>Foundation</th>\n      <th>All</th>\n    </tr>\n  </thead>\n  <tbody>\n    <tr>\n      <th>Çorum</th>\n      <td>6</td>\n      <td>0</td>\n      <td>6</td>\n      <td>0</td>\n      <td>0</td>\n      <td>0</td>\n      <td>10</td>\n      <td>0</td>\n      <td>10</td>\n      <td>5</td>\n      <td>...</td>\n      <td>199</td>\n      <td>69</td>\n      <td>0</td>\n      <td>69</td>\n      <td>2</td>\n      <td>0</td>\n      <td>2</td>\n      <td>0</td>\n      <td>0</td>\n      <td>0</td>\n    </tr>\n    <tr>\n      <th>İstanbul</th>\n      <td>102</td>\n      <td>0</td>\n      <td>102</td>\n      <td>43</td>\n      <td>0</td>\n      <td>43</td>\n      <td>136</td>\n      <td>0</td>\n      <td>136</td>\n      <td>107</td>\n      <td>...</td>\n      <td>55370</td>\n      <td>1027</td>\n      <td>46</td>\n      <td>1073</td>\n      <td>60</td>\n      <td>0</td>\n      <td>60</td>\n      <td>56</td>\n      <td>0</td>\n      <td>56</td>\n    </tr>\n    <tr>\n      <th>İzmir</th>\n      <td>44</td>\n      <td>0</td>\n      <td>44</td>\n      <td>16</td>\n      <td>0</td>\n      <td>16</td>\n      <td>218</td>\n      <td>0</td>\n      <td>218</td>\n      <td>49</td>\n      <td>...</td>\n      <td>1641</td>\n      <td>5466</td>\n      <td>2639</td>\n      <td>8105</td>\n      <td>9</td>\n      <td>0</td>\n      <td>9</td>\n      <td>8</td>\n      <td>0</td>\n      <td>8</td>\n    </tr>\n    <tr>\n      <th>Şanlıurfa</th>\n      <td>118</td>\n      <td>0</td>\n      <td>118</td>\n      <td>180</td>\n      <td>0</td>\n      <td>180</td>\n      <td>29</td>\n      <td>0</td>\n      <td>29</td>\n      <td>28</td>\n      <td>...</td>\n      <td>785</td>\n      <td>142</td>\n      <td>6</td>\n      <td>148</td>\n      <td>1713</td>\n      <td>0</td>\n      <td>1713</td>\n      <td>11</td>\n      <td>0</td>\n      <td>11</td>\n    </tr>\n    <tr>\n      <th>Şırnak</th>\n      <td>24</td>\n      <td>0</td>\n      <td>24</td>\n      <td>17</td>\n      <td>0</td>\n      <td>17</td>\n      <td>9</td>\n      <td>0</td>\n      <td>9</td>\n      <td>4</td>\n      <td>...</td>\n      <td>138</td>\n      <td>74</td>\n      <td>6</td>\n      <td>80</td>\n      <td>20</td>\n      <td>0</td>\n      <td>20</td>\n      <td>210</td>\n      <td>0</td>\n      <td>210</td>\n    </tr>\n  </tbody>\n</table>\n<p>5 rows × 243 columns</p>\n</div>"
     },
     "execution_count": 65,
     "metadata": {},
     "output_type": "execute_result"
    }
   ],
   "source": [
    "\n",
    "#df_migration = df_migration.sort_index(key=lambda x: pd.Index([locale.strxfrm(e) for e in x]),level=[0,1])\n",
    "df_migration.tail()"
   ],
   "metadata": {
    "collapsed": false,
    "ExecuteTime": {
     "end_time": "2025-09-21T13:14:09.594801300Z",
     "start_time": "2025-09-21T13:14:09.499320800Z"
    }
   },
   "id": "fa4ab929fd4817f4"
  },
  {
   "cell_type": "code",
   "execution_count": 66,
   "outputs": [
    {
     "data": {
      "text/plain": "city            Adana Adıyaman Afyonkarahisar Aksaray Amasya Ankara        \\\nuni_type       Devlet   Devlet         Devlet  Devlet Devlet Devlet Vakıf   \nAdana            2814       57             44      78     23    560   248   \nAdıyaman           69      670             10      11     11    101    29   \nAfyonkarahisar      3        4            768      25      3    193    67   \nAksaray            33        3             24     486      5    209    55   \nAmasya              2        0              6       3    225    148    58   \n\ncity           Antalya       Ardahan  ... Zonguldak Çanakkale Çankırı  Çorum  \\\nuni_type        Devlet Vakıf  Devlet  ...    Devlet    Devlet  Devlet Devlet   \nAdana              166    16      22  ...        25        46      41     16   \nAdıyaman            48     3      12  ...         6        12      10      1   \nAfyonkarahisar      74     9       6  ...         6        17      20      6   \nAksaray             39     4       0  ...         6         3      16      2   \nAmasya              25     4       3  ...        11        13      13     41   \n\ncity           İstanbul        İzmir       Şanlıurfa Şırnak  \nuni_type         Devlet Vakıf Devlet Vakıf    Devlet Devlet  \nAdana               375   586    298    32        55      3  \nAdıyaman            115   178     57     7        39      2  \nAfyonkarahisar      104   110    133    15         5      0  \nAksaray              60    51     36     3         3      0  \nAmasya               82    71     40     2         4      0  \n\n[5 rows x 93 columns]",
      "text/html": "<div>\n<style scoped>\n    .dataframe tbody tr th:only-of-type {\n        vertical-align: middle;\n    }\n\n    .dataframe tbody tr th {\n        vertical-align: top;\n    }\n\n    .dataframe thead tr th {\n        text-align: left;\n    }\n</style>\n<table border=\"1\" class=\"dataframe\">\n  <thead>\n    <tr>\n      <th>city</th>\n      <th>Adana</th>\n      <th>Adıyaman</th>\n      <th>Afyonkarahisar</th>\n      <th>Aksaray</th>\n      <th>Amasya</th>\n      <th colspan=\"2\" halign=\"left\">Ankara</th>\n      <th colspan=\"2\" halign=\"left\">Antalya</th>\n      <th>Ardahan</th>\n      <th>...</th>\n      <th>Zonguldak</th>\n      <th>Çanakkale</th>\n      <th>Çankırı</th>\n      <th>Çorum</th>\n      <th colspan=\"2\" halign=\"left\">İstanbul</th>\n      <th colspan=\"2\" halign=\"left\">İzmir</th>\n      <th>Şanlıurfa</th>\n      <th>Şırnak</th>\n    </tr>\n    <tr>\n      <th>uni_type</th>\n      <th>Devlet</th>\n      <th>Devlet</th>\n      <th>Devlet</th>\n      <th>Devlet</th>\n      <th>Devlet</th>\n      <th>Devlet</th>\n      <th>Vakıf</th>\n      <th>Devlet</th>\n      <th>Vakıf</th>\n      <th>Devlet</th>\n      <th>...</th>\n      <th>Devlet</th>\n      <th>Devlet</th>\n      <th>Devlet</th>\n      <th>Devlet</th>\n      <th>Devlet</th>\n      <th>Vakıf</th>\n      <th>Devlet</th>\n      <th>Vakıf</th>\n      <th>Devlet</th>\n      <th>Devlet</th>\n    </tr>\n  </thead>\n  <tbody>\n    <tr>\n      <th>Adana</th>\n      <td>2814</td>\n      <td>57</td>\n      <td>44</td>\n      <td>78</td>\n      <td>23</td>\n      <td>560</td>\n      <td>248</td>\n      <td>166</td>\n      <td>16</td>\n      <td>22</td>\n      <td>...</td>\n      <td>25</td>\n      <td>46</td>\n      <td>41</td>\n      <td>16</td>\n      <td>375</td>\n      <td>586</td>\n      <td>298</td>\n      <td>32</td>\n      <td>55</td>\n      <td>3</td>\n    </tr>\n    <tr>\n      <th>Adıyaman</th>\n      <td>69</td>\n      <td>670</td>\n      <td>10</td>\n      <td>11</td>\n      <td>11</td>\n      <td>101</td>\n      <td>29</td>\n      <td>48</td>\n      <td>3</td>\n      <td>12</td>\n      <td>...</td>\n      <td>6</td>\n      <td>12</td>\n      <td>10</td>\n      <td>1</td>\n      <td>115</td>\n      <td>178</td>\n      <td>57</td>\n      <td>7</td>\n      <td>39</td>\n      <td>2</td>\n    </tr>\n    <tr>\n      <th>Afyonkarahisar</th>\n      <td>3</td>\n      <td>4</td>\n      <td>768</td>\n      <td>25</td>\n      <td>3</td>\n      <td>193</td>\n      <td>67</td>\n      <td>74</td>\n      <td>9</td>\n      <td>6</td>\n      <td>...</td>\n      <td>6</td>\n      <td>17</td>\n      <td>20</td>\n      <td>6</td>\n      <td>104</td>\n      <td>110</td>\n      <td>133</td>\n      <td>15</td>\n      <td>5</td>\n      <td>0</td>\n    </tr>\n    <tr>\n      <th>Aksaray</th>\n      <td>33</td>\n      <td>3</td>\n      <td>24</td>\n      <td>486</td>\n      <td>5</td>\n      <td>209</td>\n      <td>55</td>\n      <td>39</td>\n      <td>4</td>\n      <td>0</td>\n      <td>...</td>\n      <td>6</td>\n      <td>3</td>\n      <td>16</td>\n      <td>2</td>\n      <td>60</td>\n      <td>51</td>\n      <td>36</td>\n      <td>3</td>\n      <td>3</td>\n      <td>0</td>\n    </tr>\n    <tr>\n      <th>Amasya</th>\n      <td>2</td>\n      <td>0</td>\n      <td>6</td>\n      <td>3</td>\n      <td>225</td>\n      <td>148</td>\n      <td>58</td>\n      <td>25</td>\n      <td>4</td>\n      <td>3</td>\n      <td>...</td>\n      <td>11</td>\n      <td>13</td>\n      <td>13</td>\n      <td>41</td>\n      <td>82</td>\n      <td>71</td>\n      <td>40</td>\n      <td>2</td>\n      <td>4</td>\n      <td>0</td>\n    </tr>\n  </tbody>\n</table>\n<p>5 rows × 93 columns</p>\n</div>"
     },
     "execution_count": 66,
     "metadata": {},
     "output_type": "execute_result"
    }
   ],
   "source": [
    "df = pd.read_pickle('data/preprocessed/high_edu.pkl')\n",
    "# SELECTING PROVINCES\n",
    "df = df[df[\"General\"][\"scholarship\"] != \"AÖ-Ücretli\"]  # exclude distant education\n",
    "mapping = {'General': ['city', \"uni_type\"],\n",
    "           'Provinces': list(set(df[\"Provinces\"].columns) - {\"Total\", \"Unknown\", \"Belirsiz\", \"Toplam\"})}\n",
    "# Generate column list\n",
    "selected_columns = [(top, sub) for top, subs in mapping.items() for sub in subs]\n",
    "df_migration = df[selected_columns]\n",
    "df_migration.columns = df_migration.columns.droplevel()\n",
    "df_migration = df_migration.groupby([\"city\", \"uni_type\"]).sum()\n",
    "df_migration = df_migration.sort_index(key=lambda x: pd.Index([locale.strxfrm(e) for e in x]))\n",
    "df_migration = df_migration.T\n",
    "df_migration = df_migration.sort_index(key=lambda x: pd.Index([locale.strxfrm(e) for e in x]))\n",
    "df_migration.head()"
   ],
   "metadata": {
    "collapsed": false,
    "ExecuteTime": {
     "end_time": "2025-09-21T13:18:21.133525400Z",
     "start_time": "2025-09-21T13:18:21.014691800Z"
    }
   },
   "id": "e4b4bcc989ad3ff8"
  },
  {
   "cell_type": "code",
   "execution_count": 67,
   "outputs": [
    {
     "data": {
      "text/plain": "(81, 93)"
     },
     "execution_count": 67,
     "metadata": {},
     "output_type": "execute_result"
    }
   ],
   "source": [
    "df_migration.shape"
   ],
   "metadata": {
    "collapsed": false,
    "ExecuteTime": {
     "end_time": "2025-09-21T13:18:29.868101Z",
     "start_time": "2025-09-21T13:18:29.740826500Z"
    }
   },
   "id": "92792d59f3f608f"
  },
  {
   "cell_type": "code",
   "execution_count": null,
   "outputs": [],
   "source": [],
   "metadata": {
    "collapsed": false
   },
   "id": "e02e407f2a71c44d"
  }
 ],
 "metadata": {
  "kernelspec": {
   "display_name": "Python 3 (ipykernel)",
   "language": "python",
   "name": "python3"
  },
  "language_info": {
   "codemirror_mode": {
    "name": "ipython",
    "version": 3
   },
   "file_extension": ".py",
   "mimetype": "text/x-python",
   "name": "python",
   "nbconvert_exporter": "python",
   "pygments_lexer": "ipython3",
   "version": "3.9.19"
  }
 },
 "nbformat": 4,
 "nbformat_minor": 5
}
